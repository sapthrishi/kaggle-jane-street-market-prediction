{
 "cells": [
  {
   "cell_type": "code",
   "execution_count": 1,
   "metadata": {
    "execution": {
     "iopub.execute_input": "2021-01-16T16:50:13.485566Z",
     "iopub.status.busy": "2021-01-16T16:50:13.484992Z",
     "iopub.status.idle": "2021-01-16T16:50:13.509846Z",
     "shell.execute_reply": "2021-01-16T16:50:13.508842Z"
    },
    "papermill": {
     "duration": 0.046736,
     "end_time": "2021-01-16T16:50:13.510031",
     "exception": false,
     "start_time": "2021-01-16T16:50:13.463295",
     "status": "completed"
    },
    "tags": []
   },
   "outputs": [
    {
     "name": "stdout",
     "output_type": "stream",
     "text": [
      "/kaggle/input/jane-embed-nn-model-rishi/jane_embed_nn_model_rishi.pt\n",
      "/kaggle/input/jane-street-market-prediction/example_sample_submission.csv\n",
      "/kaggle/input/jane-street-market-prediction/features.csv\n",
      "/kaggle/input/jane-street-market-prediction/example_test.csv\n",
      "/kaggle/input/jane-street-market-prediction/train.csv\n",
      "/kaggle/input/jane-street-market-prediction/janestreet/competition.cpython-37m-x86_64-linux-gnu.so\n",
      "/kaggle/input/jane-street-market-prediction/janestreet/__init__.py\n"
     ]
    }
   ],
   "source": [
    "# This Python 3 environment comes with many helpful analytics libraries installed\n",
    "# It is defined by the kaggle/python Docker image: https://github.com/kaggle/docker-python\n",
    "# For example, here's several helpful packages to load\n",
    "\n",
    "import numpy as np # linear algebra\n",
    "import pandas as pd # data processing, CSV file I/O (e.g. pd.read_csv)\n",
    "\n",
    "# Input data files are available in the read-only \"../input/\" directory\n",
    "# For example, running this (by clicking run or pressing Shift+Enter) will list all files under the input directory\n",
    "\n",
    "import os\n",
    "for dirname, _, filenames in os.walk('/kaggle/input'):\n",
    "    for filename in filenames:\n",
    "        print(os.path.join(dirname, filename))\n",
    "\n",
    "# You can write up to 20GB to the current directory (/kaggle/working/) that gets preserved as output when you create a version using \"Save & Run All\" \n",
    "# You can also write temporary files to /kaggle/temp/, but they won't be saved outside of the current session"
   ]
  },
  {
   "cell_type": "code",
   "execution_count": 3,
   "metadata": {
    "execution": {
     "iopub.execute_input": "2021-01-16T16:50:13.562517Z",
     "iopub.status.busy": "2021-01-16T16:50:13.561897Z",
     "iopub.status.idle": "2021-01-16T16:50:24.163300Z",
     "shell.execute_reply": "2021-01-16T16:50:24.162539Z"
    },
    "papermill": {
     "duration": 10.62759,
     "end_time": "2021-01-16T16:50:24.163443",
     "exception": false,
     "start_time": "2021-01-16T16:50:13.535853",
     "status": "completed"
    },
    "tags": []
   },
   "outputs": [
    {
     "data": {
      "text/html": [
       "<style type='text/css'>\n",
       ".datatable table.frame { margin-bottom: 0; }\n",
       ".datatable table.frame thead { border-bottom: none; }\n",
       ".datatable table.frame tr.coltypes td {  color: #FFFFFF;  line-height: 6px;  padding: 0 0.5em;}\n",
       ".datatable .bool    { background: #DDDD99; }\n",
       ".datatable .object  { background: #565656; }\n",
       ".datatable .int     { background: #5D9E5D; }\n",
       ".datatable .float   { background: #4040CC; }\n",
       ".datatable .str     { background: #CC4040; }\n",
       ".datatable .row_index {  background: var(--jp-border-color3);  border-right: 1px solid var(--jp-border-color0);  color: var(--jp-ui-font-color3);  font-size: 9px;}\n",
       ".datatable .frame tr.coltypes .row_index {  background: var(--jp-border-color0);}\n",
       ".datatable th:nth-child(2) { padding-left: 12px; }\n",
       ".datatable .hellipsis {  color: var(--jp-cell-editor-border-color);}\n",
       ".datatable .vellipsis {  background: var(--jp-layout-color0);  color: var(--jp-cell-editor-border-color);}\n",
       ".datatable .na {  color: var(--jp-cell-editor-border-color);  font-size: 80%;}\n",
       ".datatable .footer { font-size: 9px; }\n",
       ".datatable .frame_dimensions {  background: var(--jp-border-color3);  border-top: 1px solid var(--jp-border-color0);  color: var(--jp-ui-font-color3);  display: inline-block;  opacity: 0.6;  padding: 1px 10px 1px 5px;}\n",
       "</style>\n"
      ],
      "text/plain": [
       "<IPython.core.display.HTML object>"
      ]
     },
     "metadata": {},
     "output_type": "display_data"
    }
   ],
   "source": [
    "import gc\n",
    "import random\n",
    "from   tqdm import tqdm\n",
    "from   sklearn.model_selection import train_test_split\n",
    "import pandas as pd\n",
    "import seaborn as sns\n",
    "import matplotlib.pyplot as plt\n",
    "import numpy as np\n",
    "import random\n",
    "import psutil\n",
    "import datatable as dt\n",
    "from   collections import namedtuple\n",
    "from   sklearn.pipeline import Pipeline\n",
    "from   sklearn.impute import SimpleImputer\n",
    "from   sklearn.preprocessing import StandardScaler\n",
    "\n",
    "import os\n",
    "import seaborn as sns\n",
    "from   sklearn.utils import shuffle\n",
    "import datetime\n",
    "import time\n",
    "from   sklearn.metrics import accuracy_score, precision_recall_fscore_support, matthews_corrcoef, roc_auc_score\n",
    "from   sklearn.metrics import mean_squared_error, mean_absolute_error, explained_variance_score, r2_score\n",
    "import torch\n",
    "import torch.nn as nn\n",
    "import torch.nn.utils.rnn as rnn_utils\n",
    "from   torch.autograd import Variable\n",
    "from   torch.utils.data import Dataset, DataLoader, RandomSampler, SequentialSampler\n",
    "from   transformers import TrainingArguments\n",
    "from   transformers import AdamW, BertConfig\n",
    "from   transformers import get_linear_schedule_with_warmup"
   ]
  },
  {
   "cell_type": "code",
   "execution_count": 4,
   "metadata": {
    "execution": {
     "iopub.execute_input": "2021-01-16T16:50:24.206952Z",
     "iopub.status.busy": "2021-01-16T16:50:24.206354Z",
     "iopub.status.idle": "2021-01-16T16:50:24.209228Z",
     "shell.execute_reply": "2021-01-16T16:50:24.208758Z"
    },
    "papermill": {
     "duration": 0.026663,
     "end_time": "2021-01-16T16:50:24.209348",
     "exception": false,
     "start_time": "2021-01-16T16:50:24.182685",
     "status": "completed"
    },
    "tags": []
   },
   "outputs": [],
   "source": [
    "DEVICE = torch.device (\"cuda:0\") if torch.cuda.is_available () else torch.device (\"cpu\")"
   ]
  },
  {
   "cell_type": "code",
   "execution_count": 5,
   "metadata": {
    "execution": {
     "iopub.execute_input": "2021-01-16T16:50:24.258904Z",
     "iopub.status.busy": "2021-01-16T16:50:24.253799Z",
     "iopub.status.idle": "2021-01-16T16:52:51.431808Z",
     "shell.execute_reply": "2021-01-16T16:52:51.432258Z"
    },
    "papermill": {
     "duration": 147.20444,
     "end_time": "2021-01-16T16:52:51.432426",
     "exception": false,
     "start_time": "2021-01-16T16:50:24.227986",
     "status": "completed"
    },
    "tags": []
   },
   "outputs": [
    {
     "data": {
      "text/plain": [
       "array([[-1.00988744,  0.43728856,  0.24038638, ...,  0.23414539,\n",
       "         1.23419019,  0.0977841 ],\n",
       "       [ 0.99020936, -0.92739749, -0.79304729, ...,  0.49266188,\n",
       "        -1.11005897,  0.51576229],\n",
       "       [-1.00988744, -0.37624849, -0.55731561, ...,  0.36661439,\n",
       "         0.72965781,  0.36896382],\n",
       "       ...,\n",
       "       [ 0.99020936, -1.05881427, -0.91818339, ...,  0.25452235,\n",
       "        -1.08564502, -0.05625339],\n",
       "       [ 0.99020936, -0.02537408, -0.44806587, ..., -0.915584  ,\n",
       "         0.59793358, -0.88419302],\n",
       "       [-1.00988744, -0.10199829, -0.60691431, ...,  0.13324753,\n",
       "         0.85724822,  0.40967746]])"
      ]
     },
     "execution_count": 5,
     "metadata": {},
     "output_type": "execute_result"
    }
   ],
   "source": [
    "dtype = {\n",
    "    'date'      : 'int64', \n",
    "    'weight'    : 'float64',\n",
    "    'resp'      : 'float64',\n",
    "    'ts_id'     : 'int64',  \n",
    "    'feature_0' : 'float64'\n",
    "}\n",
    "for i in range (1, 130):\n",
    "    k = 'feature_' + str (i)\n",
    "    dtype[k] = 'float32'\n",
    "    \n",
    "X = pd.read_csv ('../input/jane-street-market-prediction/train.csv', dtype=dtype)\n",
    "f_columns = [c for c in X.columns if \"feature\" in c]\n",
    "y = (X['resp'] > 0).astype ('int8')\n",
    "X.drop (columns=['weight', 'resp', 'resp_1', 'resp_2', 'resp_3', 'resp_4', 'date', 'ts_id'], inplace=True)\n",
    "preprocess_pipe =  Pipeline ([\n",
    "    (\"imputer\", SimpleImputer (missing_values=np.nan, strategy='mean')),\n",
    "    (\"stand\",   StandardScaler())\n",
    "])\n",
    "X = preprocess_pipe.fit_transform (X)\n",
    "\n",
    "X_train, X_test, y_train, y_test = train_test_split (X, y, test_size=0.1)\n",
    "del X, y\n",
    "gc.collect ()\n",
    "X_train"
   ]
  },
  {
   "cell_type": "code",
   "execution_count": 6,
   "metadata": {
    "execution": {
     "iopub.execute_input": "2021-01-16T16:52:51.475215Z",
     "iopub.status.busy": "2021-01-16T16:52:51.474672Z",
     "iopub.status.idle": "2021-01-16T16:52:51.477886Z",
     "shell.execute_reply": "2021-01-16T16:52:51.477361Z"
    },
    "papermill": {
     "duration": 0.026807,
     "end_time": "2021-01-16T16:52:51.478000",
     "exception": false,
     "start_time": "2021-01-16T16:52:51.451193",
     "status": "completed"
    },
    "tags": []
   },
   "outputs": [],
   "source": [
    "dtype = {\n",
    "    'feature'  : 'str', \n",
    "    'tag_0'    : 'int8'\n",
    "}\n",
    "for i in range (1, 29):\n",
    "    k = 'tag_' + str (i)\n",
    "    dtype[k] = 'int8'"
   ]
  },
  {
   "cell_type": "code",
   "execution_count": 7,
   "metadata": {
    "execution": {
     "iopub.execute_input": "2021-01-16T16:52:51.519615Z",
     "iopub.status.busy": "2021-01-16T16:52:51.518727Z",
     "iopub.status.idle": "2021-01-16T16:52:51.551249Z",
     "shell.execute_reply": "2021-01-16T16:52:51.550819Z"
    },
    "papermill": {
     "duration": 0.054572,
     "end_time": "2021-01-16T16:52:51.551354",
     "exception": false,
     "start_time": "2021-01-16T16:52:51.496782",
     "status": "completed"
    },
    "tags": []
   },
   "outputs": [
    {
     "data": {
      "text/html": [
       "<div>\n",
       "<style scoped>\n",
       "    .dataframe tbody tr th:only-of-type {\n",
       "        vertical-align: middle;\n",
       "    }\n",
       "\n",
       "    .dataframe tbody tr th {\n",
       "        vertical-align: top;\n",
       "    }\n",
       "\n",
       "    .dataframe thead th {\n",
       "        text-align: right;\n",
       "    }\n",
       "</style>\n",
       "<table border=\"1\" class=\"dataframe\">\n",
       "  <thead>\n",
       "    <tr style=\"text-align: right;\">\n",
       "      <th></th>\n",
       "      <th>tag_0</th>\n",
       "      <th>tag_1</th>\n",
       "      <th>tag_2</th>\n",
       "      <th>tag_3</th>\n",
       "      <th>tag_4</th>\n",
       "      <th>tag_5</th>\n",
       "      <th>tag_6</th>\n",
       "      <th>tag_7</th>\n",
       "      <th>tag_8</th>\n",
       "      <th>tag_9</th>\n",
       "      <th>...</th>\n",
       "      <th>tag_19</th>\n",
       "      <th>tag_20</th>\n",
       "      <th>tag_21</th>\n",
       "      <th>tag_22</th>\n",
       "      <th>tag_23</th>\n",
       "      <th>tag_24</th>\n",
       "      <th>tag_25</th>\n",
       "      <th>tag_26</th>\n",
       "      <th>tag_27</th>\n",
       "      <th>tag_28</th>\n",
       "    </tr>\n",
       "  </thead>\n",
       "  <tbody>\n",
       "    <tr>\n",
       "      <th>0</th>\n",
       "      <td>0</td>\n",
       "      <td>0</td>\n",
       "      <td>0</td>\n",
       "      <td>0</td>\n",
       "      <td>0</td>\n",
       "      <td>0</td>\n",
       "      <td>0</td>\n",
       "      <td>0</td>\n",
       "      <td>0</td>\n",
       "      <td>0</td>\n",
       "      <td>...</td>\n",
       "      <td>0</td>\n",
       "      <td>0</td>\n",
       "      <td>0</td>\n",
       "      <td>0</td>\n",
       "      <td>0</td>\n",
       "      <td>0</td>\n",
       "      <td>0</td>\n",
       "      <td>0</td>\n",
       "      <td>0</td>\n",
       "      <td>0</td>\n",
       "    </tr>\n",
       "    <tr>\n",
       "      <th>1</th>\n",
       "      <td>0</td>\n",
       "      <td>0</td>\n",
       "      <td>0</td>\n",
       "      <td>0</td>\n",
       "      <td>0</td>\n",
       "      <td>0</td>\n",
       "      <td>1</td>\n",
       "      <td>1</td>\n",
       "      <td>0</td>\n",
       "      <td>0</td>\n",
       "      <td>...</td>\n",
       "      <td>0</td>\n",
       "      <td>0</td>\n",
       "      <td>0</td>\n",
       "      <td>0</td>\n",
       "      <td>0</td>\n",
       "      <td>0</td>\n",
       "      <td>0</td>\n",
       "      <td>0</td>\n",
       "      <td>0</td>\n",
       "      <td>0</td>\n",
       "    </tr>\n",
       "    <tr>\n",
       "      <th>2</th>\n",
       "      <td>0</td>\n",
       "      <td>0</td>\n",
       "      <td>0</td>\n",
       "      <td>0</td>\n",
       "      <td>0</td>\n",
       "      <td>0</td>\n",
       "      <td>1</td>\n",
       "      <td>1</td>\n",
       "      <td>0</td>\n",
       "      <td>1</td>\n",
       "      <td>...</td>\n",
       "      <td>0</td>\n",
       "      <td>0</td>\n",
       "      <td>0</td>\n",
       "      <td>0</td>\n",
       "      <td>0</td>\n",
       "      <td>0</td>\n",
       "      <td>0</td>\n",
       "      <td>0</td>\n",
       "      <td>0</td>\n",
       "      <td>0</td>\n",
       "    </tr>\n",
       "    <tr>\n",
       "      <th>3</th>\n",
       "      <td>0</td>\n",
       "      <td>0</td>\n",
       "      <td>0</td>\n",
       "      <td>0</td>\n",
       "      <td>0</td>\n",
       "      <td>0</td>\n",
       "      <td>1</td>\n",
       "      <td>0</td>\n",
       "      <td>1</td>\n",
       "      <td>0</td>\n",
       "      <td>...</td>\n",
       "      <td>0</td>\n",
       "      <td>0</td>\n",
       "      <td>0</td>\n",
       "      <td>0</td>\n",
       "      <td>0</td>\n",
       "      <td>0</td>\n",
       "      <td>0</td>\n",
       "      <td>0</td>\n",
       "      <td>0</td>\n",
       "      <td>0</td>\n",
       "    </tr>\n",
       "    <tr>\n",
       "      <th>4</th>\n",
       "      <td>0</td>\n",
       "      <td>0</td>\n",
       "      <td>0</td>\n",
       "      <td>0</td>\n",
       "      <td>0</td>\n",
       "      <td>0</td>\n",
       "      <td>1</td>\n",
       "      <td>0</td>\n",
       "      <td>1</td>\n",
       "      <td>1</td>\n",
       "      <td>...</td>\n",
       "      <td>0</td>\n",
       "      <td>0</td>\n",
       "      <td>0</td>\n",
       "      <td>0</td>\n",
       "      <td>0</td>\n",
       "      <td>0</td>\n",
       "      <td>0</td>\n",
       "      <td>0</td>\n",
       "      <td>0</td>\n",
       "      <td>0</td>\n",
       "    </tr>\n",
       "  </tbody>\n",
       "</table>\n",
       "<p>5 rows × 29 columns</p>\n",
       "</div>"
      ],
      "text/plain": [
       "   tag_0  tag_1  tag_2  tag_3  tag_4  tag_5  tag_6  tag_7  tag_8  tag_9  ...  \\\n",
       "0      0      0      0      0      0      0      0      0      0      0  ...   \n",
       "1      0      0      0      0      0      0      1      1      0      0  ...   \n",
       "2      0      0      0      0      0      0      1      1      0      1  ...   \n",
       "3      0      0      0      0      0      0      1      0      1      0  ...   \n",
       "4      0      0      0      0      0      0      1      0      1      1  ...   \n",
       "\n",
       "   tag_19  tag_20  tag_21  tag_22  tag_23  tag_24  tag_25  tag_26  tag_27  \\\n",
       "0       0       0       0       0       0       0       0       0       0   \n",
       "1       0       0       0       0       0       0       0       0       0   \n",
       "2       0       0       0       0       0       0       0       0       0   \n",
       "3       0       0       0       0       0       0       0       0       0   \n",
       "4       0       0       0       0       0       0       0       0       0   \n",
       "\n",
       "   tag_28  \n",
       "0       0  \n",
       "1       0  \n",
       "2       0  \n",
       "3       0  \n",
       "4       0  \n",
       "\n",
       "[5 rows x 29 columns]"
      ]
     },
     "execution_count": 7,
     "metadata": {},
     "output_type": "execute_result"
    }
   ],
   "source": [
    "features_df = pd.read_csv ('../input/jane-street-market-prediction/features.csv', usecols=range(1,30), dtype=dtype)\n",
    "N_FEATURES  = features_df.shape[0]  # the features.csv has 130 features (1st row) = no of features in train.csv (feature_0 to feature_129)\n",
    "N_FEAT_TAGS = features_df.shape[1]  # the features.csv has 29 tags\n",
    "features_df.head ()"
   ]
  },
  {
   "cell_type": "code",
   "execution_count": 8,
   "metadata": {
    "execution": {
     "iopub.execute_input": "2021-01-16T16:52:51.755224Z",
     "iopub.status.busy": "2021-01-16T16:52:51.754053Z",
     "iopub.status.idle": "2021-01-16T16:52:51.758116Z",
     "shell.execute_reply": "2021-01-16T16:52:51.757576Z"
    },
    "papermill": {
     "duration": 0.187269,
     "end_time": "2021-01-16T16:52:51.758218",
     "exception": false,
     "start_time": "2021-01-16T16:52:51.570949",
     "status": "completed"
    },
    "tags": []
   },
   "outputs": [
    {
     "data": {
      "text/plain": [
       "20"
      ]
     },
     "execution_count": 8,
     "metadata": {},
     "output_type": "execute_result"
    }
   ],
   "source": [
    "del features_df\n",
    "gc.collect ()"
   ]
  },
  {
   "cell_type": "code",
   "execution_count": 9,
   "metadata": {
    "execution": {
     "iopub.execute_input": "2021-01-16T16:52:51.802476Z",
     "iopub.status.busy": "2021-01-16T16:52:51.801737Z",
     "iopub.status.idle": "2021-01-16T16:52:51.804734Z",
     "shell.execute_reply": "2021-01-16T16:52:51.805130Z"
    },
    "papermill": {
     "duration": 0.027686,
     "end_time": "2021-01-16T16:52:51.805262",
     "exception": false,
     "start_time": "2021-01-16T16:52:51.777576",
     "status": "completed"
    },
    "tags": []
   },
   "outputs": [
    {
     "data": {
      "text/plain": [
       "(130, 29)"
      ]
     },
     "execution_count": 9,
     "metadata": {},
     "output_type": "execute_result"
    }
   ],
   "source": [
    "N_FEATURES, N_FEAT_TAGS"
   ]
  },
  {
   "cell_type": "markdown",
   "metadata": {
    "papermill": {
     "duration": 0.019722,
     "end_time": "2021-01-16T16:52:51.844728",
     "exception": false,
     "start_time": "2021-01-16T16:52:51.825006",
     "status": "completed"
    },
    "tags": []
   },
   "source": [
    "# Custom Trainer"
   ]
  },
  {
   "cell_type": "code",
   "execution_count": 10,
   "metadata": {
    "execution": {
     "iopub.execute_input": "2021-01-16T16:52:51.887518Z",
     "iopub.status.busy": "2021-01-16T16:52:51.886933Z",
     "iopub.status.idle": "2021-01-16T16:52:51.894399Z",
     "shell.execute_reply": "2021-01-16T16:52:51.894803Z"
    },
    "papermill": {
     "duration": 0.0303,
     "end_time": "2021-01-16T16:52:51.894944",
     "exception": false,
     "start_time": "2021-01-16T16:52:51.864644",
     "status": "completed"
    },
    "tags": []
   },
   "outputs": [],
   "source": [
    "# Utilities for my custom trainer\n",
    "\n",
    "def format_time (elapsed):\n",
    "    '''\n",
    "    Takes a time in seconds and returns a string hh:mm:ss\n",
    "    '''\n",
    "    \n",
    "    # Round to the nearest second.\n",
    "    elapsed_rounded = int(round((elapsed)))\n",
    "    \n",
    "    # Format as hh:mm:ss\n",
    "    return str (datetime.timedelta (seconds=elapsed_rounded))\n",
    "\n",
    "def compute_metrics (labels, pred_logits):\n",
    "    \n",
    "    preds   = pred_logits.argmax (-1)             #;print ('labels.shape=', labels.shape, 'preds.shape=', preds.shape, 'pred_logits.shape=', pred_logits.shape)\n",
    "    precision, recall, f1, _ = precision_recall_fscore_support (labels, preds, average='macro')\n",
    "    acc     = accuracy_score (labels, preds)\n",
    "    mcc     = matthews_corrcoef (labels, preds)   # matthews correlation coefficient\n",
    "    softmax = nn.Softmax (dim=1)\n",
    "    pred_pr = softmax (torch.tensor (pred_logits))\n",
    "    auc     = roc_auc_score (labels, pred_pr[:, 1])\n",
    "    metrics = {\n",
    "        'mcc'      : mcc,\n",
    "        'accuracy' : acc,\n",
    "        'f1'       : f1,\n",
    "        'precision': precision,\n",
    "        'recall'   : recall,\n",
    "        'auc'      : auc\n",
    "    }\n",
    "    return metrics"
   ]
  },
  {
   "cell_type": "code",
   "execution_count": 11,
   "metadata": {
    "execution": {
     "iopub.execute_input": "2021-01-16T16:52:51.939490Z",
     "iopub.status.busy": "2021-01-16T16:52:51.938317Z",
     "iopub.status.idle": "2021-01-16T16:52:52.001465Z",
     "shell.execute_reply": "2021-01-16T16:52:52.001972Z"
    },
    "papermill": {
     "duration": 0.08709,
     "end_time": "2021-01-16T16:52:52.002124",
     "exception": false,
     "start_time": "2021-01-16T16:52:51.915034",
     "status": "completed"
    },
    "tags": []
   },
   "outputs": [],
   "source": [
    "class MyTrainer:\n",
    "    \n",
    "    def __init__(self, model, args, train_dataset, eval_dataset, compute_metrics=compute_metrics):\n",
    "        \n",
    "        self.model           = model\n",
    "        self.args            = args\n",
    "        self.train_dataset   = train_dataset\n",
    "        self.eval_dataset    = eval_dataset\n",
    "        self.compute_metrics = compute_metrics\n",
    "        self.isTrained       = False\n",
    "        self.device          = self.get_device_type ()\n",
    "        \n",
    "        # Note: AdamW is a class from the huggingface library (as opposed to pytorch) \n",
    "        # I believe the 'W' stands for 'Weight Decay fix\"\n",
    "        self.optimizer = AdamW (model.parameters (),\n",
    "                           lr  = args.learning_rate,\n",
    "                           eps = args.adam_epsilon # args.adam_epsilon  - default is 1e-8 is “a very small number to prevent any division by zero\"\n",
    "        )\n",
    "\n",
    "        # Number of training epochs. The BERT authors recommend between 2 and 4. \n",
    "        # We chose to run for 4, but we'll see later that this may be over-fitting the\n",
    "        # training data.\n",
    "        self.epochs = self.args.num_train_epochs\n",
    "        self.train_dataloader, self.validation_dataloader, self.lr_scheduler, self.num_training_steps = self.get_dataLoaders ()        \n",
    "        return\n",
    "    \n",
    "    def get_device_type (self):\n",
    "        \n",
    "        # If there's a GPU available...\n",
    "        if torch.cuda.is_available ():    \n",
    "\n",
    "            # Tell PyTorch to use the GPU.    \n",
    "            device = torch.device (\"cuda\")\n",
    "            print('There are %d GPU(s) available.' % torch.cuda.device_count ())\n",
    "            print('We will use the GPU:', torch.cuda.get_device_name (0))\n",
    "        # If not...\n",
    "        else:\n",
    "            print('No GPU available, using the CPU instead.')\n",
    "            device = torch.device (\"cpu\")\n",
    "        return device\n",
    "    \n",
    "    def get_dataLoaders (self):        \n",
    "        \n",
    "        # Create the DataLoaders for our training and validation sets.\n",
    "        if isinstance (self.train_dataset, torch.utils.data.IterableDataset):\n",
    "            train_sampler = None\n",
    "        else:\n",
    "            train_sampler = RandomSampler (self.train_dataset)           # Better use RandomSampler\n",
    "        train_dataloader  = DataLoader (\n",
    "                    self.train_dataset,                                  # The training samples.\n",
    "                    sampler     = train_sampler,                           \n",
    "                    batch_size  = self.args.per_device_train_batch_size,\n",
    "                    num_workers = 8    # TODO: uncomment this\n",
    "        )\n",
    "        train_dataloader  = DataLoader (self.train_dataset, batch_size=self.args.per_device_train_batch_size) # TODO: comment this\n",
    "        validation_dataloader = None\n",
    "        if self.eval_dataset:\n",
    "            \n",
    "            # For validation the order doesn't matter, so we'll just read them sequentially.\n",
    "            validation_dataloader = DataLoader (\n",
    "                        self.eval_dataset,             # The validation/dev samples.\n",
    "                        sampler     = SequentialSampler (self.eval_dataset),\n",
    "                        batch_size  = self.args.per_device_eval_batch_size,\n",
    "                        num_workers = 8    # TODO: uncomment this\n",
    "            )\n",
    "            validation_dataloader  = DataLoader (self.eval_dataset, batch_size=self.args.per_device_eval_batch_size) # TODO: comment this\n",
    "            \n",
    "        # Total number of training steps is [number of batches] x [number of epochs]. \n",
    "        # (Note that this is not the same as the number of training samples).\n",
    "        num_training_steps = len (train_dataloader) * self.epochs\n",
    "\n",
    "        # Create the learning rate scheduler.\n",
    "        lr_scheduler = get_linear_schedule_with_warmup (self.optimizer, \n",
    "                                                        num_warmup_steps   = self.args.warmup_steps, # Default value in run_glue.py\n",
    "                                                        num_training_steps = num_training_steps)\n",
    "        return train_dataloader, validation_dataloader, lr_scheduler, num_training_steps\n",
    "    \n",
    "    \n",
    "    def test_iterate_dataloader (self):\n",
    "        \n",
    "        for step, batch in enumerate (self.train_dataloader):\n",
    "            print (step)\n",
    "            print (batch)\n",
    "            break\n",
    "        return\n",
    "    \n",
    "    \n",
    "    def train (self):\n",
    "        \n",
    "        # This training code is based on the `run_glue.py` script here:\n",
    "        # https://github.com/huggingface/transformers/blob/5bfcd0485ece086ebcbed2d008813037968a9e58/examples/run_glue.py#L128\n",
    "        \n",
    "        # Set the seed value all over the place to make this reproducible.\n",
    "        seed_val = 42\n",
    "        random.seed (seed_val)\n",
    "        np.random.seed (seed_val)\n",
    "        torch.manual_seed (seed_val)\n",
    "        torch.cuda.manual_seed_all (seed_val)\n",
    "\n",
    "        # We'll store a number of quantities such as training and validation loss, \n",
    "        # validation accuracy, and timings.\n",
    "        training_stats = []\n",
    "        # Measure the total training time for the whole run.\n",
    "        total_t0 = time.time ()\n",
    "        # inint min_val_loss to a large val, if after each epoch eval-loss < min_val_loss, then save the model\n",
    "        min_val_loss   = 9999\n",
    "        min_train_loss = 9999\n",
    "        step = 0\n",
    "        \n",
    "        # For each epoch...\n",
    "        for epoch_i in range (0, self.epochs):\n",
    "\n",
    "            # ========================================\n",
    "            #               Training\n",
    "            # ========================================\n",
    "\n",
    "            # Perform one full pass over the training set.\n",
    "\n",
    "            print(\"\")\n",
    "            print('======== Epoch {:} / {:} ========'.format (epoch_i + 1, self.epochs))\n",
    "            print('Training...')\n",
    "\n",
    "            # Measure how long the training epoch takes.\n",
    "            t0 = time.time ()\n",
    "\n",
    "            # Reset the total loss for this epoch.\n",
    "            total_train_loss = 0\n",
    "\n",
    "            # Put the model into training mode. Don't be mislead--the call to \n",
    "            # `train` just changes the *mode*, it doesn't *perform* the training.\n",
    "            # `dropout` and `batchnorm` layers behave differently during training\n",
    "            # vs. test (source: https://stackoverflow.com/questions/51433378/what-does-model-train-do-in-pytorch)\n",
    "            self.model.train ()\n",
    "\n",
    "            # For each batch of training data...\n",
    "            for stp, batch in enumerate (self.train_dataloader):\n",
    "\n",
    "                step += 1\n",
    "                # Progress update every 40 batches.\n",
    "                # print ('batch =', batch)\n",
    "                if step % 50 == 0 and not step == 0:\n",
    "                    \n",
    "                    # Calculate elapsed time in minutes.\n",
    "                    elapsed = format_time (time.time() - t0)\n",
    "                    # Report progress.\n",
    "                    print ('  Batch {:>5,}  of  {:>5,}.    Elapsed: {:}.'.format(step, len (self.train_dataloader), elapsed))\n",
    "                if (self.args.max_steps > 0 and self.args.max_steps < step) or  \\\n",
    "                   (self.args.eval_steps> 0 and step % self.args.eval_steps==0 and step>0):\n",
    "                    \n",
    "                    avg_train_loss = total_train_loss / step\n",
    "                    training_time = format_time (time.time () - t0)\n",
    "                    if self.validation_dataloader:\n",
    "                        \n",
    "                        print (\"Running Validation...\")\n",
    "                        avg_val_loss, avg_val_f1, avg_val_mcc, avg_val_auc, avg_val_precision, avg_val_recall, avg_val_accuracy, validation_time = self.evaluate ()\n",
    "                        training_stats.append ({\n",
    "                                'epoch'         : epoch_i + 1,\n",
    "                                'training_loss' : avg_train_loss,\n",
    "                                'eval_loss'     : avg_val_loss,\n",
    "                                'eval_f1'       : avg_val_f1,\n",
    "                                'eval_mcc'      : avg_val_mcc, \n",
    "                                'eval_precision': avg_val_precision,\n",
    "                                'eval_recall'   : avg_val_recall,\n",
    "                                'eval_auc'      : avg_val_auc, \n",
    "                                'eval_accuracy' : avg_val_accuracy,\n",
    "                                'training_time' : training_time,\n",
    "                                'eval_time'     : validation_time                   \n",
    "                        })\n",
    "                        # save this model if the eval loss decreases from the minimum so far\n",
    "                        if avg_val_loss < min_val_loss: \n",
    "\n",
    "                            min_val_loss = avg_val_loss\n",
    "                            torch.save (model.state_dict (), \"jane_embed_nn_model_rishi.pt\")     # TODO: uncomment this\n",
    "                    \n",
    "                    if self.args.max_steps > 0 and self.args.max_steps < step :\n",
    "                        \n",
    "                        print (\"\")\n",
    "                        print (\"Training complete!\")\n",
    "                        print (\"Total training took {:} (h:mm:ss)\".format (format_time (time.time ()-total_t0)))\n",
    "                        self.isTrained = True\n",
    "                        self.plot_train_stats_regression (training_stats)\n",
    "                        return training_stats\n",
    "                    \n",
    "                self.model.zero_grad ()        \n",
    "\n",
    "                # Perform a forward pass (evaluate the model on this training batch).\n",
    "                # The documentation for this `model` function is here: \n",
    "                # https://huggingface.co/transformers/v2.2.0/model_doc/bert.html#transformers.BertForSequenceClassification\n",
    "                # It returns different numbers of parameters depending on what arguments\n",
    "                # arge given and what flags are set. For our useage here, it returns\n",
    "                # the loss (because we provided labels) and the \"logits\"--the model\n",
    "                # outputs prior to activation.\n",
    "                # loss, logits = self.model (b_inputs, .., labels=b_labels)\n",
    "                # print ('batch: \\n', batch)\n",
    "                # for k in batch:\n",
    "                #     batch[k] = batch[k].to (self.device)\n",
    "                batch['features'] = batch['features'].to (self.device).float ()\n",
    "                if 'labels' in  batch:\n",
    "                    batch['labels'] = batch['labels'].to (self.device).long ()\n",
    "                output    = self.model (**batch)\n",
    "                loss      = output.loss\n",
    "                logits    = output.logits\n",
    "                \n",
    "                # Accumulate the training loss over all of the batches so that we can\n",
    "                # calculate the average loss at the end. `loss` is a Tensor containing a\n",
    "                # single value; the `.item()` function just returns the Python value \n",
    "                # from the tensor.\n",
    "                total_train_loss += loss.item ()\n",
    "                # Perform a backward pass to calculate the gradients.\n",
    "                loss.backward ()\n",
    "\n",
    "                # Clip the norm of the gradients to 1.0.\n",
    "                # This is to help prevent the \"exploding gradients\" problem.\n",
    "                torch.nn.utils.clip_grad_norm_(self.model.parameters(), 1.0)\n",
    "                # Update parameters and take a step using the computed gradient.\n",
    "                # The optimizer dictates the \"update rule\"--how the parameters are\n",
    "                # modified based on their gradients, the learning rate, etc.\n",
    "                self.optimizer.step ()\n",
    "                # Update the learning rate.\n",
    "                self.lr_scheduler.step ()\n",
    "            # At the end of each epoch measure stats and eval:\n",
    "            # Calculate the average loss over all of the batches.\n",
    "            avg_train_loss = total_train_loss / len (self.train_dataloader)\n",
    "            # Measure how long this epoch took.\n",
    "            training_time = format_time (time.time () - t0)            \n",
    "            print (\"  Average training loss: {0:.2f}\".format (avg_train_loss))\n",
    "            print (\"  Training epcoh took: {:}\".format (training_time))\n",
    "            \n",
    "            if self.validation_dataloader:\n",
    "                \n",
    "                print (\"\\n  Running Validation...\")\n",
    "                avg_val_loss, avg_val_f1, avg_val_mcc, avg_val_auc, avg_val_precision, avg_val_recall, avg_val_accuracy, validation_time = self.evaluate ()\n",
    "                # Record all statistics from this epoch.\n",
    "                training_stats.append ({\n",
    "                        'epoch'         : epoch_i + 1,\n",
    "                        'training_loss' : avg_train_loss,\n",
    "                        'eval_loss'     : avg_val_loss,\n",
    "                        'eval_f1'       : avg_val_f1,\n",
    "                        'eval_mcc'      : avg_val_mcc, \n",
    "                        'eval_precision': avg_val_precision,\n",
    "                        'eval_recall'   : avg_val_recall,\n",
    "                        'eval_auc'      : avg_val_auc, \n",
    "                        'eval_accuracy' : avg_val_accuracy,\n",
    "                        'training_time' : training_time,\n",
    "                        'eval_time'     : validation_time                   \n",
    "                })\n",
    "                # save this epoch's model if the eval loss decreases from the minimum so far\n",
    "                if avg_val_loss < min_val_loss:\n",
    "                    \n",
    "                    min_val_loss = avg_val_loss\n",
    "                    torch.save (model.state_dict (), \"jane_embed_nn_model_rishi.pt\")     # TODO: uncomment this\n",
    "            else:\n",
    "                \n",
    "                training_stats.append ({\n",
    "                    'epoch'         : epoch_i + 1,\n",
    "                    'training_loss' : avg_train_loss,\n",
    "                    'training_time' : training_time,\n",
    "                })\n",
    "                if avg_train_loss < min_train_loss: \n",
    "                    \n",
    "                    min_train_loss = avg_train_loss\n",
    "                    torch.save (model.state_dict (), \"jane_embed_nn_model_rishi.pt\")     # TODO: uncomment this\n",
    "        print (\"\")\n",
    "        print (\"Training complete!\")\n",
    "        print (\"Total training took {:} (h:mm:ss)\".format (format_time (time.time ()-total_t0)))\n",
    "        self.isTrained = True\n",
    "        self.plot_train_stats (training_stats)\n",
    "        return training_stats\n",
    "    \n",
    "    def evaluate (self):\n",
    "        \n",
    "        t0 = time.time ()\n",
    "        # Put the model in evaluation mode--the dropout layers behave differently\n",
    "        # during evaluation.\n",
    "        self.model.eval ()\n",
    "\n",
    "        # Tracking variables \n",
    "        total_eval_mcc       = 0\n",
    "        total_eval_f1        = 0\n",
    "        total_eval_precision = 0\n",
    "        total_eval_recall    = 0\n",
    "        total_eval_auc       = 0\n",
    "        total_eval_accuracy  = 0\n",
    "        total_eval_loss      = 0\n",
    "        nb_eval_steps        = 0\n",
    "\n",
    "        # Evaluate data for one epoch\n",
    "        for batch in self.validation_dataloader:\n",
    "            with torch.no_grad ():\n",
    "                \n",
    "                # Forward pass, calculate logit predictions.\n",
    "                # for k in batch:\n",
    "                #     batch[k] = batch[k].to (self.device)\n",
    "                batch['features'] = batch['features'].to (self.device).float ()\n",
    "                batch['labels'] = batch['labels'].to (self.device).long ()\n",
    "                output    = self.model (**batch)\n",
    "                loss      = output.loss\n",
    "                logits    = output.logits\n",
    "\n",
    "            # Accumulate the validation loss.\n",
    "            total_eval_loss += loss.item ()\n",
    "            # Move logits and labels to CPU\n",
    "            logits    = logits.detach ().cpu ().numpy ()\n",
    "            label_ids = batch['labels'].detach ().cpu ().numpy ()            \n",
    "\n",
    "            # Calculate the accuracy for this batch of test sentences, and\n",
    "            # accumulate it over all batches.\n",
    "            metrics = self.compute_metrics (label_ids, logits)\n",
    "            total_eval_mcc       += metrics['mcc']\n",
    "            total_eval_f1        += metrics['f1']\n",
    "            total_eval_precision += metrics['precision']\n",
    "            total_eval_recall    += metrics['recall']\n",
    "            total_eval_auc       += metrics['auc']\n",
    "            total_eval_accuracy  += metrics['accuracy']\n",
    "\n",
    "        # Report the final accuracy for this validation run.\n",
    "        avg_val_f1 = total_eval_f1 / len (self.validation_dataloader)\n",
    "        print (\"  F1: {0:.3f}\".format (avg_val_f1))\n",
    "        avg_val_mcc = total_eval_mcc / len (self.validation_dataloader)\n",
    "        print (\"  MCC: {0:.3f}\".format (avg_val_mcc))\n",
    "        avg_val_precision = total_eval_precision / len (self.validation_dataloader)\n",
    "        print (\"  Precision: {0:.3f}\".format (avg_val_precision))\n",
    "        avg_val_recall = total_eval_recall / len (self.validation_dataloader)\n",
    "        print (\"  Recall: {0:.3f}\".format (avg_val_recall))\n",
    "        avg_val_auc = total_eval_auc / len (self.validation_dataloader)\n",
    "        print (\"  AUC: {0:.3f}\".format (avg_val_auc))\n",
    "        avg_val_accuracy = total_eval_accuracy / len (self.validation_dataloader)\n",
    "        print (\"  Accuracy: {0:.3f}\".format (avg_val_accuracy))\n",
    "        # Calculate the average loss over all of the batches.\n",
    "        avg_val_loss = total_eval_loss / len (self.validation_dataloader)\n",
    "        # Measure how long the validation run took.\n",
    "        validation_time = format_time (time.time () - t0)\n",
    "        print (\"  Validation Loss: {0:.2f}\".format (avg_val_loss))\n",
    "        print (\"  Validation took: {:}\".format (validation_time))            \n",
    "        return avg_val_loss, avg_val_f1, avg_val_mcc, avg_val_auc, avg_val_precision, avg_val_recall, avg_val_accuracy, validation_time\n",
    "    \n",
    "    def plot_train_stats (self, training_stats):\n",
    "        \"\"\"\n",
    "        Draw Classification Report curve\n",
    "        \"\"\"\n",
    "        \n",
    "        mccs   = accuracies = f1_scores = precisions = recalls = auc = losses = epochs = -1\n",
    "        epochs = training_stats[-1]['epoch']\n",
    "        if 'eval_mcc' in training_stats[0]:\n",
    "            mccs       = [e['eval_mcc'] for e in training_stats]\n",
    "            sns.lineplot (x=np.arange(1, epochs + 1), y=mccs,       label='val_mcc')\n",
    "        if 'eval_accuracy' in training_stats[0]:\n",
    "            accuracies = [e['eval_accuracy'] for e in training_stats]\n",
    "            sns.lineplot (x=np.arange(1, epochs + 1), y=accuracies, label='val_accuracy')\n",
    "        if 'eval_f1' in training_stats[0]:\n",
    "            f1_scores  = [e['eval_f1'] for e in training_stats]\n",
    "            sns.lineplot (x=np.arange(1, epochs + 1), y=f1_scores,  label='val_f1') \n",
    "        if 'eval_precision' in training_stats[0]:\n",
    "            precisions = [e['eval_precision'] for e in training_stats]\n",
    "            sns.lineplot (x=np.arange(1, epochs + 1), y=precisions, label='val_precision')\n",
    "        if 'eval_recall' in training_stats[0]:\n",
    "            recalls    = [e['eval_recall'] for e in training_stats]\n",
    "            sns.lineplot (x=np.arange(1, epochs + 1), y=recalls,    label='val_recall')\n",
    "        if 'eval_auc' in training_stats[0]:\n",
    "            auc        = [e['eval_auc'] for e in training_stats]\n",
    "            sns.lineplot (x=np.arange(1, epochs + 1), y=mccs,       label='val_auc')\n",
    "        if 'eval_loss' in training_stats[0]:\n",
    "            losses     = [e['eval_loss'] for e in training_stats]\n",
    "        if 'training_loss'  in training_stats[0]:\n",
    "            tr_losses  = [e['training_loss'] for e in training_stats]\n",
    "            sns.lineplot (x=np.arange(1, epochs + 1), y=tr_losses,  label='tr_losses')\n",
    "            \n",
    "        plt.show ()\n",
    "        print ('mccs       :', mccs)\n",
    "        print ('accuracies :', accuracies)\n",
    "        print ('precisions :', precisions)\n",
    "        print ('recalls    :', recalls)\n",
    "        print ('f1_scores  :', f1_scores)\n",
    "        print ('auc        :', auc)\n",
    "        print ('losses     :', losses)\n",
    "        print ('tr_losses  :', tr_losses)\n",
    "        return\n",
    "    \n",
    "    \n",
    "    def getTrainedModel (self):\n",
    "        \n",
    "        if self.isTrained:\n",
    "            return self.model\n",
    "        return None\n",
    "    \n",
    "    \n",
    "    def predict (self, prediction_dataset, isRemoveLabels=True):\n",
    "        \"\"\"\n",
    "        return: pred_logits, true_labels, metrics (if true 'labels' are input in the prediction_dataset)\n",
    "        \"\"\"     \n",
    "        \n",
    "        prediction_sampler    = SequentialSampler (prediction_dataset)\n",
    "        prediction_dataloader = DataLoader (prediction_dataset, sampler=prediction_sampler, batch_size=self.args.per_device_eval_batch_size)\n",
    "        print ('Predicting labels for {:,} test sentences...'.format (len (prediction_dataset)))\n",
    "        \n",
    "        # Put model in evaluation mode\n",
    "        self.model.eval ()\n",
    "\n",
    "        # Tracking variables \n",
    "        predictions = []\n",
    "        # true_labels = []\n",
    "        \n",
    "        # Predict \n",
    "        for batch in prediction_dataloader:\n",
    "            \n",
    "            if 'labels' in batch and isRemoveLabels:\n",
    "                batch.pop ('labels')\n",
    "            # Add batch to GPU\n",
    "            # batch = {t:batch[t].to (self.device) for t in batch}\n",
    "            batch['features'] = batch['features'].to (self.device).float ()\n",
    "            if 'labels' in  batch:\n",
    "                batch['labels'] = batch['labels'].to (self.device).long ()\n",
    "\n",
    "            # Unpack the inputs from our dataloader\n",
    "            # b_input_ids, b_input_mask, b_segment_ids = batch\n",
    "\n",
    "            # Telling the model not to compute or store gradients, saving memory and \n",
    "            # speeding up prediction\n",
    "            with torch.no_grad ():\n",
    "                # Forward pass, calculate logit predictions\n",
    "                outputs = model (**batch)\n",
    "            logits = outputs[0]\n",
    "\n",
    "            # Move logits and labels to CPU\n",
    "            logits = logits.detach ().cpu ().numpy ()\n",
    "            # label_ids = b_labels.to ('cpu').numpy ()\n",
    "\n",
    "            # Store predictions and true labels\n",
    "            predictions.append (logits)\n",
    "            # true_labels.append (label_ids)\n",
    "            print ('Done predictions for ', len(predictions), '/', len(prediction_dataloader), 'batches')\n",
    "        print ('Done prediction')\n",
    "        \n",
    "        # Combine the results across all batches to get the predicted logits\n",
    "        pred_logits = np.concatenate (predictions, axis=0)\n",
    "        # For each sample, pick the label (0,1,2) with the highest score.\n",
    "        # pred_labels = np.argmax (pred_logits, axis=1).flatten()\n",
    "        # returns the predicted logits\n",
    "        return pred_logits, None, None"
   ]
  },
  {
   "cell_type": "code",
   "execution_count": null,
   "metadata": {
    "papermill": {
     "duration": 0.021036,
     "end_time": "2021-01-16T16:52:52.043266",
     "exception": false,
     "start_time": "2021-01-16T16:52:52.022230",
     "status": "completed"
    },
    "tags": []
   },
   "outputs": [],
   "source": []
  },
  {
   "cell_type": "markdown",
   "metadata": {
    "papermill": {
     "duration": 0.019794,
     "end_time": "2021-01-16T16:52:52.083159",
     "exception": false,
     "start_time": "2021-01-16T16:52:52.063365",
     "status": "completed"
    },
    "tags": []
   },
   "source": [
    "# Create Datasets"
   ]
  },
  {
   "cell_type": "code",
   "execution_count": 12,
   "metadata": {
    "execution": {
     "iopub.execute_input": "2021-01-16T16:52:52.132573Z",
     "iopub.status.busy": "2021-01-16T16:52:52.131848Z",
     "iopub.status.idle": "2021-01-16T16:52:52.134591Z",
     "shell.execute_reply": "2021-01-16T16:52:52.134095Z"
    },
    "papermill": {
     "duration": 0.031734,
     "end_time": "2021-01-16T16:52:52.134704",
     "exception": false,
     "start_time": "2021-01-16T16:52:52.102970",
     "status": "completed"
    },
    "tags": []
   },
   "outputs": [],
   "source": [
    "# create a custom map type dataset\n",
    "class JaneDataset (torch.utils.data.Dataset):\n",
    "    \n",
    "    def __init__(self, df, labels=None):\n",
    "        \n",
    "        if isinstance (df, pd.DataFrame):\n",
    "            df.reset_index (drop=True, inplace=True)\n",
    "        if isinstance (labels, pd.Series):\n",
    "            labels.reset_index (drop=True, inplace=True)\n",
    "        self.df     = df\n",
    "        self.labels = labels \n",
    "        return\n",
    "    \n",
    "    def __len__(self):\n",
    "        return len (self.df)\n",
    "    \n",
    "    def __getitem__(self, idx):\n",
    "        \n",
    "        if torch.is_tensor (idx):\n",
    "            idx = idx.tolist ()\n",
    "        \n",
    "        # date    = self.df['date'][idx]\n",
    "        # weight  = self.df['weight'][idx]\n",
    "        # ts_id   = self.df['ts_id'][idx]\n",
    "        # f_columns = ['feature_' + str(i) for i in range (N_FEATURES)]\n",
    "        \n",
    "        sample   = None\n",
    "        if isinstance (self.df, pd.DataFrame):\n",
    "            features = np.array (self.df.loc[idx, f_columns])\n",
    "        else:\n",
    "            features = self.df[idx]\n",
    "            \n",
    "        if self.labels is not None:\n",
    "            sample = {'features': features, 'labels': self.labels[idx]}\n",
    "        else:\n",
    "            sample = {'features': features}\n",
    "        return sample"
   ]
  },
  {
   "cell_type": "code",
   "execution_count": 13,
   "metadata": {
    "execution": {
     "iopub.execute_input": "2021-01-16T16:52:52.180938Z",
     "iopub.status.busy": "2021-01-16T16:52:52.180307Z",
     "iopub.status.idle": "2021-01-16T16:52:52.183750Z",
     "shell.execute_reply": "2021-01-16T16:52:52.183228Z"
    },
    "papermill": {
     "duration": 0.029574,
     "end_time": "2021-01-16T16:52:52.183850",
     "exception": false,
     "start_time": "2021-01-16T16:52:52.154276",
     "status": "completed"
    },
    "scrolled": true,
    "tags": []
   },
   "outputs": [
    {
     "data": {
      "text/plain": [
       "{'features': array([ 0.99020936, -0.92739749, -0.79304729,  0.63938174,  1.09422777,\n",
       "         0.03739973,  0.07354305,  0.12458087,  0.34855278, -0.34955536,\n",
       "         0.06692272, -0.336642  , -0.32440624, -0.73268682, -0.68484988,\n",
       "        -0.29886931,  0.11822028,  0.21301071,  0.48877323,  0.15460674,\n",
       "         0.5380946 ,  0.19728011,  0.35747304,  0.28794668,  0.68569282,\n",
       "         0.38080853,  0.89231615, -0.47243553, -0.69614776, -0.33464426,\n",
       "        -0.40303161, -0.55590007, -0.83352502, -0.25838753, -0.33302043,\n",
       "        -0.2642851 , -0.35775387,  0.66884474,  1.15964351, -0.14144787,\n",
       "        -0.21785851,  0.21430204, -1.49806786, -0.8508794 , -0.10149459,\n",
       "         0.50069547, -0.2252556 , -0.64997216, -0.36749891, -0.20698133,\n",
       "         0.29629526,  0.11000451,  1.00987712, -1.08607524,  0.16454727,\n",
       "        -0.31578111, -0.0980276 , -0.36937024, -0.35565366, -0.18460732,\n",
       "        -0.98305537, -0.96463881,  3.20176925,  3.178548  ,  1.93680844,\n",
       "         2.70529638,  2.64772254, -0.72998971, -0.72911723, -1.06721701,\n",
       "        -0.25173753, -0.8849661 ,  0.04330321, -0.20208478,  0.37843725,\n",
       "         0.43658795, -0.08787923,  0.43800157,  0.19119132, -0.74002489,\n",
       "         1.3399958 ,  1.47699215, -0.33021081,  1.08519773,  0.0170717 ,\n",
       "        -0.285213  ,  0.18516242,  0.29649465, -0.11073512, -0.09809335,\n",
       "         1.24996969, -0.0610474 ,  1.75141667,  1.72274011,  0.58763425,\n",
       "         0.94615944,  0.02053162, -0.00488987,  0.03521286, -0.19583756,\n",
       "        -0.07199602, -0.18047077,  1.27464369,  0.81866257,  1.07979823,\n",
       "         0.62395058,  0.93610455,  0.80320711,  0.10571508, -0.46485812,\n",
       "         0.07987316, -0.05988415, -0.28308719, -0.1305738 ,  1.26506249,\n",
       "         0.60769035,  1.54627629,  1.383885  ,  0.9430085 ,  0.80909857,\n",
       "        -1.3787083 , -0.2127781 , -1.009896  ,  0.64642335, -1.16868527,\n",
       "         0.25381058, -1.1791123 ,  0.49266188, -1.11005897,  0.51576229]),\n",
       " 'labels': 0}"
      ]
     },
     "execution_count": 13,
     "metadata": {},
     "output_type": "execute_result"
    }
   ],
   "source": [
    "train_dataset = JaneDataset (X_train, y_train)\n",
    "eval_dataset  = JaneDataset (X_test,  y_test)\n",
    "train_dataset[1]  # ['features'].shape                         # output    = self.model (date, weight, ts_id, features, target)"
   ]
  },
  {
   "cell_type": "markdown",
   "metadata": {
    "papermill": {
     "duration": 0.019586,
     "end_time": "2021-01-16T16:52:52.224165",
     "exception": false,
     "start_time": "2021-01-16T16:52:52.204579",
     "status": "completed"
    },
    "tags": []
   },
   "source": [
    "# Model"
   ]
  },
  {
   "cell_type": "code",
   "execution_count": 14,
   "metadata": {
    "execution": {
     "iopub.execute_input": "2021-01-16T16:52:52.266979Z",
     "iopub.status.busy": "2021-01-16T16:52:52.266399Z",
     "iopub.status.idle": "2021-01-16T16:52:52.273455Z",
     "shell.execute_reply": "2021-01-16T16:52:52.273917Z"
    },
    "papermill": {
     "duration": 0.030015,
     "end_time": "2021-01-16T16:52:52.274044",
     "exception": false,
     "start_time": "2021-01-16T16:52:52.244029",
     "status": "completed"
    },
    "tags": []
   },
   "outputs": [],
   "source": [
    "class FFN (nn.Module):\n",
    "    \n",
    "    def __init__(self, state_size=200):\n",
    "        \n",
    "        super (FFN, self).__init__()\n",
    "        self.state_size = state_size\n",
    "        self.lr1        = nn.Linear (state_size, state_size)\n",
    "        self.relu       = nn.ReLU ()\n",
    "        self.lr2        = nn.Linear (state_size, state_size)\n",
    "        self.dropout    = nn.Dropout (0.2)\n",
    "    \n",
    "    def forward (self, x):\n",
    "        \n",
    "        x = self.lr1 (x)\n",
    "        x = self.relu (x)\n",
    "        x = self.lr2 (x)\n",
    "        x = self.relu (x)\n",
    "        return self.dropout (x)"
   ]
  },
  {
   "cell_type": "code",
   "execution_count": 36,
   "metadata": {
    "execution": {
     "iopub.execute_input": "2021-01-16T16:52:52.317411Z",
     "iopub.status.busy": "2021-01-16T16:52:52.316813Z",
     "iopub.status.idle": "2021-01-16T16:52:52.331528Z",
     "shell.execute_reply": "2021-01-16T16:52:52.331987Z"
    },
    "papermill": {
     "duration": 0.037789,
     "end_time": "2021-01-16T16:52:52.332137",
     "exception": false,
     "start_time": "2021-01-16T16:52:52.294348",
     "status": "completed"
    },
    "tags": []
   },
   "outputs": [],
   "source": [
    "class Clf_Model (nn.Module):\n",
    "    \n",
    "    def __init__(self, embed_dim=N_FEAT_TAGS*2, csv_file='../input/jane-street-market-prediction/features.csv'):\n",
    "        \n",
    "        super (Clf_Model, self).__init__()\n",
    "        global N_FEAT_TAGS\n",
    "        N_FEAT_TAGS = 29\n",
    "        \n",
    "        # store the features to tags mapping as a datframe tdf, feature_i mapping is in tdf[i, :]\n",
    "        dtype = {'tag_0' : 'int8'}\n",
    "        for i in range (1, 29):\n",
    "            k = 'tag_' + str (i)\n",
    "            dtype[k] = 'int8'\n",
    "        t_df = pd.read_csv (csv_file, usecols=range (1,N_FEAT_TAGS+1), dtype=dtype)\n",
    "        # add a new tag in which only feature_0=1 and all other=0 since feature_0=0 for all the prev tags\n",
    "        t_df['tag_29'] = np.array ([1] + ([0] * (t_df.shape[0]-1)) ).astype ('int8')\n",
    "        self.features_tag_matrix = torch.tensor (t_df.to_numpy ())\n",
    "        N_FEAT_TAGS += 1\n",
    "        \n",
    "        # print ('self.features_tag_matrix =', self.features_tag_matrix)\n",
    "        \n",
    "        # embeddings for the tags. Each feature is taken a an embedding which is an avg. of its' tag embeddings\n",
    "        self.embed_dim     = embed_dim\n",
    "        self.tag_embedding = nn.Embedding (N_FEAT_TAGS+1, embed_dim) # create a special tag if not known tag for any feature\n",
    "        self.tag_weights   = nn.Linear (N_FEAT_TAGS, 1)\n",
    "        \n",
    "        self.dropout      = nn.Dropout (0.2)\n",
    "        self.layer_normal = nn.LayerNorm (embed_dim) \n",
    "        self.ffn          = FFN (embed_dim)\n",
    "        self.outDense     = nn.Linear (embed_dim, 2)\n",
    "        self.outActivtn   = nn.LogSoftmax (dim=1)\n",
    "        self.criterion    = nn.NLLLoss ()\n",
    "        return\n",
    "    \n",
    "    def features2emb (self):\n",
    "        \"\"\"\n",
    "        idx : int feature index 0 to N_FEATURES-1 (129)\n",
    "        \"\"\"\n",
    "        \n",
    "        all_tag_idxs = torch.LongTensor (np.arange (N_FEAT_TAGS)).to (DEVICE)              # (30,)\n",
    "        tag_bools    = self.features_tag_matrix                                # (130, 30)\n",
    "        # print ('tag_bools.shape =', tag_bools.size())\n",
    "        f_emb        = self.tag_embedding (all_tag_idxs).repeat (130, 1, 1)    #;print ('1. f_emb =', f_emb) # (30, 7) * (130, 1, 1) = (130, 30, 7)\n",
    "        # print ('f_emb.shape =', f_emb.size())\n",
    "        f_emb        = f_emb * tag_bools[:, :, None]                           #;print ('2. f_emb =', f_emb) # (130, 30, 7) * (130, 29, 1) = (130, 30, 7)\n",
    "        # print ('f_emb.shape =', f_emb.size())\n",
    "        \n",
    "        # Take avg. of all the present tag's embeddings to get the embedding for a feature\n",
    "        # s = torch.sum (tag_bools, dim=1)                                       # (130,)\n",
    "        # print ('s =', s)              \n",
    "        # f_emb = torch.sum (f_emb, dim=-2) / s[:, None]                         # (130, 7)\n",
    "        # print ('f_emb =', f_emb)        \n",
    "        # print ('f_emb.shape =', f_emb.shape)\n",
    "        \n",
    "        # take a linear combination of the present tag's embeddings\n",
    "        f_emb = f_emb.permute (0, 2, 1)                                        # (130, 7, 30)\n",
    "        f_emb = self.tag_weights (f_emb)                      #;print ('3. f_emb =', f_emb)                 # (130, 7, 1)\n",
    "        f_emb = torch.squeeze (f_emb, dim=-1)                 #;print ('4. f_emb =', f_emb)                 # (130, 7)\n",
    "        return f_emb\n",
    "    \n",
    "    def forward (self, features, labels=None):\n",
    "        \"\"\"\n",
    "        when you call `model (x ,y, z, ...)` then this method is invoked\n",
    "        \"\"\"\n",
    "        \n",
    "        f_emb    = self.features2emb ()                                #;print ('5. f_emb =', f_emb); print ('6. features =', features) # (130, 7)\n",
    "        # print ('features.shape =', features.shape, 'f_emb.shape =', f_emb.shape)\n",
    "        features = torch.matmul (features, f_emb)                      #;print ('7. features =', features) # (1, 130) * (130, 7) = (1, 7)\n",
    "        # print ('features.shape =', features.shape)\n",
    "        \n",
    "        x          = self.ffn (features)                               #;print ('8. x.shape = ', x.shape, 'x =', x) \n",
    "        x          = self.layer_normal (x + features)                  #;print ('9. x.shape = ', x.shape, 'x =', x) \n",
    "        out_logits = self.outDense (x)                                 #;print ('10. out_logits.shape = ', out_logits.shape, 'out_logits =', out_logits)\n",
    "        # out_logits = torch.squeeze (out_logits, dim=-1)\n",
    "        if labels is None:\n",
    "            \n",
    "            # return a named tuple\n",
    "            Logits     = namedtuple ('Logits',['logits'])\n",
    "            out_logits = Logits (out_logits)\n",
    "            return out_logits                                          # you can access the value as out_logits.logits        \n",
    "        \n",
    "        log_ps     = self.outActivtn (out_logits)                      # ;print('labels.size=', labels.size(), 'log_ps.size=', log_ps.size())\n",
    "        # calculate loss, this is used for back propagation later\n",
    "        batchLoss  = self.criterion (log_ps, labels)\n",
    "        \n",
    "        # return a named tuple\n",
    "        Loss_Logits = namedtuple ('Loss_Logits',['loss','logits'])\n",
    "        loss_logits = Loss_Logits (batchLoss, out_logits)              # you can access the value as out_logits.loss, out_logits.logits\n",
    "        #print ('11. out_logits =', out_logits)\n",
    "        return loss_logits"
   ]
  },
  {
   "cell_type": "code",
   "execution_count": 37,
   "metadata": {
    "execution": {
     "iopub.execute_input": "2021-01-16T16:52:52.375583Z",
     "iopub.status.busy": "2021-01-16T16:52:52.375002Z",
     "iopub.status.idle": "2021-01-16T16:52:52.474352Z",
     "shell.execute_reply": "2021-01-16T16:52:52.474823Z"
    },
    "papermill": {
     "duration": 0.122645,
     "end_time": "2021-01-16T16:52:52.474981",
     "exception": false,
     "start_time": "2021-01-16T16:52:52.352336",
     "status": "completed"
    },
    "tags": []
   },
   "outputs": [],
   "source": [
    "model = Clf_Model ()\n",
    "\n",
    "# This code version 1 broke after training, hence reloading that model here.\n",
    "# try:\n",
    "#     model.load_state_dict (torch.load (\"../input/jane-embed-nn-model-rishi/jane_embed_nn_model_rishi.pt\"))\n",
    "# except:\n",
    "#     model.load_state_dict (torch.load (\"../input/jane-embed-nn-model-rishi/jane_embed_nn_model_rishi.pt\", map_location='cpu'))\n",
    "model = model.float ()"
   ]
  },
  {
   "cell_type": "code",
   "execution_count": 38,
   "metadata": {
    "execution": {
     "iopub.execute_input": "2021-01-16T16:52:52.522130Z",
     "iopub.status.busy": "2021-01-16T16:52:52.521579Z",
     "iopub.status.idle": "2021-01-16T16:52:52.523689Z",
     "shell.execute_reply": "2021-01-16T16:52:52.524124Z"
    },
    "papermill": {
     "duration": 0.029227,
     "end_time": "2021-01-16T16:52:52.524247",
     "exception": false,
     "start_time": "2021-01-16T16:52:52.495020",
     "status": "completed"
    },
    "tags": []
   },
   "outputs": [
    {
     "name": "stdout",
     "output_type": "stream",
     "text": [
      "No GPU available, using the CPU instead.\n"
     ]
    }
   ],
   "source": [
    "training_args = TrainingArguments (\n",
    "\n",
    "    output_dir      = './results',     # output directory\n",
    "    num_train_epochs= 5,               # for training from scratch\n",
    "    warmup_steps    = 10,              # for lr scheduling\n",
    "    eval_steps      = 100,             # Number of update steps between two evaluations, if <=0 then eval at end of each epoch\n",
    "    max_steps       = 0,               # If set to a positive number, the total number of training steps to perform. Overrides num_train_epochs\n",
    "    learning_rate   = 5e-4,            # Actually = 1e-2 for training from scratch, without using the jane_embed_nn_model_rishi.pt\n",
    "    # adam_epsilon  = 1e-8             # - default is 1e-8 is “a very small number to prevent any division by zero\"\n",
    "    per_device_train_batch_size= 50000, # batch size per device during training\n",
    "    per_device_eval_batch_size = 50000, # batch size for evaluation\n",
    ")\n",
    "trainer = MyTrainer (\n",
    "    \n",
    "    model         = model,           # the instantiated 🤗 Transformers model to be trained\n",
    "    args          = training_args,   # training arguments, defined above\n",
    "    train_dataset = train_dataset,   # training dataset\n",
    "    eval_dataset  = eval_dataset,    # evaluation dataset\n",
    ")"
   ]
  },
  {
   "cell_type": "code",
   "execution_count": 40,
   "metadata": {
    "execution": {
     "iopub.execute_input": "2021-01-16T16:52:52.613478Z",
     "iopub.status.busy": "2021-01-16T16:52:52.612879Z",
     "iopub.status.idle": "2021-01-16T16:55:41.111334Z",
     "shell.execute_reply": "2021-01-16T16:55:41.112184Z"
    },
    "papermill": {
     "duration": 168.522099,
     "end_time": "2021-01-16T16:55:41.112348",
     "exception": false,
     "start_time": "2021-01-16T16:52:52.590249",
     "status": "completed"
    },
    "tags": []
   },
   "outputs": [],
   "source": [
    "# uncomment this to train from scratch\n",
    "trainer.train ()"
   ]
  },
  {
   "cell_type": "code",
   "execution_count": 19,
   "metadata": {
    "execution": {
     "iopub.execute_input": "2021-01-16T16:55:41.330798Z",
     "iopub.status.busy": "2021-01-16T16:55:41.330167Z",
     "iopub.status.idle": "2021-01-16T16:55:41.344922Z",
     "shell.execute_reply": "2021-01-16T16:55:41.344454Z"
    },
    "papermill": {
     "duration": 0.207249,
     "end_time": "2021-01-16T16:55:41.345030",
     "exception": false,
     "start_time": "2021-01-16T16:55:41.137781",
     "status": "completed"
    },
    "tags": []
   },
   "outputs": [],
   "source": [
    "# uncomment this to train from scratch\n",
    "# Load the best model so far\n",
    "del model\n",
    "gc.collect ()\n",
    "model = Clf_Model ()\n",
    "try:\n",
    "    model.load_state_dict (torch.load (\"jane_embed_nn_model_rishi.pt\"))\n",
    "except:\n",
    "    model.load_state_dict (torch.load (\"jane_embed_nn_model_rishi.pt\", map_location='cpu'))\n",
    "model = model.float ()"
   ]
  },
  {
   "cell_type": "code",
   "execution_count": 20,
   "metadata": {
    "execution": {
     "iopub.execute_input": "2021-01-16T16:55:41.401443Z",
     "iopub.status.busy": "2021-01-16T16:55:41.400857Z",
     "iopub.status.idle": "2021-01-16T16:55:41.404770Z",
     "shell.execute_reply": "2021-01-16T16:55:41.404249Z"
    },
    "papermill": {
     "duration": 0.034962,
     "end_time": "2021-01-16T16:55:41.404873",
     "exception": false,
     "start_time": "2021-01-16T16:55:41.369911",
     "status": "completed"
    },
    "tags": []
   },
   "outputs": [
    {
     "name": "stdout",
     "output_type": "stream",
     "text": [
      "No GPU available, using the CPU instead.\n"
     ]
    }
   ],
   "source": [
    "training_args = TrainingArguments (\n",
    "\n",
    "    output_dir      = './results',     # output directory\n",
    "    num_train_epochs= 2,               # for training from scratch\n",
    "    warmup_steps    = 5,               # for lr scheduling\n",
    "    eval_steps      = 20,              # Number of update steps between two evaluations, if <=0 then eval at end of each epoch\n",
    "    max_steps       = 0,               # If set to a positive number, the total number of training steps to perform. Overrides num_train_epochs\n",
    "    learning_rate   = 5e-5,            # Actually = 1e-2 for training from scratch, without using the jane_embed_nn_model_rishi.pt\n",
    "    # adam_epsilon  = 1e-8             # - default is 1e-8 is “a very small number to prevent any division by zero\"\n",
    "    per_device_train_batch_size= 50000, # batch size per device during training\n",
    "    per_device_eval_batch_size = 50000, # batch size for evaluation\n",
    ")\n",
    "trainer = MyTrainer (\n",
    "    \n",
    "    model         = model,           # the instantiated 🤗 Transformers model to be trained\n",
    "    args          = training_args,   # training arguments, defined above\n",
    "    train_dataset = eval_dataset,    # training dataset\n",
    "    eval_dataset  = None,            # evaluation dataset\n",
    ")"
   ]
  },
  {
   "cell_type": "code",
   "execution_count": 21,
   "metadata": {
    "execution": {
     "iopub.execute_input": "2021-01-16T16:55:41.457066Z",
     "iopub.status.busy": "2021-01-16T16:55:41.456537Z",
     "iopub.status.idle": "2021-01-16T16:55:47.823371Z",
     "shell.execute_reply": "2021-01-16T16:55:47.824166Z"
    },
    "papermill": {
     "duration": 6.394556,
     "end_time": "2021-01-16T16:55:47.824369",
     "exception": false,
     "start_time": "2021-01-16T16:55:41.429813",
     "status": "completed"
    },
    "tags": []
   },
   "outputs": [
    {
     "name": "stdout",
     "output_type": "stream",
     "text": [
      "\n",
      "======== Epoch 1 / 2 ========\n",
      "Training...\n",
      "  Average training loss: 0.69\n",
      "  Training epcoh took: 0:00:03\n",
      "\n",
      "======== Epoch 2 / 2 ========\n",
      "Training...\n",
      "  Average training loss: 0.69\n",
      "  Training epcoh took: 0:00:03\n",
      "\n",
      "Training complete!\n",
      "Total training took 0:00:06 (h:mm:ss)\n"
     ]
    },
    {
     "data": {
      "image/png": "[encoded data removed]",
      "text/plain": [
       "<Figure size 432x288 with 1 Axes>"
      ]
     },
     "metadata": {
      "needs_background": "light"
     },
     "output_type": "display_data"
    },
    {
     "name": "stdout",
     "output_type": "stream",
     "text": [
      "mccs       : -1\n",
      "accuracies : -1\n",
      "precisions : -1\n",
      "recalls    : -1\n",
      "f1_scores  : -1\n",
      "auc        : -1\n",
      "losses     : -1\n",
      "tr_losses  : [0.6909147500991821, 0.6910355448722839]\n"
     ]
    },
    {
     "data": {
      "text/plain": [
       "[{'epoch': 1, 'training_loss': 0.6909147500991821, 'training_time': '0:00:03'},\n",
       " {'epoch': 2, 'training_loss': 0.6910355448722839, 'training_time': '0:00:03'}]"
      ]
     },
     "execution_count": 21,
     "metadata": {},
     "output_type": "execute_result"
    }
   ],
   "source": [
    "# uncomment this to train from scratch\n",
    "trainer.train ()"
   ]
  },
  {
   "cell_type": "markdown",
   "metadata": {
    "papermill": {
     "duration": 0.027031,
     "end_time": "2021-01-16T16:55:47.878932",
     "exception": false,
     "start_time": "2021-01-16T16:55:47.851901",
     "status": "completed"
    },
    "tags": []
   },
   "source": [
    "# Test"
   ]
  },
  {
   "cell_type": "code",
   "execution_count": 22,
   "metadata": {
    "execution": {
     "iopub.execute_input": "2021-01-16T16:55:47.937678Z",
     "iopub.status.busy": "2021-01-16T16:55:47.937045Z",
     "iopub.status.idle": "2021-01-16T16:55:47.967846Z",
     "shell.execute_reply": "2021-01-16T16:55:47.967264Z"
    },
    "papermill": {
     "duration": 0.062027,
     "end_time": "2021-01-16T16:55:47.967953",
     "exception": false,
     "start_time": "2021-01-16T16:55:47.905926",
     "status": "completed"
    },
    "tags": []
   },
   "outputs": [],
   "source": [
    "import janestreet\n",
    "env      = janestreet.make_env() # initialize the environment\n",
    "env_iter = env.iter_test() # an iterator which loops over the test set"
   ]
  },
  {
   "cell_type": "markdown",
   "metadata": {
    "papermill": {
     "duration": 0.026892,
     "end_time": "2021-01-16T16:55:48.023538",
     "exception": false,
     "start_time": "2021-01-16T16:55:47.996646",
     "status": "completed"
    },
    "tags": []
   },
   "source": [
    "# For direct submission, without using the Trainer class"
   ]
  },
  {
   "cell_type": "code",
   "execution_count": 23,
   "metadata": {
    "execution": {
     "iopub.execute_input": "2021-01-16T16:55:48.088137Z",
     "iopub.status.busy": "2021-01-16T16:55:48.087524Z",
     "iopub.status.idle": "2021-01-16T16:58:40.530253Z",
     "shell.execute_reply": "2021-01-16T16:58:40.529020Z"
    },
    "papermill": {
     "duration": 172.479808,
     "end_time": "2021-01-16T16:58:40.530434",
     "exception": false,
     "start_time": "2021-01-16T16:55:48.050626",
     "status": "completed"
    },
    "tags": []
   },
   "outputs": [],
   "source": [
    "for test_df, pred_df in env_iter:\n",
    "    if test_df[\"weight\"].item () > 0:\n",
    "        \n",
    "        test_df.drop (columns=['weight', 'date'], inplace=True)\n",
    "        test_df.reset_index (drop=True, inplace=True)\n",
    "        test_df = preprocess_pipe.transform (test_df)        \n",
    "        test_dataset = JaneDataset (test_df)\n",
    "        pred = []\n",
    "        for i in range (len (test_dataset)):\n",
    "            \n",
    "            batch = test_dataset[i]\n",
    "            # Add batch to GPU\n",
    "            for k in batch:\n",
    "                batch[k] = torch.tensor (batch[k]).to (DEVICE).float ()\n",
    "            pred_logits  = model (**batch).logits.detach ().cpu ().numpy ()\n",
    "            pred.append (pred_logits)\n",
    "        \n",
    "        pred_logits    = np.concatenate (pred, axis=0).reshape ((-1, 2))\n",
    "        pred_labels    = np.argmax (pred_logits, axis=1).flatten ()\n",
    "        pred_df.action = pred_labels.astype (int)\n",
    "    else:\n",
    "        pred_df.action = 0\n",
    "        \n",
    "    # print (pred_df)\n",
    "    # print (\"--------------\")\n",
    "    env.predict (pred_df)"
   ]
  },
  {
   "cell_type": "code",
   "execution_count": 24,
   "metadata": {
    "execution": {
     "iopub.execute_input": "2021-01-16T16:58:40.590502Z",
     "iopub.status.busy": "2021-01-16T16:58:40.589711Z",
     "iopub.status.idle": "2021-01-16T16:58:40.592696Z",
     "shell.execute_reply": "2021-01-16T16:58:40.593357Z"
    },
    "papermill": {
     "duration": 0.034593,
     "end_time": "2021-01-16T16:58:40.593537",
     "exception": false,
     "start_time": "2021-01-16T16:58:40.558944",
     "status": "completed"
    },
    "tags": []
   },
   "outputs": [
    {
     "name": "stdout",
     "output_type": "stream",
     "text": [
      "Done !\n"
     ]
    }
   ],
   "source": [
    "print ('Done !')"
   ]
  },
  {
   "cell_type": "code",
   "execution_count": null,
   "metadata": {
    "papermill": {
     "duration": 0.027667,
     "end_time": "2021-01-16T16:58:40.650066",
     "exception": false,
     "start_time": "2021-01-16T16:58:40.622399",
     "status": "completed"
    },
    "tags": []
   },
   "outputs": [],
   "source": []
  }
 ],
 "metadata": {
  "kernelspec": {
   "display_name": "Python 3",
   "language": "python",
   "name": "python3"
  },
  "language_info": {
   "codemirror_mode": {
    "name": "ipython",
    "version": 3
   },
   "file_extension": ".py",
   "mimetype": "text/x-python",
   "name": "python",
   "nbconvert_exporter": "python",
   "pygments_lexer": "ipython3",
   "version": "3.8.5"
  },
  "papermill": {
   "duration": 511.70524,
   "end_time": "2021-01-16T16:58:40.786416",
   "environment_variables": {},
   "exception": null,
   "input_path": "__notebook__.ipynb",
   "output_path": "__notebook__.ipynb",
   "parameters": {},
   "start_time": "2021-01-16T16:50:09.081176",
   "version": "2.1.0"
  }
 },
 "nbformat": 4,
 "nbformat_minor": 4
}
