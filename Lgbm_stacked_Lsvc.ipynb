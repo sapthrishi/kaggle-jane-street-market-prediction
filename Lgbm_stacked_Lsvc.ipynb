{
 "cells": [
  {
   "cell_type": "code",
   "execution_count": 1,
   "metadata": {
    "execution": {
     "iopub.execute_input": "2021-02-03T16:20:52.199819Z",
     "iopub.status.busy": "2021-02-03T16:20:52.199201Z",
     "iopub.status.idle": "2021-02-03T16:20:52.228186Z",
     "shell.execute_reply": "2021-02-03T16:20:52.227678Z"
    },
    "papermill": {
     "duration": 0.055859,
     "end_time": "2021-02-03T16:20:52.228308",
     "exception": false,
     "start_time": "2021-02-03T16:20:52.172449",
     "status": "completed"
    },
    "tags": []
   },
   "outputs": [
    {
     "name": "stdout",
     "output_type": "stream",
     "text": [
      "/kaggle/input/janelgbmstackedlsvc-1/lgbs.bin\n",
      "/kaggle/input/janelgbmstackedlsvc-1/sclfs.bin\n",
      "/kaggle/input/janelgbmstackedlsvc-1/submission.csv\n",
      "/kaggle/input/jane-street-market-prediction/example_sample_submission.csv\n",
      "/kaggle/input/jane-street-market-prediction/features.csv\n",
      "/kaggle/input/jane-street-market-prediction/example_test.csv\n",
      "/kaggle/input/jane-street-market-prediction/train.csv\n",
      "/kaggle/input/jane-street-market-prediction/janestreet/competition.cpython-37m-x86_64-linux-gnu.so\n",
      "/kaggle/input/jane-street-market-prediction/janestreet/__init__.py\n",
      "/kaggle/input/jane-stacked-lgbm-rishi/lgbm_1.bin\n",
      "/kaggle/input/jane-stacked-lgbm-rishi/lgbm_2.bin\n",
      "/kaggle/input/jane-stacked-lgbm-rishi/sclf.bin\n"
     ]
    }
   ],
   "source": [
    "# This Python 3 environment comes with many helpful analytics libraries installed\n",
    "# It is defined by the kaggle/python Docker image: https://github.com/kaggle/docker-python\n",
    "# For example, here's several helpful packages to load\n",
    "\n",
    "import numpy as np # linear algebra\n",
    "import pandas as pd # data processing, CSV file I/O (e.g. pd.read_csv)\n",
    "\n",
    "# Input data files are available in the read-only \"../input/\" directory\n",
    "# For example, running this (by clicking run or pressing Shift+Enter) will list all files under the input directory\n",
    "\n",
    "import os\n",
    "for dirname, _, filenames in os.walk('/kaggle/input'):\n",
    "    for filename in filenames:\n",
    "        print(os.path.join(dirname, filename))\n",
    "\n",
    "# You can write up to 20GB to the current directory (/kaggle/working/) that gets preserved as output when you create a version using \"Save & Run All\" \n",
    "# You can also write temporary files to /kaggle/temp/, but they won't be saved outside of the current session"
   ]
  },
  {
   "cell_type": "code",
   "execution_count": 2,
   "metadata": {
    "execution": {
     "iopub.execute_input": "2021-02-03T16:20:52.279426Z",
     "iopub.status.busy": "2021-02-03T16:20:52.278774Z",
     "iopub.status.idle": "2021-02-03T16:20:55.817262Z",
     "shell.execute_reply": "2021-02-03T16:20:55.816572Z"
    },
    "papermill": {
     "duration": 3.568562,
     "end_time": "2021-02-03T16:20:55.817389",
     "exception": false,
     "start_time": "2021-02-03T16:20:52.248827",
     "status": "completed"
    },
    "tags": []
   },
   "outputs": [
    {
     "data": {
      "text/html": [
       "<style type='text/css'>\n",
       ".datatable table.frame { margin-bottom: 0; }\n",
       ".datatable table.frame thead { border-bottom: none; }\n",
       ".datatable table.frame tr.coltypes td {  color: #FFFFFF;  line-height: 6px;  padding: 0 0.5em;}\n",
       ".datatable .bool    { background: #DDDD99; }\n",
       ".datatable .object  { background: #565656; }\n",
       ".datatable .int     { background: #5D9E5D; }\n",
       ".datatable .float   { background: #4040CC; }\n",
       ".datatable .str     { background: #CC4040; }\n",
       ".datatable .row_index {  background: var(--jp-border-color3);  border-right: 1px solid var(--jp-border-color0);  color: var(--jp-ui-font-color3);  font-size: 9px;}\n",
       ".datatable .frame tr.coltypes .row_index {  background: var(--jp-border-color0);}\n",
       ".datatable th:nth-child(2) { padding-left: 12px; }\n",
       ".datatable .hellipsis {  color: var(--jp-cell-editor-border-color);}\n",
       ".datatable .vellipsis {  background: var(--jp-layout-color0);  color: var(--jp-cell-editor-border-color);}\n",
       ".datatable .na {  color: var(--jp-cell-editor-border-color);  font-size: 80%;}\n",
       ".datatable .footer { font-size: 9px; }\n",
       ".datatable .frame_dimensions {  background: var(--jp-border-color3);  border-top: 1px solid var(--jp-border-color0);  color: var(--jp-ui-font-color3);  display: inline-block;  opacity: 0.6;  padding: 1px 10px 1px 5px;}\n",
       "</style>\n"
      ],
      "text/plain": [
       "<IPython.core.display.HTML object>"
      ]
     },
     "metadata": {},
     "output_type": "display_data"
    }
   ],
   "source": [
    "import gc\n",
    "import random\n",
    "from   tqdm import tqdm\n",
    "from   sklearn.model_selection import train_test_split\n",
    "import pandas as pd\n",
    "import seaborn as sns\n",
    "import matplotlib.pyplot as plt\n",
    "import numpy as np\n",
    "import random\n",
    "import psutil\n",
    "import datatable as dt\n",
    "from   collections import namedtuple\n",
    "from   sklearn.pipeline import Pipeline\n",
    "from   sklearn.impute import SimpleImputer\n",
    "from   sklearn.preprocessing import StandardScaler\n",
    "from   sklearn.pipeline import Pipeline\n",
    "import lightgbm as lgb\n",
    "from   sklearn.model_selection import RandomizedSearchCV, GridSearchCV\n",
    "import pickle\n",
    "from   mlxtend.classifier import StackingClassifier, StackingCVClassifier\n",
    "from   sklearn.calibration import CalibratedClassifierCV\n",
    "import os\n",
    "import seaborn as sns\n",
    "from   sklearn.utils import shuffle\n",
    "import datetime\n",
    "import time\n",
    "from scipy.stats import randint as sp_randint\n",
    "from scipy.stats import uniform as sp_uniform\n",
    "from sklearn.metrics import balanced_accuracy_score, recall_score, precision_score, confusion_matrix, make_scorer, f1_score, accuracy_score, precision_recall_fscore_support, matthews_corrcoef, roc_auc_score\n",
    "\n",
    "from scipy.sparse import csr_matrix\n",
    "from sklearn.model_selection import GridSearchCV\n",
    "from sklearn.linear_model import LogisticRegression\n",
    "from sklearn.base import BaseEstimator, TransformerMixin\n",
    "import xgboost as xgb\n",
    "from sklearn.svm import LinearSVC\n",
    "from copy import deepcopy\n",
    "\n",
    "import torch\n",
    "\n",
    "import warnings\n",
    "warnings.filterwarnings (\"ignore\")\n",
    "VERSION = ''"
   ]
  },
  {
   "cell_type": "code",
   "execution_count": 3,
   "metadata": {
    "execution": {
     "iopub.execute_input": "2021-02-03T16:20:55.864691Z",
     "iopub.status.busy": "2021-02-03T16:20:55.864040Z",
     "iopub.status.idle": "2021-02-03T16:20:55.866866Z",
     "shell.execute_reply": "2021-02-03T16:20:55.867347Z"
    },
    "papermill": {
     "duration": 0.028963,
     "end_time": "2021-02-03T16:20:55.867498",
     "exception": false,
     "start_time": "2021-02-03T16:20:55.838535",
     "status": "completed"
    },
    "tags": []
   },
   "outputs": [],
   "source": [
    "# Global Params\n",
    "SEED         = 420\n",
    "N_ESTIMATORS = 550\n",
    "DEVICE       = torch.device (\"cpu\")"
   ]
  },
  {
   "cell_type": "markdown",
   "metadata": {
    "papermill": {
     "duration": 0.020365,
     "end_time": "2021-02-03T16:20:55.908641",
     "exception": false,
     "start_time": "2021-02-03T16:20:55.888276",
     "status": "completed"
    },
    "tags": []
   },
   "source": [
    "# Helpers"
   ]
  },
  {
   "cell_type": "code",
   "execution_count": 4,
   "metadata": {
    "execution": {
     "iopub.execute_input": "2021-02-03T16:20:55.955732Z",
     "iopub.status.busy": "2021-02-03T16:20:55.955109Z",
     "iopub.status.idle": "2021-02-03T16:20:55.958694Z",
     "shell.execute_reply": "2021-02-03T16:20:55.958072Z"
    },
    "papermill": {
     "duration": 0.029411,
     "end_time": "2021-02-03T16:20:55.958805",
     "exception": false,
     "start_time": "2021-02-03T16:20:55.929394",
     "status": "completed"
    },
    "tags": []
   },
   "outputs": [],
   "source": [
    "CV_SCORERS = {\n",
    "    'precision_score':         make_scorer (precision_score),\n",
    "    'recall_score':            make_scorer (recall_score),\n",
    "    'f1_score':                make_scorer (f1_score),\n",
    "    'balanced_accuracy_score': make_scorer (balanced_accuracy_score)\n",
    "}"
   ]
  },
  {
   "cell_type": "code",
   "execution_count": 5,
   "metadata": {
    "execution": {
     "iopub.execute_input": "2021-02-03T16:20:56.009422Z",
     "iopub.status.busy": "2021-02-03T16:20:56.008627Z",
     "iopub.status.idle": "2021-02-03T16:20:56.011524Z",
     "shell.execute_reply": "2021-02-03T16:20:56.011054Z"
    },
    "papermill": {
     "duration": 0.031954,
     "end_time": "2021-02-03T16:20:56.011660",
     "exception": false,
     "start_time": "2021-02-03T16:20:55.979706",
     "status": "completed"
    },
    "tags": []
   },
   "outputs": [],
   "source": [
    "def pickleSave (obj, file):\n",
    "\n",
    "    if VERSION != '':\n",
    "\n",
    "        file, ext = os.path.splitext (file)\n",
    "        file += \"_v\" + str (VERSION) + ext\n",
    "    dirs = os.path.dirname (file) \n",
    "    if dirs:\n",
    "        os.makedirs (dirs, exist_ok=True)\n",
    "    with open (file, 'wb') as f:\n",
    "        pickle.dump (obj, f)\n",
    "    return\n",
    "\n",
    "def unpickle (file):\n",
    "\n",
    "    if VERSION != '':\n",
    "\n",
    "        file, ext = os.path.splitext(file)\n",
    "        file += \"_v\" + str(VERSION) + ext\n",
    "    return pickle.load (open (file, 'rb'))"
   ]
  },
  {
   "cell_type": "code",
   "execution_count": 6,
   "metadata": {
    "execution": {
     "iopub.execute_input": "2021-02-03T16:20:56.095113Z",
     "iopub.status.busy": "2021-02-03T16:20:56.086037Z",
     "iopub.status.idle": "2021-02-03T16:20:56.097850Z",
     "shell.execute_reply": "2021-02-03T16:20:56.097231Z"
    },
    "papermill": {
     "duration": 0.064836,
     "end_time": "2021-02-03T16:20:56.097971",
     "exception": false,
     "start_time": "2021-02-03T16:20:56.033135",
     "status": "completed"
    },
    "tags": []
   },
   "outputs": [],
   "source": [
    "class Best_clf_cv_transformer (BaseEstimator, TransformerMixin): \n",
    "    \n",
    "    def __init__(self, myparams={'name':'LSvc', 'C':1}, **other_params):\n",
    "        \n",
    "        self.myparams = myparams\n",
    "        self.myinit (**other_params)\n",
    "        return\n",
    "    \n",
    "    def myinit (self, **other_params):\n",
    "        \n",
    "        self.cv    =  5\n",
    "        if 'cv' in self.myparams:\n",
    "            self.cv= self.myparams['cv']\n",
    "        clf        =  None\n",
    "        name       =  self.myparams['name']\n",
    "        if name   == 'Logit':\n",
    "            clf    =  LogisticRegression (random_state=0)\n",
    "        elif name == 'DT':\n",
    "            clf    =  DecisionTreeClassifier (random_state=0)\n",
    "        elif name == 'RidgClf':\n",
    "            clf    =  RidgeClassifier (random_state=0)\n",
    "        elif name == 'Prcpt':\n",
    "            clf    =  Perceptron (random_state=0)\n",
    "        elif name == 'PssAggClf':\n",
    "            clf    =  PassiveAggressiveClassifier (random_state=0)\n",
    "        elif name == 'Knn':\n",
    "            clf    =  KNeighborsClassifier (random_state=0)\n",
    "        elif name == 'RF':\n",
    "            clf    =  RandomForestClassifier (random_state=0)\n",
    "        elif name == 'NearCent':\n",
    "            clf    =  NearestCentroid (random_state=0)\n",
    "        elif name == 'MultNB':\n",
    "            clf    =  MultinomialNB (random_state=0)\n",
    "        elif name == 'BernNB':\n",
    "            clf    =  BernoulliNB (random_state=0)    \n",
    "        elif name == 'Svc':\n",
    "            clf    =  SVC (probability=True, random_state=0)\n",
    "        elif name == 'LSvc':\n",
    "            clf    =  LinearSVC (random_state=0)\n",
    "        elif name == 'Xgb':\n",
    "            clf    =  xgb.XGBClassifier (random_state=0) # XGBRFClassifier()\n",
    "        elif name == 'Catb' :                            # issues with CV\n",
    "            clf    =  CatBoostClassifier (verbose=False, random_state=0)\n",
    "        elif name == 'FCNN':\n",
    "            clf    =  None    # init at  fit ()\n",
    "        else:\n",
    "            print('ERROR Best_clf_cv_transformer: invalid @param name \\n')\n",
    "            clf    = None\n",
    "        self.isCV = True\n",
    "        if 'isCV' in self.myparams:\n",
    "            \n",
    "            self.isCV = self.myparams['isCV']\n",
    "        self.n_estimators = 1\n",
    "        if 'n_estimators' in self.myparams:\n",
    "            \n",
    "            self.n_estimators = self.myparams['n_estimators']\n",
    "        if 'params' in self.myparams:\n",
    "            \n",
    "            clf.set_params (**self.myparams['params'])\n",
    "        if other_params:\n",
    "            \n",
    "            clf.set_params (**other_params)\n",
    "        self.param_grid = None\n",
    "        if 'param_grid' in self.myparams:\n",
    "            \n",
    "            self.param_grid = self.myparams['param_grid']\n",
    "        self.clf = clf\n",
    "        self.cv_score = 0\n",
    "        self.name = name\n",
    "        self._estimator_type='classifier'\n",
    "        return    \n",
    "    \n",
    "    def fit (self, X, Y, **FIT_PARAMS):\n",
    "        \n",
    "        train_len = len (Y[pd.isnull(Y)==False])\n",
    "        X, Y = X[:train_len], Y[:train_len]\n",
    "        print ('training', self.name, 'for X.shape =', X.shape)\n",
    "        n_jobs = -1    \n",
    "        if self.name == 'FCNN':\n",
    "            \n",
    "            lrScheduler = LRScheduler (\n",
    "                \n",
    "                CyclicLR,\n",
    "                base_lr=0.0001,\n",
    "                max_lr=0.05,\n",
    "                step_every='batch'\n",
    "            )\n",
    "            self.clf = NeuralNetClassifier (\n",
    "                \n",
    "                    module=MyModule,\n",
    "                    module__inputCount=X.shape[1], \n",
    "                    module__outputCount=2, \n",
    "                    module__hiddenLayerCounts=[15],\n",
    "                    max_epochs=1000,\n",
    "                    # lr=0.01,\n",
    "                    verbose=0,\n",
    "                    # Shuffle training data on each epoch\n",
    "                    iterator_train__shuffle=True,\n",
    "                    callbacks=[('LRScheduler', lrScheduler), ('EarlyStopping', EarlyStopping (patience=20))]\n",
    "            )\n",
    "            X = X.astype (np.float32)\n",
    "            Y = Y.astype (np.int64)\n",
    "            n_jobs = None\n",
    "        if self.isCV:\n",
    "            if self.param_grid:\n",
    "\n",
    "                gridSearchCV = GridSearchCV (\n",
    "                    self.clf, self.param_grid, iid=False, cv=self.cv, scoring=CV_SCORERS, \n",
    "                    refit='f1_score', n_jobs=n_jobs\n",
    "                )\n",
    "                gridSearchCV.fit (X, Y)  \n",
    "                print (self.name, \": Best_clf_cv_transformer: Best parameter (CV score=%0.3f):\" % gridSearchCV.best_score_)\n",
    "                print (gridSearchCV.best_params_)\n",
    "                self.clf = gridSearchCV.best_estimator_\n",
    "                self.cv_score = gridSearchCV.best_score_\n",
    "                if self.name == 'LSvc':\n",
    "                    \n",
    "                    self.clf = CalibratedClassifierCV (self.clf)\n",
    "                    # self.clf.fit (X, Y)\n",
    "                # global RESULTS\n",
    "                # RESULTS.append(benchmark(self.clf))\n",
    "                # TODO: Plot scores for each split, and get its' variance\n",
    "            else:\n",
    "\n",
    "                if self.name == 'LSvc':\n",
    "                    \n",
    "                    self.clf = CalibratedClassifierCV (self.clf)\n",
    "                print (self.name, ': Best_clf_cv_transformer: starting CV =', self.cv)\n",
    "                if self.name not in {'fss'}:  # {'RF', 'Catb', 'FCNN'}:\n",
    "                    \n",
    "                    cv_results = cross_validate (self.clf, X, Y, cv=int(self.cv))\n",
    "                else:\n",
    "                    \n",
    "                    voting_clf = VotingClassifier (estimators=[(self.name, self.clf)])\n",
    "                    cv_results = cross_validate (voting_clf, X, Y, cv=self.cv)\n",
    "                self.cv_score = np.mean (cv_results['test_score'])\n",
    "                # self.clf.fit (X, Y)\n",
    "                print (self.name, \": cv_score:   %0.3f\" % self.cv_score)\n",
    "        else:\n",
    "            if self.name == 'LSvc':\n",
    "                self.clf = CalibratedClassifierCV (self.clf)\n",
    "            # self.clf.fit (X, Y)\n",
    "        if self.n_estimators > 1:\n",
    "            self.clf = BaggingClassifier (base_estimator=self.clf, n_estimators=self.n_estimators)\n",
    "        self.clf.fit (X, Y)\n",
    "        print (\"Done Fitting\", self.name)\n",
    "        return self\n",
    "    \n",
    "    def get_cv_score (self):\n",
    "        return self.cv_score\n",
    "    \n",
    "    def transform (self, X, Y=None, **FIT_PARAMS):        \n",
    "        if self.name == 'FCNN':\n",
    "            X = X.astype (np.float32)\n",
    "            if not Y is None:\n",
    "                Y = Y.astype (np.int64)        \n",
    "        return self.clf.transform(X, Y)\n",
    "    \n",
    "    def predict (self, X, **FIT_PARAMS):        \n",
    "        if self.name == 'FCNN':\n",
    "            X = X.astype (np.float32)      \n",
    "        return self.clf.predict(X)\n",
    "    \n",
    "    def predict_proba (self, X):        \n",
    "        if self.name == 'FCNN':\n",
    "            X = X.astype (np.float32)      \n",
    "        return self.clf.predict_proba (X)\n",
    "    \n",
    "    def predict_log_proba (self, X):        \n",
    "        if self.name == 'FCNN':\n",
    "            X = X.astype (np.float32)\n",
    "        return self.clf.predict_log_proba (X)\n",
    "    \n",
    "    def score (self, X, Y, **FIT_PARAMS):        \n",
    "        if self.name == 'FCNN':\n",
    "            X = X.astype (np.float32)\n",
    "        return self.clf.score (X, Y, **FIT_PARAMS)\n",
    "    \n",
    "    def decision_function (self, X, **FIT_PARAMS):        \n",
    "        if self.name == 'FCNN':\n",
    "            X = X.astype (np.float32)\n",
    "        return self.clf.decision_function (X)\n",
    "    \n",
    "    def set_params (self, **params):        \n",
    "        self.myparams = params['myparams']\n",
    "        params.pop ('myparams')\n",
    "        self.myinit (**params)\n",
    "        return self\n",
    "    \n",
    "    def get_params (self, deep=True):\n",
    "        params = {'myparams': self.myparams}\n",
    "        return params\n",
    "    \n",
    "    def apply (self, X):\n",
    "        return self.clf.apply(X)\n",
    "    \n",
    "    def decision_path (self, X):\n",
    "        return self.clf.decision_path (X)\n",
    "    \n",
    "    def staged_decision_function (self, X):\n",
    "        return self.clf.staged_decision_function (X)\n",
    "    \n",
    "    def staged_predict (self, X):\n",
    "        return self.clf.staged_predict (X)\n",
    "    \n",
    "    def staged_predict_proba (self, X):\n",
    "        return self.clf.staged_predict_proba (X)\n",
    "    \n",
    "    def staged_score (self, X):\n",
    "        return self.clf.staged_score (X)"
   ]
  },
  {
   "cell_type": "code",
   "execution_count": 7,
   "metadata": {
    "execution": {
     "iopub.execute_input": "2021-02-03T16:20:56.144393Z",
     "iopub.status.busy": "2021-02-03T16:20:56.143763Z",
     "iopub.status.idle": "2021-02-03T16:20:56.147817Z",
     "shell.execute_reply": "2021-02-03T16:20:56.148418Z"
    },
    "papermill": {
     "duration": 0.029108,
     "end_time": "2021-02-03T16:20:56.148565",
     "exception": false,
     "start_time": "2021-02-03T16:20:56.119457",
     "status": "completed"
    },
    "tags": []
   },
   "outputs": [],
   "source": [
    "def seed_all ():\n",
    "    \n",
    "    random.seed (SEED)\n",
    "    np.random.seed (SEED)\n",
    "    random.seed (SEED)\n",
    "    \n",
    "seed_all ()"
   ]
  },
  {
   "cell_type": "markdown",
   "metadata": {
    "papermill": {
     "duration": 0.020586,
     "end_time": "2021-02-03T16:20:56.190315",
     "exception": false,
     "start_time": "2021-02-03T16:20:56.169729",
     "status": "completed"
    },
    "tags": []
   },
   "source": [
    "# Read and preprocess the Data"
   ]
  },
  {
   "cell_type": "code",
   "execution_count": 8,
   "metadata": {
    "execution": {
     "iopub.execute_input": "2021-02-03T16:20:56.235105Z",
     "iopub.status.busy": "2021-02-03T16:20:56.234518Z",
     "iopub.status.idle": "2021-02-03T16:20:56.247476Z",
     "shell.execute_reply": "2021-02-03T16:20:56.248058Z"
    },
    "papermill": {
     "duration": 0.037039,
     "end_time": "2021-02-03T16:20:56.248226",
     "exception": false,
     "start_time": "2021-02-03T16:20:56.211187",
     "status": "completed"
    },
    "tags": []
   },
   "outputs": [],
   "source": [
    "def load_preprocess_data (filename='../input/jane-street-market-prediction/train.csv', isTrainData=True):\n",
    "    \n",
    "    dtype = None\n",
    "    if isTrainData:\n",
    "        \n",
    "        dtype = {\n",
    "            'date'      : 'int64', \n",
    "            'weight'    : 'float64',\n",
    "            'resp'      : 'float64',\n",
    "            'ts_id'     : 'int64',  \n",
    "            'feature_0' : 'float64'\n",
    "        }\n",
    "    else:\n",
    "        \n",
    "        dtype = {\n",
    "            'date'      : 'int64', \n",
    "            'weight'    : 'float64',\n",
    "            'feature_0' : 'float64'\n",
    "        }\n",
    "    for i in range (1, 130):\n",
    "        k = 'feature_' + str (i)\n",
    "        dtype[k] = 'float32'\n",
    "    \n",
    "    X = pd.read_csv (filename, dtype=dtype)\n",
    "    \n",
    "    resp_cols   = ['resp_1', 'resp_2', 'resp_3','resp_4', 'resp']    \n",
    "    X           = X.query ('date > 85')\n",
    "    X           = X[X['weight'] != 0].reset_index (drop = True)\n",
    "    y           = np.stack ([(X[c] > 0).astype ('int') for c in resp_cols]).T\n",
    "    f_columns   = [c for c in X.columns if \"feature\" in c]    \n",
    "    Weights     = X['weight'].values.reshape ((-1,1))\n",
    "    \n",
    "    if isTrainData:\n",
    "        X.drop (columns=['date', 'weight', 'resp', 'resp_1', 'resp_2', 'resp_3', 'resp_4', 'ts_id'], inplace=True)\n",
    "    else:\n",
    "        X.drop (columns=['date', 'weight'], inplace=True)\n",
    "          \n",
    "    preprocess_pipe =  Pipeline ([\n",
    "        (\"imputer\", SimpleImputer (missing_values=np.nan, strategy='mean')),\n",
    "        # (\"stand\",   StandardScaler (with_mean=False))\n",
    "    ])\n",
    "    X = preprocess_pipe.fit_transform (X)\n",
    "    \n",
    "    X = np.hstack ((X, Weights))\n",
    "    \n",
    "    X_train, X_test, y_train, y_test = train_test_split (X, y, test_size=0.05)\n",
    "    del X, y\n",
    "    gc.collect ()\n",
    "    \n",
    "    W_train = X_train[:, -1]\n",
    "    X_train = X_train[:, :-1]\n",
    "    W_test  = X_test[:, -1]\n",
    "    X_test  = X_test[:, :-1]\n",
    "    return X_train, X_test, y_train, y_test, W_train, W_test, preprocess_pipe"
   ]
  },
  {
   "cell_type": "code",
   "execution_count": 9,
   "metadata": {
    "execution": {
     "iopub.execute_input": "2021-02-03T16:20:56.294493Z",
     "iopub.status.busy": "2021-02-03T16:20:56.293901Z",
     "iopub.status.idle": "2021-02-03T16:23:37.520008Z",
     "shell.execute_reply": "2021-02-03T16:23:37.520506Z"
    },
    "papermill": {
     "duration": 161.250713,
     "end_time": "2021-02-03T16:23:37.520661",
     "exception": false,
     "start_time": "2021-02-03T16:20:56.269948",
     "status": "completed"
    },
    "tags": []
   },
   "outputs": [
    {
     "data": {
      "text/plain": [
       "((1492844, 130), (1492844, 5))"
      ]
     },
     "execution_count": 9,
     "metadata": {},
     "output_type": "execute_result"
    }
   ],
   "source": [
    "X_TRAIN, X_TEST, Y_TRAIN, Y_TEST, W_train, W_test, preprocess_pipe = load_preprocess_data ()\n",
    "gc.collect ()\n",
    "X_TRAIN.shape,  Y_TRAIN.shape"
   ]
  },
  {
   "cell_type": "code",
   "execution_count": 10,
   "metadata": {
    "execution": {
     "iopub.execute_input": "2021-02-03T16:23:37.566189Z",
     "iopub.status.busy": "2021-02-03T16:23:37.565233Z",
     "iopub.status.idle": "2021-02-03T16:23:37.569207Z",
     "shell.execute_reply": "2021-02-03T16:23:37.569941Z"
    },
    "papermill": {
     "duration": 0.02869,
     "end_time": "2021-02-03T16:23:37.570173",
     "exception": false,
     "start_time": "2021-02-03T16:23:37.541483",
     "status": "completed"
    },
    "tags": []
   },
   "outputs": [],
   "source": [
    "# TODO: comment this\n",
    "# X_TRAIN = X_TRAIN[:50000]\n",
    "# Y_TRAIN = Y_TRAIN[:50000]"
   ]
  },
  {
   "cell_type": "code",
   "execution_count": 11,
   "metadata": {
    "execution": {
     "iopub.execute_input": "2021-02-03T16:23:37.622699Z",
     "iopub.status.busy": "2021-02-03T16:23:37.621742Z",
     "iopub.status.idle": "2021-02-03T16:23:37.626789Z",
     "shell.execute_reply": "2021-02-03T16:23:37.627299Z"
    },
    "papermill": {
     "duration": 0.029898,
     "end_time": "2021-02-03T16:23:37.627465",
     "exception": false,
     "start_time": "2021-02-03T16:23:37.597567",
     "status": "completed"
    },
    "tags": []
   },
   "outputs": [],
   "source": [
    "def learning_rate_010_decay_power_09 (current_iter):\n",
    "    \n",
    "    base_learning_rate = 0.1\n",
    "    lr = base_learning_rate  * np.power (.995, current_iter)\n",
    "    return lr if lr > 1e-2 else 1e-2\n"
   ]
  },
  {
   "cell_type": "code",
   "execution_count": 12,
   "metadata": {
    "execution": {
     "iopub.execute_input": "2021-02-03T16:23:37.674129Z",
     "iopub.status.busy": "2021-02-03T16:23:37.673137Z",
     "iopub.status.idle": "2021-02-03T16:23:37.678592Z",
     "shell.execute_reply": "2021-02-03T16:23:37.679149Z"
    },
    "papermill": {
     "duration": 0.030158,
     "end_time": "2021-02-03T16:23:37.679299",
     "exception": false,
     "start_time": "2021-02-03T16:23:37.649141",
     "status": "completed"
    },
    "tags": []
   },
   "outputs": [],
   "source": [
    "# n_estimators is set to a \"large value\" say 5000. The actual number of trees build will depend on early stopping and 5000 define only the absolute maximum\n",
    "# or\n",
    "# train till a small say 600 rounds only and select the best esimator, then trail this estimator to 10,000 rounds with early stopping\n",
    "\n",
    "# Global Var\n",
    "FIT_PARAMS= {\n",
    "    \"early_stopping_rounds\":30, \n",
    "    \"eval_metric\" : 'auc', \n",
    "    \"eval_set\" : [(X_TEST, Y_TEST[:,-1])],\n",
    "    'eval_names': ['valid'],\n",
    "    'callbacks': [lgb.reset_parameter(learning_rate=learning_rate_010_decay_power_09)],\n",
    "    'verbose': 50,\n",
    "    'categorical_feature': 'auto'\n",
    "}"
   ]
  },
  {
   "cell_type": "code",
   "execution_count": null,
   "metadata": {
    "papermill": {
     "duration": 0.020498,
     "end_time": "2021-02-03T16:23:37.720725",
     "exception": false,
     "start_time": "2021-02-03T16:23:37.700227",
     "status": "completed"
    },
    "tags": []
   },
   "outputs": [],
   "source": []
  },
  {
   "cell_type": "markdown",
   "metadata": {
    "papermill": {
     "duration": 0.020364,
     "end_time": "2021-02-03T16:23:37.761833",
     "exception": false,
     "start_time": "2021-02-03T16:23:37.741469",
     "status": "completed"
    },
    "tags": []
   },
   "source": [
    "# Search for the best model under constraints"
   ]
  },
  {
   "cell_type": "markdown",
   "metadata": {
    "papermill": {
     "duration": 0.020308,
     "end_time": "2021-02-03T16:23:37.802927",
     "exception": false,
     "start_time": "2021-02-03T16:23:37.782619",
     "status": "completed"
    },
    "tags": []
   },
   "source": [
    "param_test = {\n",
    "     'num_leaves': sp_randint(6, 50), \n",
    "     'min_child_samples': sp_randint(100, 500), \n",
    "     'min_child_weight': [1e-5, 1e-3, 1e-2, 1e-1, 1, 1e1, 1e2, 1e3, 1e4],\n",
    "     'subsample': sp_uniform (loc=0.2, scale=0.8), \n",
    "     'colsample_bytree': sp_uniform(loc=0.4, scale=0.6),\n",
    "     'reg_alpha' : [0, 1e-1, 1, 5,  10],\n",
    "     'reg_lambda': [0, 1e-1, 1, 10, 20]\n",
    "}\n",
    "\n",
    "#This parameter defines the number of HP points to be tested\n",
    "n_HP_points_to_test = 4\n",
    "\n",
    "# do a random search\n",
    "lgb_clf = lgb.LGBMClassifier (max_depth=-1, random_state=SEED, silent=True, metric='None', n_jobs=8, n_estimators=N_ESTIMATORS)\n",
    "\n",
    "gs = RandomizedSearchCV (\n",
    "    estimator=lgb_clf, \n",
    "    param_distributions=param_test, \n",
    "    n_iter=n_HP_points_to_test,\n",
    "    scoring='roc_auc',\n",
    "    cv=3,\n",
    "    refit=True,\n",
    "    random_state=314,\n",
    "    verbose=False\n",
    ")"
   ]
  },
  {
   "cell_type": "markdown",
   "metadata": {
    "papermill": {
     "duration": 0.020728,
     "end_time": "2021-02-03T16:23:37.844500",
     "exception": false,
     "start_time": "2021-02-03T16:23:37.823772",
     "status": "completed"
    },
    "scrolled": true,
    "tags": []
   },
   "source": [
    "# uncomment this to train from scratch\n",
    "\n",
    "gs.fit (X_TRAIN, Y_TRAIN, **FIT_PARAMS)\n",
    "print ('Best score reached: {} with params: {} '.format (gs.best_score_, gs.best_params_))"
   ]
  },
  {
   "cell_type": "markdown",
   "metadata": {
    "papermill": {
     "duration": 0.020569,
     "end_time": "2021-02-03T16:23:37.888961",
     "exception": false,
     "start_time": "2021-02-03T16:23:37.868392",
     "status": "completed"
    },
    "tags": []
   },
   "source": [
    "# Opt Params"
   ]
  },
  {
   "cell_type": "code",
   "execution_count": 13,
   "metadata": {
    "execution": {
     "iopub.execute_input": "2021-02-03T16:23:37.934155Z",
     "iopub.status.busy": "2021-02-03T16:23:37.933208Z",
     "iopub.status.idle": "2021-02-03T16:23:37.936559Z",
     "shell.execute_reply": "2021-02-03T16:23:37.937110Z"
    },
    "papermill": {
     "duration": 0.027719,
     "end_time": "2021-02-03T16:23:37.937257",
     "exception": false,
     "start_time": "2021-02-03T16:23:37.909538",
     "status": "completed"
    },
    "tags": []
   },
   "outputs": [],
   "source": [
    "# [600]\tvalid's auc: 0.601937\n",
    "# Best score reached: 0.598930845392645 with params: {'colsample_bytree': 0.6681799297021748, 'min_child_samples': 191, 'min_child_weight': 1, 'num_leaves': 46, 'reg_alpha': 0, 'reg_lambda': 0, 'subsample': 0.8720649952803985}"
   ]
  },
  {
   "cell_type": "code",
   "execution_count": 14,
   "metadata": {
    "execution": {
     "iopub.execute_input": "2021-02-03T16:23:37.982578Z",
     "iopub.status.busy": "2021-02-03T16:23:37.981643Z",
     "iopub.status.idle": "2021-02-03T16:23:37.986971Z",
     "shell.execute_reply": "2021-02-03T16:23:37.987517Z"
    },
    "papermill": {
     "duration": 0.029792,
     "end_time": "2021-02-03T16:23:37.987669",
     "exception": false,
     "start_time": "2021-02-03T16:23:37.957877",
     "status": "completed"
    },
    "tags": []
   },
   "outputs": [],
   "source": [
    "# Global Var\n",
    "OPT_PARAMS_1 = {'n_estimators': N_ESTIMATORS, 'colsample_bytree': 0.668, 'min_child_samples': 150, 'min_child_weight': 1, 'num_leaves': 90, 'reg_alpha': 0, 'reg_lambda': 0.001, 'subsample': 0.87}\n",
    "OPT_PARAMS_2 = {'n_estimators': N_ESTIMATORS, 'colsample_bytree': 0.668, 'min_child_samples': 190, 'min_child_weight': 1, 'num_leaves': 100, 'reg_alpha': 0, 'reg_lambda': 0.001, 'subsample': 0.87}"
   ]
  },
  {
   "cell_type": "markdown",
   "metadata": {
    "papermill": {
     "duration": 0.020978,
     "end_time": "2021-02-03T16:23:38.029531",
     "exception": false,
     "start_time": "2021-02-03T16:23:38.008553",
     "status": "completed"
    },
    "tags": []
   },
   "source": [
    "# Create clf from the best params"
   ]
  },
  {
   "cell_type": "code",
   "execution_count": 15,
   "metadata": {
    "execution": {
     "iopub.execute_input": "2021-02-03T16:23:38.075517Z",
     "iopub.status.busy": "2021-02-03T16:23:38.074547Z",
     "iopub.status.idle": "2021-02-03T16:23:38.081998Z",
     "shell.execute_reply": "2021-02-03T16:23:38.082479Z"
    },
    "papermill": {
     "duration": 0.0319,
     "end_time": "2021-02-03T16:23:38.082623",
     "exception": false,
     "start_time": "2021-02-03T16:23:38.050723",
     "status": "completed"
    },
    "tags": []
   },
   "outputs": [],
   "source": [
    "def create_train_lgbm (X_train, y_train, component):\n",
    "    \n",
    "    if component == 1:\n",
    "        opt_params = deepcopy (OPT_PARAMS_1)\n",
    "    else:\n",
    "        opt_params = deepcopy (OPT_PARAMS_2)\n",
    "        \n",
    "    # find #best-iterations\n",
    "    lgb_clf_1 = lgb.LGBMClassifier (**opt_params)   #;print ('X_train.shape =', X_train.shape),  ;print ('y_train.shape =', y_train.shape)\n",
    "    lgb_clf_1.fit (X_train, y_train, **FIT_PARAMS)\n",
    "\n",
    "    # refit on the #best-iterations\n",
    "    if lgb_clf_1.best_iteration_ != N_ESTIMATORS:\n",
    "        opt_params['n_estimators'] = lgb_clf_1.best_iteration_\n",
    "        lgb_clf_1  = lgb.LGBMClassifier (**opt_params)\n",
    "        lgb_clf_1.fit (X_train, y_train, **FIT_PARAMS)\n",
    "        \n",
    "    # save\n",
    "    # pickleSave (lgb_clf_1, str (model_id)+'_'+str (component)+'_lgbm.bin')\n",
    "\n",
    "    # sanity test\n",
    "    X_temp = X_train[10].reshape ((1, -1))\n",
    "    np.round (lgb_clf_1.predict (X_temp)).astype (int)\n",
    "    return lgb_clf_1"
   ]
  },
  {
   "cell_type": "code",
   "execution_count": 16,
   "metadata": {
    "execution": {
     "iopub.execute_input": "2021-02-03T16:23:38.128909Z",
     "iopub.status.busy": "2021-02-03T16:23:38.127964Z",
     "iopub.status.idle": "2021-02-03T16:23:38.133785Z",
     "shell.execute_reply": "2021-02-03T16:23:38.134269Z"
    },
    "papermill": {
     "duration": 0.030418,
     "end_time": "2021-02-03T16:23:38.134409",
     "exception": false,
     "start_time": "2021-02-03T16:23:38.103991",
     "status": "completed"
    },
    "tags": []
   },
   "outputs": [],
   "source": [
    "def getLgbs ():\n",
    "    \n",
    "    LGBS    = []\n",
    "    for model_id in range (5):\n",
    "        \n",
    "        y_train = Y_TRAIN[:, model_id]        #;print ('X_TRAIN.shape =', X_TRAIN.shape),  ;print ('y_train.shape =', y_train.shape)\n",
    "        lgbm_1  = create_train_lgbm (X_TRAIN, y_train, 1)\n",
    "        lgbm_2  = create_train_lgbm (X_TRAIN, y_train, 2)\n",
    "        LGBS.append ((lgbm_1, lgbm_2))\n",
    "\n",
    "    # save\n",
    "    pickleSave (LGBS, 'lgbs.bin')\n",
    "    return LGBS"
   ]
  },
  {
   "cell_type": "markdown",
   "metadata": {
    "papermill": {
     "duration": 0.020642,
     "end_time": "2021-02-03T16:23:38.175990",
     "exception": false,
     "start_time": "2021-02-03T16:23:38.155348",
     "status": "completed"
    },
    "tags": []
   },
   "source": [
    "# Stacking clf"
   ]
  },
  {
   "cell_type": "code",
   "execution_count": 17,
   "metadata": {
    "execution": {
     "iopub.execute_input": "2021-02-03T16:23:38.221952Z",
     "iopub.status.busy": "2021-02-03T16:23:38.221000Z",
     "iopub.status.idle": "2021-02-03T16:23:38.228872Z",
     "shell.execute_reply": "2021-02-03T16:23:38.229294Z"
    },
    "papermill": {
     "duration": 0.032407,
     "end_time": "2021-02-03T16:23:38.229444",
     "exception": false,
     "start_time": "2021-02-03T16:23:38.197037",
     "status": "completed"
    },
    "tags": []
   },
   "outputs": [],
   "source": [
    "def getSclfs ():\n",
    "    \n",
    "    SCLFS = []\n",
    "    for model_id in range (5):\n",
    "\n",
    "        sclf = StackingClassifier (classifiers=LGBS[model_id], fit_base_estimators=False, \n",
    "                                   use_probas=True, average_probas=False, \n",
    "                                   meta_classifier=Best_clf_cv_transformer ({ 'name': 'LSvc',  'params': {'penalty': 'l2', 'class_weight': 'balanced'}, 'param_grid': {'C' : [0.01, 0.05, 0.1, 1]} }) )\n",
    "        sclf.name = 'sclf_' + str (model_id)\n",
    "        y_train   = Y_TRAIN[:, model_id]\n",
    "        sclf.fit (X_TRAIN, y_train)\n",
    "        SCLFS.append (sclf)\n",
    "\n",
    "    # save\n",
    "    pickleSave (SCLFS, 'sclfs.bin')\n",
    "\n",
    "    # sanity test\n",
    "    X_temp = X_TRAIN[10].reshape ((1, -1))\n",
    "    np.round (SCLFS[0].predict (X_temp)).astype (int)\n",
    "    return SCLFS"
   ]
  },
  {
   "cell_type": "code",
   "execution_count": 18,
   "metadata": {
    "execution": {
     "iopub.execute_input": "2021-02-03T16:23:38.275160Z",
     "iopub.status.busy": "2021-02-03T16:23:38.274209Z",
     "iopub.status.idle": "2021-02-03T17:24:48.937008Z",
     "shell.execute_reply": "2021-02-03T17:24:48.936249Z"
    },
    "papermill": {
     "duration": 3670.68695,
     "end_time": "2021-02-03T17:24:48.937212",
     "exception": false,
     "start_time": "2021-02-03T16:23:38.250262",
     "status": "completed"
    },
    "tags": []
   },
   "outputs": [
    {
     "name": "stdout",
     "output_type": "stream",
     "text": [
      "Training until validation scores don't improve for 30 rounds\n",
      "Early stopping, best iteration is:\n",
      "[8]\tvalid's auc: 0.522514\tvalid's binary_logloss: 0.692237\n",
      "Training until validation scores don't improve for 30 rounds\n",
      "Did not meet early stopping. Best iteration is:\n",
      "[8]\tvalid's auc: 0.522514\tvalid's binary_logloss: 0.692237\n",
      "Training until validation scores don't improve for 30 rounds\n",
      "Early stopping, best iteration is:\n",
      "[7]\tvalid's auc: 0.52133\tvalid's binary_logloss: 0.692269\n",
      "Training until validation scores don't improve for 30 rounds\n",
      "Did not meet early stopping. Best iteration is:\n",
      "[7]\tvalid's auc: 0.52133\tvalid's binary_logloss: 0.692269\n",
      "Training until validation scores don't improve for 30 rounds\n",
      "[50]\tvalid's auc: 0.536762\tvalid's binary_logloss: 0.691212\n",
      "[100]\tvalid's auc: 0.543966\tvalid's binary_logloss: 0.690088\n",
      "[150]\tvalid's auc: 0.547389\tvalid's binary_logloss: 0.689355\n",
      "[200]\tvalid's auc: 0.549138\tvalid's binary_logloss: 0.688918\n",
      "[250]\tvalid's auc: 0.550247\tvalid's binary_logloss: 0.688654\n",
      "[300]\tvalid's auc: 0.551247\tvalid's binary_logloss: 0.688423\n",
      "[350]\tvalid's auc: 0.551988\tvalid's binary_logloss: 0.688271\n",
      "[400]\tvalid's auc: 0.552454\tvalid's binary_logloss: 0.688151\n",
      "[450]\tvalid's auc: 0.552874\tvalid's binary_logloss: 0.688047\n",
      "[500]\tvalid's auc: 0.553138\tvalid's binary_logloss: 0.687982\n",
      "[550]\tvalid's auc: 0.553532\tvalid's binary_logloss: 0.687894\n",
      "Did not meet early stopping. Best iteration is:\n",
      "[550]\tvalid's auc: 0.553532\tvalid's binary_logloss: 0.687894\n",
      "Training until validation scores don't improve for 30 rounds\n",
      "[50]\tvalid's auc: 0.537147\tvalid's binary_logloss: 0.691305\n",
      "[100]\tvalid's auc: 0.543772\tvalid's binary_logloss: 0.690148\n",
      "[150]\tvalid's auc: 0.547284\tvalid's binary_logloss: 0.689356\n",
      "[200]\tvalid's auc: 0.549269\tvalid's binary_logloss: 0.688922\n",
      "[250]\tvalid's auc: 0.550854\tvalid's binary_logloss: 0.688589\n",
      "[300]\tvalid's auc: 0.552217\tvalid's binary_logloss: 0.688308\n",
      "[350]\tvalid's auc: 0.553046\tvalid's binary_logloss: 0.688125\n",
      "[400]\tvalid's auc: 0.55362\tvalid's binary_logloss: 0.68799\n",
      "[450]\tvalid's auc: 0.553922\tvalid's binary_logloss: 0.687939\n",
      "[500]\tvalid's auc: 0.554299\tvalid's binary_logloss: 0.68785\n",
      "[550]\tvalid's auc: 0.554571\tvalid's binary_logloss: 0.68779\n",
      "Did not meet early stopping. Best iteration is:\n",
      "[549]\tvalid's auc: 0.554571\tvalid's binary_logloss: 0.687791\n",
      "Training until validation scores don't improve for 30 rounds\n",
      "[50]\tvalid's auc: 0.537147\tvalid's binary_logloss: 0.691305\n",
      "[100]\tvalid's auc: 0.543772\tvalid's binary_logloss: 0.690148\n",
      "[150]\tvalid's auc: 0.547284\tvalid's binary_logloss: 0.689356\n",
      "[200]\tvalid's auc: 0.549269\tvalid's binary_logloss: 0.688922\n",
      "[250]\tvalid's auc: 0.550854\tvalid's binary_logloss: 0.688589\n",
      "[300]\tvalid's auc: 0.552217\tvalid's binary_logloss: 0.688308\n",
      "[350]\tvalid's auc: 0.553046\tvalid's binary_logloss: 0.688125\n",
      "[400]\tvalid's auc: 0.55362\tvalid's binary_logloss: 0.68799\n",
      "[450]\tvalid's auc: 0.553922\tvalid's binary_logloss: 0.687939\n",
      "[500]\tvalid's auc: 0.554299\tvalid's binary_logloss: 0.68785\n",
      "Did not meet early stopping. Best iteration is:\n",
      "[549]\tvalid's auc: 0.554571\tvalid's binary_logloss: 0.687791\n",
      "Training until validation scores don't improve for 30 rounds\n",
      "[50]\tvalid's auc: 0.559138\tvalid's binary_logloss: 0.686222\n",
      "[100]\tvalid's auc: 0.570101\tvalid's binary_logloss: 0.683077\n",
      "[150]\tvalid's auc: 0.577238\tvalid's binary_logloss: 0.681282\n",
      "[200]\tvalid's auc: 0.582011\tvalid's binary_logloss: 0.679935\n",
      "[250]\tvalid's auc: 0.585059\tvalid's binary_logloss: 0.679089\n",
      "[300]\tvalid's auc: 0.587698\tvalid's binary_logloss: 0.678414\n",
      "[350]\tvalid's auc: 0.58936\tvalid's binary_logloss: 0.677973\n",
      "[400]\tvalid's auc: 0.590467\tvalid's binary_logloss: 0.677605\n",
      "[450]\tvalid's auc: 0.591449\tvalid's binary_logloss: 0.677327\n",
      "[500]\tvalid's auc: 0.592134\tvalid's binary_logloss: 0.677121\n",
      "[550]\tvalid's auc: 0.592856\tvalid's binary_logloss: 0.67689\n",
      "Did not meet early stopping. Best iteration is:\n",
      "[550]\tvalid's auc: 0.592856\tvalid's binary_logloss: 0.67689\n",
      "Training until validation scores don't improve for 30 rounds\n",
      "[50]\tvalid's auc: 0.561625\tvalid's binary_logloss: 0.685763\n",
      "[100]\tvalid's auc: 0.573751\tvalid's binary_logloss: 0.682483\n",
      "[150]\tvalid's auc: 0.580027\tvalid's binary_logloss: 0.680535\n",
      "[200]\tvalid's auc: 0.584629\tvalid's binary_logloss: 0.679212\n",
      "[250]\tvalid's auc: 0.587826\tvalid's binary_logloss: 0.678275\n",
      "[300]\tvalid's auc: 0.590214\tvalid's binary_logloss: 0.677552\n",
      "[350]\tvalid's auc: 0.591956\tvalid's binary_logloss: 0.677101\n",
      "[400]\tvalid's auc: 0.593373\tvalid's binary_logloss: 0.676716\n",
      "[450]\tvalid's auc: 0.594059\tvalid's binary_logloss: 0.676496\n",
      "[500]\tvalid's auc: 0.594719\tvalid's binary_logloss: 0.676309\n",
      "[550]\tvalid's auc: 0.595404\tvalid's binary_logloss: 0.6761\n",
      "Did not meet early stopping. Best iteration is:\n",
      "[550]\tvalid's auc: 0.595404\tvalid's binary_logloss: 0.6761\n",
      "Training until validation scores don't improve for 30 rounds\n",
      "[50]\tvalid's auc: 0.58165\tvalid's binary_logloss: 0.681622\n",
      "[100]\tvalid's auc: 0.596409\tvalid's binary_logloss: 0.676958\n",
      "[150]\tvalid's auc: 0.60489\tvalid's binary_logloss: 0.674124\n",
      "[200]\tvalid's auc: 0.612159\tvalid's binary_logloss: 0.672023\n",
      "[250]\tvalid's auc: 0.615721\tvalid's binary_logloss: 0.670785\n",
      "[300]\tvalid's auc: 0.619581\tvalid's binary_logloss: 0.669664\n",
      "[350]\tvalid's auc: 0.621696\tvalid's binary_logloss: 0.669041\n",
      "[400]\tvalid's auc: 0.623683\tvalid's binary_logloss: 0.668415\n",
      "[450]\tvalid's auc: 0.624982\tvalid's binary_logloss: 0.668037\n",
      "[500]\tvalid's auc: 0.626066\tvalid's binary_logloss: 0.667706\n",
      "[550]\tvalid's auc: 0.627077\tvalid's binary_logloss: 0.667371\n",
      "Did not meet early stopping. Best iteration is:\n",
      "[550]\tvalid's auc: 0.627077\tvalid's binary_logloss: 0.667371\n",
      "Training until validation scores don't improve for 30 rounds\n",
      "[50]\tvalid's auc: 0.585356\tvalid's binary_logloss: 0.680729\n",
      "[100]\tvalid's auc: 0.604358\tvalid's binary_logloss: 0.675313\n",
      "[150]\tvalid's auc: 0.614244\tvalid's binary_logloss: 0.672138\n",
      "[200]\tvalid's auc: 0.619714\tvalid's binary_logloss: 0.670065\n",
      "[250]\tvalid's auc: 0.623481\tvalid's binary_logloss: 0.668809\n",
      "[300]\tvalid's auc: 0.625654\tvalid's binary_logloss: 0.66803\n",
      "[350]\tvalid's auc: 0.628111\tvalid's binary_logloss: 0.667252\n",
      "[400]\tvalid's auc: 0.629997\tvalid's binary_logloss: 0.666677\n",
      "[450]\tvalid's auc: 0.631492\tvalid's binary_logloss: 0.666245\n",
      "[500]\tvalid's auc: 0.632689\tvalid's binary_logloss: 0.665866\n",
      "[550]\tvalid's auc: 0.633791\tvalid's binary_logloss: 0.665561\n",
      "Did not meet early stopping. Best iteration is:\n",
      "[550]\tvalid's auc: 0.633791\tvalid's binary_logloss: 0.665561\n",
      "Training until validation scores don't improve for 30 rounds\n",
      "[50]\tvalid's auc: 0.577796\tvalid's binary_logloss: 0.681994\n",
      "[100]\tvalid's auc: 0.59653\tvalid's binary_logloss: 0.676833\n",
      "[150]\tvalid's auc: 0.606891\tvalid's binary_logloss: 0.673804\n",
      "[200]\tvalid's auc: 0.613492\tvalid's binary_logloss: 0.67183\n",
      "[250]\tvalid's auc: 0.617225\tvalid's binary_logloss: 0.670584\n",
      "[300]\tvalid's auc: 0.620175\tvalid's binary_logloss: 0.669651\n",
      "[350]\tvalid's auc: 0.622605\tvalid's binary_logloss: 0.668941\n",
      "[400]\tvalid's auc: 0.624458\tvalid's binary_logloss: 0.668316\n",
      "[450]\tvalid's auc: 0.625799\tvalid's binary_logloss: 0.667908\n",
      "[500]\tvalid's auc: 0.626809\tvalid's binary_logloss: 0.667562\n",
      "[550]\tvalid's auc: 0.628115\tvalid's binary_logloss: 0.667141\n",
      "Did not meet early stopping. Best iteration is:\n",
      "[550]\tvalid's auc: 0.628115\tvalid's binary_logloss: 0.667141\n",
      "Training until validation scores don't improve for 30 rounds\n",
      "[50]\tvalid's auc: 0.581377\tvalid's binary_logloss: 0.681304\n",
      "[100]\tvalid's auc: 0.60043\tvalid's binary_logloss: 0.675975\n",
      "[150]\tvalid's auc: 0.610383\tvalid's binary_logloss: 0.67281\n",
      "[200]\tvalid's auc: 0.61692\tvalid's binary_logloss: 0.670505\n",
      "[250]\tvalid's auc: 0.620981\tvalid's binary_logloss: 0.669092\n",
      "[300]\tvalid's auc: 0.625069\tvalid's binary_logloss: 0.667985\n",
      "[350]\tvalid's auc: 0.627576\tvalid's binary_logloss: 0.667232\n",
      "[400]\tvalid's auc: 0.629355\tvalid's binary_logloss: 0.666701\n",
      "[450]\tvalid's auc: 0.630504\tvalid's binary_logloss: 0.666369\n",
      "[500]\tvalid's auc: 0.631705\tvalid's binary_logloss: 0.66602\n",
      "[550]\tvalid's auc: 0.632771\tvalid's binary_logloss: 0.665716\n",
      "Did not meet early stopping. Best iteration is:\n",
      "[550]\tvalid's auc: 0.632771\tvalid's binary_logloss: 0.665716\n",
      "training LSvc for X.shape = (1492844, 4)\n",
      "LSvc : Best_clf_cv_transformer: Best parameter (CV score=0.530):\n",
      "{'C': 1}\n",
      "Done Fitting LSvc\n",
      "training LSvc for X.shape = (1492844, 4)\n",
      "LSvc : Best_clf_cv_transformer: Best parameter (CV score=0.596):\n",
      "{'C': 1}\n",
      "Done Fitting LSvc\n",
      "training LSvc for X.shape = (1492844, 4)\n",
      "LSvc : Best_clf_cv_transformer: Best parameter (CV score=0.614):\n",
      "{'C': 0.01}\n",
      "Done Fitting LSvc\n",
      "training LSvc for X.shape = (1492844, 4)\n",
      "LSvc : Best_clf_cv_transformer: Best parameter (CV score=0.628):\n",
      "{'C': 0.01}\n",
      "Done Fitting LSvc\n",
      "training LSvc for X.shape = (1492844, 4)\n",
      "LSvc : Best_clf_cv_transformer: Best parameter (CV score=0.616):\n",
      "{'C': 0.1}\n",
      "Done Fitting LSvc\n"
     ]
    }
   ],
   "source": [
    "# Global Vars, Calling training\n",
    "LGBS  = getLgbs ()\n",
    "SCLFS = getSclfs ()"
   ]
  },
  {
   "cell_type": "code",
   "execution_count": 19,
   "metadata": {
    "execution": {
     "iopub.execute_input": "2021-02-03T17:24:49.053256Z",
     "iopub.status.busy": "2021-02-03T17:24:49.052378Z",
     "iopub.status.idle": "2021-02-03T17:24:49.055768Z",
     "shell.execute_reply": "2021-02-03T17:24:49.054999Z"
    },
    "papermill": {
     "duration": 0.05995,
     "end_time": "2021-02-03T17:24:49.055905",
     "exception": false,
     "start_time": "2021-02-03T17:24:48.995955",
     "status": "completed"
    },
    "tags": []
   },
   "outputs": [],
   "source": [
    "# use pre trained models\n",
    "# LGBS  = unpickle ('../input/janelgbmstackedlsvc-1/lgbs.bin')\n",
    "# SCLFS = unpickle ('../input/janelgbmstackedlsvc-1/sclfs.bin')"
   ]
  },
  {
   "cell_type": "markdown",
   "metadata": {
    "papermill": {
     "duration": 0.052202,
     "end_time": "2021-02-03T17:24:49.165176",
     "exception": false,
     "start_time": "2021-02-03T17:24:49.112974",
     "status": "completed"
    },
    "tags": []
   },
   "source": [
    "# Predict for X_test"
   ]
  },
  {
   "cell_type": "markdown",
   "metadata": {
    "papermill": {
     "duration": 0.052352,
     "end_time": "2021-02-03T17:24:49.270167",
     "exception": false,
     "start_time": "2021-02-03T17:24:49.217815",
     "status": "completed"
    },
    "tags": []
   },
   "source": [
    "THRESH = 0.50"
   ]
  },
  {
   "cell_type": "markdown",
   "metadata": {
    "papermill": {
     "duration": 0.052386,
     "end_time": "2021-02-03T17:24:49.375160",
     "exception": false,
     "start_time": "2021-02-03T17:24:49.322774",
     "status": "completed"
    },
    "tags": []
   },
   "source": [
    "print ('Finding the optimal probability threshold..')\n",
    "\n",
    "Y_TRAIN = np.median (Y_TRAIN, axis=1)\n",
    "\n",
    "# Random init threshold for gradient descent\n",
    "TH = torch.tensor (0.50, device=DEVICE, dtype=float, requires_grad=True)\n",
    "\n",
    "# Loss (W*Actual, W * Ceil (pr-TH))\n",
    "W_train = torch.tensor (W_train).float ()                   #;print ('W_train.shape =', W_train.size ())\n",
    "Y_TRAIN = torch.tensor (Y_TRAIN).float ()\n",
    "X_TRAIN = torch.tensor (X_TRAIN).float ()\n",
    "\n",
    "A  = torch.tensor (W_train * Y_TRAIN)                       #;print ('A.shape =', A.size ())\n",
    "\n",
    "# create batches to fit in memory\n",
    "epochs  = 10\n",
    "lr      = 0.1\n",
    "batches = 2\n",
    "\n",
    "for e in range (epochs):\n",
    "    \n",
    "    lr *= 0.9\n",
    "    lr  = 0.01 if lr < 0.01 else lr\n",
    "    for b in range (batches):\n",
    "\n",
    "        batch_siz = X_TRAIN.size(0)//10\n",
    "        b_A       = A[b*batch_siz : (b+1)*batch_siz]\n",
    "        b_W_train = W_train[b*batch_siz : (b+1)*batch_siz]\n",
    "        b_X_train = X_TRAIN[b*batch_siz : (b+1)*batch_siz]\n",
    "        b_pr      = torch.tensor (predict (b_X_train.numpy ()))        #;print ('pr.shape =', b_pr.size ())\n",
    "\n",
    "        b_P       = b_W_train * torch.ceil (b_pr - TH) \n",
    "        # print ('b_W_train =', b_W_train, 'b_pr =', b_pr, 'torch.ceil(b_pr - TH) =', torch.ceil(b_pr - TH), 'b_P =', b_P)\n",
    "        # print ('(b_pr - TH).shape =', (b_pr - TH).size (), 'b_W_train.shape =', b_W_train.shape, 'b_P.shape =', b_P.shape)\n",
    "        b_loss    = (b_A - b_P).pow (2).mean ()\n",
    "        b_loss.backward ()    \n",
    "        with torch.no_grad ():\n",
    "            TH -= lr * TH.grad\n",
    "        TH.grad = None    \n",
    "\n",
    "        if b % batches == batches-1:\n",
    "            print('loss =', b_loss.item ())\n",
    "\n",
    "THRESH = TH.detach ().numpy ()\n",
    "print ('THRESH =', THRESH)\n",
    "THRESH"
   ]
  },
  {
   "cell_type": "markdown",
   "metadata": {
    "papermill": {
     "duration": 0.052357,
     "end_time": "2021-02-03T17:24:49.480049",
     "exception": false,
     "start_time": "2021-02-03T17:24:49.427692",
     "status": "completed"
    },
    "tags": []
   },
   "source": [
    "# Prediction"
   ]
  },
  {
   "cell_type": "code",
   "execution_count": 20,
   "metadata": {
    "execution": {
     "iopub.execute_input": "2021-02-03T17:24:49.595445Z",
     "iopub.status.busy": "2021-02-03T17:24:49.594486Z",
     "iopub.status.idle": "2021-02-03T17:24:49.596887Z",
     "shell.execute_reply": "2021-02-03T17:24:49.597415Z"
    },
    "papermill": {
     "duration": 0.064889,
     "end_time": "2021-02-03T17:24:49.597561",
     "exception": false,
     "start_time": "2021-02-03T17:24:49.532672",
     "status": "completed"
    },
    "tags": []
   },
   "outputs": [],
   "source": [
    "def predict (test_df, isRetProb=False):\n",
    "    \n",
    "    test_df.drop (columns=['weight', 'date'], inplace=True)\n",
    "    test_df.reset_index (drop=True, inplace=True)\n",
    "    X_test = preprocess_pipe.transform (test_df).reshape ((-1, 130))\n",
    "    \n",
    "    y_probs = []\n",
    "    for sclf in SCLFS:\n",
    "        y_p = sclf.predict_proba (X_test).reshape ((-1, 2))[:, 1].reshape ((-1, 1))\n",
    "        y_probs.append (y_p)\n",
    "        \n",
    "    y_probs = np.hstack (y_probs)                 #;print ('y_probs.shape =', y_probs.shape, 'X_test.shape =', X_test.shape)\n",
    "    pred_pr = np.median (y_probs, axis=1)         #;print ('pred_pr.shape =', pred_pr.shape, 'pred_pr =', pred_pr) \n",
    "    y_pred  = (pred_pr >= 0.5).astype (int)\n",
    "    if isRetProb:\n",
    "        return y_pred, pred_pr\n",
    "    else:\n",
    "        return y_pred"
   ]
  },
  {
   "cell_type": "markdown",
   "metadata": {
    "papermill": {
     "duration": 0.053688,
     "end_time": "2021-02-03T17:24:49.704682",
     "exception": false,
     "start_time": "2021-02-03T17:24:49.650994",
     "status": "completed"
    },
    "tags": []
   },
   "source": [
    "# Test Pred"
   ]
  },
  {
   "cell_type": "code",
   "execution_count": 21,
   "metadata": {
    "execution": {
     "iopub.execute_input": "2021-02-03T17:24:49.813805Z",
     "iopub.status.busy": "2021-02-03T17:24:49.813184Z",
     "iopub.status.idle": "2021-02-03T17:32:38.807579Z",
     "shell.execute_reply": "2021-02-03T17:32:38.808069Z"
    },
    "papermill": {
     "duration": 469.050927,
     "end_time": "2021-02-03T17:32:38.808245",
     "exception": false,
     "start_time": "2021-02-03T17:24:49.757318",
     "status": "completed"
    },
    "tags": []
   },
   "outputs": [
    {
     "data": {
      "text/plain": [
       "(2390491,)"
      ]
     },
     "execution_count": 21,
     "metadata": {},
     "output_type": "execute_result"
    }
   ],
   "source": [
    "filename='../input/jane-street-market-prediction/train.csv'\n",
    "# eval the prediction\n",
    "dtype = {\n",
    "    'date'      : 'int64', \n",
    "    'weight'    : 'float64',\n",
    "    'resp'      : 'float64',\n",
    "    'ts_id'     : 'int64',  \n",
    "    'feature_0' : 'float64'\n",
    "}\n",
    "for i in range (1, 130):\n",
    "    k = 'feature_' + str (i)\n",
    "    dtype[k] = 'float32'\n",
    "\n",
    "test_df   = pd.read_csv (filename, dtype=dtype)\n",
    "resp_cols = ['resp_1', 'resp_2', 'resp_3','resp_4', 'resp']   \n",
    "Y_test_df = np.stack ([(test_df[c] > 0).astype ('int') for c in resp_cols]).T\n",
    "test_df.drop (columns=resp_cols+['ts_id'], inplace=True) \n",
    "Y_test_df = np.mean (Y_test_df, axis=1)\n",
    "pred_pr   = predict (test_df, True)[1]\n",
    "pred_pr.shape"
   ]
  },
  {
   "cell_type": "markdown",
   "metadata": {
    "papermill": {
     "duration": 0.053355,
     "end_time": "2021-02-03T17:32:38.915632",
     "exception": false,
     "start_time": "2021-02-03T17:32:38.862277",
     "status": "completed"
    },
    "tags": []
   },
   "source": [
    "# Submission"
   ]
  },
  {
   "cell_type": "code",
   "execution_count": 22,
   "metadata": {
    "execution": {
     "iopub.execute_input": "2021-02-03T17:32:39.028768Z",
     "iopub.status.busy": "2021-02-03T17:32:39.028070Z",
     "iopub.status.idle": "2021-02-03T17:32:39.073440Z",
     "shell.execute_reply": "2021-02-03T17:32:39.073977Z"
    },
    "papermill": {
     "duration": 0.104321,
     "end_time": "2021-02-03T17:32:39.074160",
     "exception": false,
     "start_time": "2021-02-03T17:32:38.969839",
     "status": "completed"
    },
    "tags": []
   },
   "outputs": [],
   "source": [
    "import janestreet\n",
    "env      = janestreet.make_env () # initialize the environment\n",
    "env_iter = env.iter_test ()       # an iterator which loops over the test set"
   ]
  },
  {
   "cell_type": "markdown",
   "metadata": {
    "papermill": {
     "duration": 0.053989,
     "end_time": "2021-02-03T17:32:39.181813",
     "exception": false,
     "start_time": "2021-02-03T17:32:39.127824",
     "status": "completed"
    },
    "tags": []
   },
   "source": [
    "# For direct submission, without using the Trainer class"
   ]
  },
  {
   "cell_type": "code",
   "execution_count": 23,
   "metadata": {
    "execution": {
     "iopub.execute_input": "2021-02-03T17:32:39.292388Z",
     "iopub.status.busy": "2021-02-03T17:32:39.291771Z",
     "iopub.status.idle": "2021-02-03T17:37:19.980816Z",
     "shell.execute_reply": "2021-02-03T17:37:19.981403Z"
    },
    "papermill": {
     "duration": 280.746156,
     "end_time": "2021-02-03T17:37:19.981595",
     "exception": false,
     "start_time": "2021-02-03T17:32:39.235439",
     "status": "completed"
    },
    "tags": []
   },
   "outputs": [],
   "source": [
    "for test_df, pred_df in env_iter:\n",
    "    if test_df[\"weight\"].item () > 0:\n",
    "        \n",
    "        predictions    = predict (test_df)\n",
    "        pred_df.action = predictions\n",
    "    else:\n",
    "        pred_df.action = 0\n",
    "        \n",
    "    # print (pred_df)\n",
    "    # print (\"--------------\")\n",
    "    env.predict (pred_df)"
   ]
  },
  {
   "cell_type": "code",
   "execution_count": 24,
   "metadata": {
    "execution": {
     "iopub.execute_input": "2021-02-03T17:37:20.096707Z",
     "iopub.status.busy": "2021-02-03T17:37:20.095799Z",
     "iopub.status.idle": "2021-02-03T17:37:20.104877Z",
     "shell.execute_reply": "2021-02-03T17:37:20.105522Z"
    },
    "papermill": {
     "duration": 0.069659,
     "end_time": "2021-02-03T17:37:20.105689",
     "exception": false,
     "start_time": "2021-02-03T17:37:20.036030",
     "status": "completed"
    },
    "tags": []
   },
   "outputs": [
    {
     "name": "stdout",
     "output_type": "stream",
     "text": [
      "Done !\n"
     ]
    }
   ],
   "source": [
    "print ('Done !')"
   ]
  },
  {
   "cell_type": "code",
   "execution_count": null,
   "metadata": {
    "papermill": {
     "duration": 0.056412,
     "end_time": "2021-02-03T17:37:20.227785",
     "exception": false,
     "start_time": "2021-02-03T17:37:20.171373",
     "status": "completed"
    },
    "tags": []
   },
   "outputs": [],
   "source": []
  }
 ],
 "metadata": {
  "kernelspec": {
   "display_name": "Python 3",
   "language": "python",
   "name": "python3"
  },
  "language_info": {
   "codemirror_mode": {
    "name": "ipython",
    "version": 3
   },
   "file_extension": ".py",
   "mimetype": "text/x-python",
   "name": "python",
   "nbconvert_exporter": "python",
   "pygments_lexer": "ipython3",
   "version": "3.7.6"
  },
  "papermill": {
   "duration": 4593.121001,
   "end_time": "2021-02-03T17:37:20.490748",
   "environment_variables": {},
   "exception": null,
   "input_path": "__notebook__.ipynb",
   "output_path": "__notebook__.ipynb",
   "parameters": {},
   "start_time": "2021-02-03T16:20:47.369747",
   "version": "2.1.0"
  }
 },
 "nbformat": 4,
 "nbformat_minor": 4
}
