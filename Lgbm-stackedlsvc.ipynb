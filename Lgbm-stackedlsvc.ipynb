{
 "cells": [
  {
   "cell_type": "code",
   "execution_count": 1,
   "metadata": {
    "execution": {
     "iopub.execute_input": "2021-01-23T14:17:30.549791Z",
     "iopub.status.busy": "2021-01-23T14:17:30.549021Z",
     "iopub.status.idle": "2021-01-23T14:17:30.589077Z",
     "shell.execute_reply": "2021-01-23T14:17:30.590111Z"
    },
    "papermill": {
     "duration": 0.075969,
     "end_time": "2021-01-23T14:17:30.590360",
     "exception": false,
     "start_time": "2021-01-23T14:17:30.514391",
     "status": "completed"
    },
    "tags": []
   },
   "outputs": [
    {
     "name": "stdout",
     "output_type": "stream",
     "text": [
      "/kaggle/input/janelgbmstackedlsvc-1/lgbs.bin\n",
      "/kaggle/input/janelgbmstackedlsvc-1/sclfs.bin\n",
      "/kaggle/input/janelgbmstackedlsvc-1/submission.csv\n",
      "/kaggle/input/jane-street-market-prediction/example_sample_submission.csv\n",
      "/kaggle/input/jane-street-market-prediction/features.csv\n",
      "/kaggle/input/jane-street-market-prediction/example_test.csv\n",
      "/kaggle/input/jane-street-market-prediction/train.csv\n",
      "/kaggle/input/jane-street-market-prediction/janestreet/competition.cpython-37m-x86_64-linux-gnu.so\n",
      "/kaggle/input/jane-street-market-prediction/janestreet/__init__.py\n",
      "/kaggle/input/jane-stacked-lgbm-rishi/lgbm_1.bin\n",
      "/kaggle/input/jane-stacked-lgbm-rishi/lgbm_2.bin\n",
      "/kaggle/input/jane-stacked-lgbm-rishi/sclf.bin\n"
     ]
    }
   ],
   "source": [
    "# This Python 3 environment comes with many helpful analytics libraries installed\n",
    "# It is defined by the kaggle/python Docker image: https://github.com/kaggle/docker-python\n",
    "# For example, here's several helpful packages to load\n",
    "\n",
    "import numpy as np # linear algebra\n",
    "import pandas as pd # data processing, CSV file I/O (e.g. pd.read_csv)\n",
    "\n",
    "# Input data files are available in the read-only \"../input/\" directory\n",
    "# For example, running this (by clicking run or pressing Shift+Enter) will list all files under the input directory\n",
    "\n",
    "import os\n",
    "for dirname, _, filenames in os.walk('/kaggle/input'):\n",
    "    for filename in filenames:\n",
    "        print(os.path.join(dirname, filename))\n",
    "\n",
    "# You can write up to 20GB to the current directory (/kaggle/working/) that gets preserved as output when you create a version using \"Save & Run All\" \n",
    "# You can also write temporary files to /kaggle/temp/, but they won't be saved outside of the current session"
   ]
  },
  {
   "cell_type": "code",
   "execution_count": 2,
   "metadata": {
    "execution": {
     "iopub.execute_input": "2021-01-23T14:17:30.660113Z",
     "iopub.status.busy": "2021-01-23T14:17:30.659292Z",
     "iopub.status.idle": "2021-01-23T14:17:33.413609Z",
     "shell.execute_reply": "2021-01-23T14:17:33.412448Z"
    },
    "papermill": {
     "duration": 2.795922,
     "end_time": "2021-01-23T14:17:33.413769",
     "exception": false,
     "start_time": "2021-01-23T14:17:30.617847",
     "status": "completed"
    },
    "tags": []
   },
   "outputs": [
    {
     "data": {
      "text/html": [
       "<style type='text/css'>\n",
       ".datatable table.frame { margin-bottom: 0; }\n",
       ".datatable table.frame thead { border-bottom: none; }\n",
       ".datatable table.frame tr.coltypes td {  color: #FFFFFF;  line-height: 6px;  padding: 0 0.5em;}\n",
       ".datatable .bool    { background: #DDDD99; }\n",
       ".datatable .object  { background: #565656; }\n",
       ".datatable .int     { background: #5D9E5D; }\n",
       ".datatable .float   { background: #4040CC; }\n",
       ".datatable .str     { background: #CC4040; }\n",
       ".datatable .row_index {  background: var(--jp-border-color3);  border-right: 1px solid var(--jp-border-color0);  color: var(--jp-ui-font-color3);  font-size: 9px;}\n",
       ".datatable .frame tr.coltypes .row_index {  background: var(--jp-border-color0);}\n",
       ".datatable th:nth-child(2) { padding-left: 12px; }\n",
       ".datatable .hellipsis {  color: var(--jp-cell-editor-border-color);}\n",
       ".datatable .vellipsis {  background: var(--jp-layout-color0);  color: var(--jp-cell-editor-border-color);}\n",
       ".datatable .na {  color: var(--jp-cell-editor-border-color);  font-size: 80%;}\n",
       ".datatable .footer { font-size: 9px; }\n",
       ".datatable .frame_dimensions {  background: var(--jp-border-color3);  border-top: 1px solid var(--jp-border-color0);  color: var(--jp-ui-font-color3);  display: inline-block;  opacity: 0.6;  padding: 1px 10px 1px 5px;}\n",
       "</style>\n"
      ],
      "text/plain": [
       "<IPython.core.display.HTML object>"
      ]
     },
     "metadata": {},
     "output_type": "display_data"
    }
   ],
   "source": [
    "import gc\n",
    "import random\n",
    "from   tqdm import tqdm\n",
    "from   sklearn.model_selection import train_test_split\n",
    "import pandas as pd\n",
    "import seaborn as sns\n",
    "import matplotlib.pyplot as plt\n",
    "import numpy as np\n",
    "import random\n",
    "import psutil\n",
    "import datatable as dt\n",
    "from   collections import namedtuple\n",
    "from   sklearn.pipeline import Pipeline\n",
    "from   sklearn.impute import SimpleImputer\n",
    "from   sklearn.preprocessing import StandardScaler\n",
    "from   sklearn.pipeline import Pipeline\n",
    "import lightgbm as lgb\n",
    "from   sklearn.model_selection import RandomizedSearchCV, GridSearchCV\n",
    "import pickle\n",
    "from   mlxtend.classifier import StackingClassifier, StackingCVClassifier\n",
    "from   sklearn.calibration import CalibratedClassifierCV\n",
    "import os\n",
    "import seaborn as sns\n",
    "from   sklearn.utils import shuffle\n",
    "import datetime\n",
    "import time\n",
    "from scipy.stats import randint as sp_randint\n",
    "from scipy.stats import uniform as sp_uniform\n",
    "from sklearn.metrics import balanced_accuracy_score, recall_score, precision_score, confusion_matrix, make_scorer, f1_score, accuracy_score, precision_recall_fscore_support, matthews_corrcoef, roc_auc_score\n",
    "\n",
    "from scipy.sparse import csr_matrix\n",
    "from sklearn.model_selection import GridSearchCV\n",
    "from sklearn.linear_model import LogisticRegression\n",
    "from sklearn.base import BaseEstimator, TransformerMixin\n",
    "import xgboost as xgb\n",
    "from sklearn.svm import LinearSVC\n",
    "from copy import deepcopy\n",
    "\n",
    "import warnings\n",
    "warnings.filterwarnings (\"ignore\")\n",
    "VERSION = ''"
   ]
  },
  {
   "cell_type": "code",
   "execution_count": 3,
   "metadata": {
    "execution": {
     "iopub.execute_input": "2021-01-23T14:17:33.481972Z",
     "iopub.status.busy": "2021-01-23T14:17:33.480820Z",
     "iopub.status.idle": "2021-01-23T14:17:33.485654Z",
     "shell.execute_reply": "2021-01-23T14:17:33.486163Z"
    },
    "papermill": {
     "duration": 0.039924,
     "end_time": "2021-01-23T14:17:33.486322",
     "exception": false,
     "start_time": "2021-01-23T14:17:33.446398",
     "status": "completed"
    },
    "tags": []
   },
   "outputs": [],
   "source": [
    "# Global Params\n",
    "SEED         = 420\n",
    "N_ESTIMATORS = 3000"
   ]
  },
  {
   "cell_type": "markdown",
   "metadata": {
    "papermill": {
     "duration": 0.02825,
     "end_time": "2021-01-23T14:17:33.544758",
     "exception": false,
     "start_time": "2021-01-23T14:17:33.516508",
     "status": "completed"
    },
    "tags": []
   },
   "source": [
    "# Helpers"
   ]
  },
  {
   "cell_type": "code",
   "execution_count": 4,
   "metadata": {
    "execution": {
     "iopub.execute_input": "2021-01-23T14:17:33.605673Z",
     "iopub.status.busy": "2021-01-23T14:17:33.604625Z",
     "iopub.status.idle": "2021-01-23T14:17:33.610162Z",
     "shell.execute_reply": "2021-01-23T14:17:33.610752Z"
    },
    "papermill": {
     "duration": 0.036673,
     "end_time": "2021-01-23T14:17:33.610956",
     "exception": false,
     "start_time": "2021-01-23T14:17:33.574283",
     "status": "completed"
    },
    "tags": []
   },
   "outputs": [],
   "source": [
    "CV_SCORERS = {\n",
    "    'precision_score':         make_scorer (precision_score),\n",
    "    'recall_score':            make_scorer (recall_score),\n",
    "    'f1_score':                make_scorer (f1_score),\n",
    "    'balanced_accuracy_score': make_scorer (balanced_accuracy_score)\n",
    "}"
   ]
  },
  {
   "cell_type": "code",
   "execution_count": 5,
   "metadata": {
    "execution": {
     "iopub.execute_input": "2021-01-23T14:17:33.679884Z",
     "iopub.status.busy": "2021-01-23T14:17:33.678815Z",
     "iopub.status.idle": "2021-01-23T14:17:33.688809Z",
     "shell.execute_reply": "2021-01-23T14:17:33.689330Z"
    },
    "papermill": {
     "duration": 0.047638,
     "end_time": "2021-01-23T14:17:33.689499",
     "exception": false,
     "start_time": "2021-01-23T14:17:33.641861",
     "status": "completed"
    },
    "tags": []
   },
   "outputs": [],
   "source": [
    "def pickleSave (obj, file):\n",
    "\n",
    "    if VERSION != '':\n",
    "\n",
    "        file, ext = os.path.splitext (file)\n",
    "        file += \"_v\" + str (VERSION) + ext\n",
    "    dirs = os.path.dirname (file) \n",
    "    if dirs:\n",
    "        os.makedirs (dirs, exist_ok=True)\n",
    "    with open (file, 'wb') as f:\n",
    "        pickle.dump (obj, f)\n",
    "    return\n",
    "\n",
    "def unpickle (file):\n",
    "\n",
    "    if VERSION != '':\n",
    "\n",
    "        file, ext = os.path.splitext(file)\n",
    "        file += \"_v\" + str(VERSION) + ext\n",
    "    return pickle.load (open (file, 'rb'))"
   ]
  },
  {
   "cell_type": "code",
   "execution_count": 6,
   "metadata": {
    "execution": {
     "iopub.execute_input": "2021-01-23T14:17:33.749463Z",
     "iopub.status.busy": "2021-01-23T14:17:33.748273Z",
     "iopub.status.idle": "2021-01-23T14:17:33.806785Z",
     "shell.execute_reply": "2021-01-23T14:17:33.807303Z"
    },
    "papermill": {
     "duration": 0.090232,
     "end_time": "2021-01-23T14:17:33.807475",
     "exception": false,
     "start_time": "2021-01-23T14:17:33.717243",
     "status": "completed"
    },
    "tags": []
   },
   "outputs": [],
   "source": [
    "class Best_clf_cv_transformer (BaseEstimator, TransformerMixin): \n",
    "    \n",
    "    def __init__(self, myparams={'name':'LSvc', 'C':1}, **other_params):\n",
    "        \n",
    "        self.myparams = myparams\n",
    "        self.myinit (**other_params)\n",
    "        return\n",
    "    \n",
    "    def myinit (self, **other_params):\n",
    "        \n",
    "        self.cv    =  5\n",
    "        if 'cv' in self.myparams:\n",
    "            self.cv= self.myparams['cv']\n",
    "        clf        =  None\n",
    "        name       =  self.myparams['name']\n",
    "        if name   == 'Logit':\n",
    "            clf    =  LogisticRegression (random_state=0)\n",
    "        elif name == 'DT':\n",
    "            clf    =  DecisionTreeClassifier (random_state=0)\n",
    "        elif name == 'RidgClf':\n",
    "            clf    =  RidgeClassifier (random_state=0)\n",
    "        elif name == 'Prcpt':\n",
    "            clf    =  Perceptron (random_state=0)\n",
    "        elif name == 'PssAggClf':\n",
    "            clf    =  PassiveAggressiveClassifier (random_state=0)\n",
    "        elif name == 'Knn':\n",
    "            clf    =  KNeighborsClassifier (random_state=0)\n",
    "        elif name == 'RF':\n",
    "            clf    =  RandomForestClassifier (random_state=0)\n",
    "        elif name == 'NearCent':\n",
    "            clf    =  NearestCentroid (random_state=0)\n",
    "        elif name == 'MultNB':\n",
    "            clf    =  MultinomialNB (random_state=0)\n",
    "        elif name == 'BernNB':\n",
    "            clf    =  BernoulliNB (random_state=0)    \n",
    "        elif name == 'Svc':\n",
    "            clf    =  SVC (probability=True, random_state=0)\n",
    "        elif name == 'LSvc':\n",
    "            clf    =  LinearSVC (random_state=0)\n",
    "        elif name == 'Xgb':\n",
    "            clf    =  xgb.XGBClassifier (random_state=0) # XGBRFClassifier()\n",
    "        elif name == 'Catb' :                            # issues with CV\n",
    "            clf    =  CatBoostClassifier (verbose=False, random_state=0)\n",
    "        elif name == 'FCNN':\n",
    "            clf    =  None    # init at  fit ()\n",
    "        else:\n",
    "            print('ERROR Best_clf_cv_transformer: invalid @param name \\n')\n",
    "            clf    = None\n",
    "        self.isCV = True\n",
    "        if 'isCV' in self.myparams:\n",
    "            \n",
    "            self.isCV = self.myparams['isCV']\n",
    "        self.n_estimators = 1\n",
    "        if 'n_estimators' in self.myparams:\n",
    "            \n",
    "            self.n_estimators = self.myparams['n_estimators']\n",
    "        if 'params' in self.myparams:\n",
    "            \n",
    "            clf.set_params (**self.myparams['params'])\n",
    "        if other_params:\n",
    "            \n",
    "            clf.set_params (**other_params)\n",
    "        self.param_grid = None\n",
    "        if 'param_grid' in self.myparams:\n",
    "            \n",
    "            self.param_grid = self.myparams['param_grid']\n",
    "        self.clf = clf\n",
    "        self.cv_score = 0\n",
    "        self.name = name\n",
    "        self._estimator_type='classifier'\n",
    "        return    \n",
    "    \n",
    "    def fit (self, X, Y, **FIT_PARAMS):\n",
    "        \n",
    "        train_len = len (Y[pd.isnull(Y)==False])\n",
    "        X, Y = X[:train_len], Y[:train_len]\n",
    "        print ('training', self.name, 'for X.shape =', X.shape)\n",
    "        n_jobs = -1    \n",
    "        if self.name == 'FCNN':\n",
    "            \n",
    "            lrScheduler = LRScheduler (\n",
    "                \n",
    "                CyclicLR,\n",
    "                base_lr=0.0001,\n",
    "                max_lr=0.05,\n",
    "                step_every='batch'\n",
    "            )\n",
    "            self.clf = NeuralNetClassifier (\n",
    "                \n",
    "                    module=MyModule,\n",
    "                    module__inputCount=X.shape[1], \n",
    "                    module__outputCount=2, \n",
    "                    module__hiddenLayerCounts=[15],\n",
    "                    max_epochs=1000,\n",
    "                    # lr=0.01,\n",
    "                    verbose=0,\n",
    "                    # Shuffle training data on each epoch\n",
    "                    iterator_train__shuffle=True,\n",
    "                    callbacks=[('LRScheduler', lrScheduler), ('EarlyStopping', EarlyStopping (patience=20))]\n",
    "            )\n",
    "            X = X.astype (np.float32)\n",
    "            Y = Y.astype (np.int64)\n",
    "            n_jobs = None\n",
    "        if self.isCV:\n",
    "            if self.param_grid:\n",
    "\n",
    "                gridSearchCV = GridSearchCV (\n",
    "                    self.clf, self.param_grid, iid=False, cv=self.cv, scoring=CV_SCORERS, \n",
    "                    refit='f1_score', n_jobs=n_jobs\n",
    "                )\n",
    "                gridSearchCV.fit (X, Y)  \n",
    "                print (self.name, \": Best_clf_cv_transformer: Best parameter (CV score=%0.3f):\" % gridSearchCV.best_score_)\n",
    "                print (gridSearchCV.best_params_)\n",
    "                self.clf = gridSearchCV.best_estimator_\n",
    "                self.cv_score = gridSearchCV.best_score_\n",
    "                if self.name == 'LSvc':\n",
    "                    \n",
    "                    self.clf = CalibratedClassifierCV (self.clf)\n",
    "                    # self.clf.fit (X, Y)\n",
    "                # global RESULTS\n",
    "                # RESULTS.append(benchmark(self.clf))\n",
    "                # TODO: Plot scores for each split, and get its' variance\n",
    "            else:\n",
    "\n",
    "                if self.name == 'LSvc':\n",
    "                    \n",
    "                    self.clf = CalibratedClassifierCV (self.clf)\n",
    "                print (self.name, ': Best_clf_cv_transformer: starting CV =', self.cv)\n",
    "                if self.name not in {'fss'}:  # {'RF', 'Catb', 'FCNN'}:\n",
    "                    \n",
    "                    cv_results = cross_validate (self.clf, X, Y, cv=int(self.cv))\n",
    "                else:\n",
    "                    \n",
    "                    voting_clf = VotingClassifier (estimators=[(self.name, self.clf)])\n",
    "                    cv_results = cross_validate (voting_clf, X, Y, cv=self.cv)\n",
    "                self.cv_score = np.mean (cv_results['test_score'])\n",
    "                # self.clf.fit (X, Y)\n",
    "                print (self.name, \": cv_score:   %0.3f\" % self.cv_score)\n",
    "        else:\n",
    "            if self.name == 'LSvc':\n",
    "                self.clf = CalibratedClassifierCV (self.clf)\n",
    "            # self.clf.fit (X, Y)\n",
    "        if self.n_estimators > 1:\n",
    "            self.clf = BaggingClassifier (base_estimator=self.clf, n_estimators=self.n_estimators)\n",
    "        self.clf.fit (X, Y)\n",
    "        print (\"Done Fitting\", self.name)\n",
    "        return self\n",
    "    \n",
    "    def get_cv_score (self):\n",
    "        return self.cv_score\n",
    "    \n",
    "    def transform (self, X, Y=None, **FIT_PARAMS):        \n",
    "        if self.name == 'FCNN':\n",
    "            X = X.astype (np.float32)\n",
    "            if not Y is None:\n",
    "                Y = Y.astype (np.int64)        \n",
    "        return self.clf.transform(X, Y)\n",
    "    \n",
    "    def predict (self, X, **FIT_PARAMS):        \n",
    "        if self.name == 'FCNN':\n",
    "            X = X.astype (np.float32)      \n",
    "        return self.clf.predict(X)\n",
    "    \n",
    "    def predict_proba (self, X):        \n",
    "        if self.name == 'FCNN':\n",
    "            X = X.astype (np.float32)      \n",
    "        return self.clf.predict_proba (X)\n",
    "    \n",
    "    def predict_log_proba (self, X):        \n",
    "        if self.name == 'FCNN':\n",
    "            X = X.astype (np.float32)\n",
    "        return self.clf.predict_log_proba (X)\n",
    "    \n",
    "    def score (self, X, Y, **FIT_PARAMS):        \n",
    "        if self.name == 'FCNN':\n",
    "            X = X.astype (np.float32)\n",
    "        return self.clf.score (X, Y, **FIT_PARAMS)\n",
    "    \n",
    "    def decision_function (self, X, **FIT_PARAMS):        \n",
    "        if self.name == 'FCNN':\n",
    "            X = X.astype (np.float32)\n",
    "        return self.clf.decision_function (X)\n",
    "    \n",
    "    def set_params (self, **params):        \n",
    "        self.myparams = params['myparams']\n",
    "        params.pop ('myparams')\n",
    "        self.myinit (**params)\n",
    "        return self\n",
    "    \n",
    "    def get_params (self, deep=True):\n",
    "        params = {'myparams': self.myparams}\n",
    "        return params\n",
    "    \n",
    "    def apply (self, X):\n",
    "        return self.clf.apply(X)\n",
    "    \n",
    "    def decision_path (self, X):\n",
    "        return self.clf.decision_path (X)\n",
    "    \n",
    "    def staged_decision_function (self, X):\n",
    "        return self.clf.staged_decision_function (X)\n",
    "    \n",
    "    def staged_predict (self, X):\n",
    "        return self.clf.staged_predict (X)\n",
    "    \n",
    "    def staged_predict_proba (self, X):\n",
    "        return self.clf.staged_predict_proba (X)\n",
    "    \n",
    "    def staged_score (self, X):\n",
    "        return self.clf.staged_score (X)"
   ]
  },
  {
   "cell_type": "code",
   "execution_count": 7,
   "metadata": {
    "execution": {
     "iopub.execute_input": "2021-01-23T14:17:33.870381Z",
     "iopub.status.busy": "2021-01-23T14:17:33.869268Z",
     "iopub.status.idle": "2021-01-23T14:17:33.875294Z",
     "shell.execute_reply": "2021-01-23T14:17:33.876088Z"
    },
    "papermill": {
     "duration": 0.039451,
     "end_time": "2021-01-23T14:17:33.876252",
     "exception": false,
     "start_time": "2021-01-23T14:17:33.836801",
     "status": "completed"
    },
    "tags": []
   },
   "outputs": [],
   "source": [
    "def seed_all ():\n",
    "    \n",
    "    random.seed (SEED)\n",
    "    np.random.seed (SEED)\n",
    "    random.seed (SEED)\n",
    "    \n",
    "seed_all ()"
   ]
  },
  {
   "cell_type": "markdown",
   "metadata": {
    "papermill": {
     "duration": 0.028053,
     "end_time": "2021-01-23T14:17:33.936404",
     "exception": false,
     "start_time": "2021-01-23T14:17:33.908351",
     "status": "completed"
    },
    "tags": []
   },
   "source": [
    "# Read and preprocess the Data"
   ]
  },
  {
   "cell_type": "code",
   "execution_count": null,
   "metadata": {
    "papermill": {
     "duration": 0.027022,
     "end_time": "2021-01-23T14:17:33.992974",
     "exception": false,
     "start_time": "2021-01-23T14:17:33.965952",
     "status": "completed"
    },
    "tags": []
   },
   "outputs": [],
   "source": []
  },
  {
   "cell_type": "code",
   "execution_count": 8,
   "metadata": {
    "execution": {
     "iopub.execute_input": "2021-01-23T14:17:34.052411Z",
     "iopub.status.busy": "2021-01-23T14:17:34.051328Z",
     "iopub.status.idle": "2021-01-23T14:17:34.068094Z",
     "shell.execute_reply": "2021-01-23T14:17:34.068881Z"
    },
    "papermill": {
     "duration": 0.047483,
     "end_time": "2021-01-23T14:17:34.069067",
     "exception": false,
     "start_time": "2021-01-23T14:17:34.021584",
     "status": "completed"
    },
    "tags": []
   },
   "outputs": [],
   "source": [
    "def load_preprocess_data (filename='../input/jane-street-market-prediction/train.csv', isTrainData=True):\n",
    "    \n",
    "    dtype = None\n",
    "    if isTrainData:\n",
    "        \n",
    "        dtype = {\n",
    "            'date'      : 'int64', \n",
    "            'weight'    : 'float64',\n",
    "            'resp'      : 'float64',\n",
    "            'ts_id'     : 'int64',  \n",
    "            'feature_0' : 'float64'\n",
    "        }\n",
    "    else:\n",
    "        \n",
    "        dtype = {\n",
    "            'date'      : 'int64', \n",
    "            'weight'    : 'float64',\n",
    "            'feature_0' : 'float64'\n",
    "        }\n",
    "    for i in range (1, 130):\n",
    "        k = 'feature_' + str (i)\n",
    "        dtype[k] = 'float32'\n",
    "    \n",
    "    X = pd.read_csv (filename, dtype=dtype)\n",
    "    \n",
    "    resp_cols   = ['resp_1', 'resp_2', 'resp_3','resp_4', 'resp']    \n",
    "    X           = X.query ('date > 85')\n",
    "    X           = X[X['weight'] != 0].reset_index (drop = True)\n",
    "    y           = np.stack ([(X[c] > 0).astype ('int') for c in resp_cols]).T\n",
    "    f_columns   = [c for c in X.columns if \"feature\" in c]\n",
    "    \n",
    "    # date = X['date']\n",
    "    if isTrainData:\n",
    "        X.drop (columns=['weight', 'date', 'resp', 'resp_1', 'resp_2', 'resp_3', 'resp_4', 'ts_id'], inplace=True)\n",
    "    else:\n",
    "        X.drop (columns=['weight', 'date'], inplace=True)\n",
    "    preprocess_pipe =  Pipeline ([\n",
    "        (\"imputer\", SimpleImputer (missing_values=np.nan, strategy='mean')),\n",
    "        # (\"stand\",   StandardScaler (with_mean=False))\n",
    "    ])\n",
    "    X = preprocess_pipe.fit_transform (X)\n",
    "    \n",
    "    X_TRAIN, X_TEST, Y_TRAIN, Y_TEST = train_test_split (X, y, test_size=0.05)\n",
    "    del X, y\n",
    "    return X_TRAIN, X_TEST, Y_TRAIN, Y_TEST, preprocess_pipe"
   ]
  },
  {
   "cell_type": "code",
   "execution_count": 9,
   "metadata": {
    "execution": {
     "iopub.execute_input": "2021-01-23T14:17:34.130826Z",
     "iopub.status.busy": "2021-01-23T14:17:34.129767Z",
     "iopub.status.idle": "2021-01-23T14:20:30.020351Z",
     "shell.execute_reply": "2021-01-23T14:20:30.020928Z"
    },
    "papermill": {
     "duration": 175.9214,
     "end_time": "2021-01-23T14:20:30.021095",
     "exception": false,
     "start_time": "2021-01-23T14:17:34.099695",
     "status": "completed"
    },
    "tags": []
   },
   "outputs": [
    {
     "data": {
      "text/plain": [
       "((1492844, 130), (1492844, 5))"
      ]
     },
     "execution_count": 9,
     "metadata": {},
     "output_type": "execute_result"
    }
   ],
   "source": [
    "X_TRAIN, X_TEST, Y_TRAIN, Y_TEST, preprocess_pipe = load_preprocess_data ()\n",
    "gc.collect ()\n",
    "X_TRAIN.shape,  Y_TRAIN.shape"
   ]
  },
  {
   "cell_type": "code",
   "execution_count": 10,
   "metadata": {
    "execution": {
     "iopub.execute_input": "2021-01-23T14:20:30.080947Z",
     "iopub.status.busy": "2021-01-23T14:20:30.080263Z",
     "iopub.status.idle": "2021-01-23T14:20:30.083772Z",
     "shell.execute_reply": "2021-01-23T14:20:30.084305Z"
    },
    "papermill": {
     "duration": 0.03436,
     "end_time": "2021-01-23T14:20:30.084454",
     "exception": false,
     "start_time": "2021-01-23T14:20:30.050094",
     "status": "completed"
    },
    "tags": []
   },
   "outputs": [],
   "source": [
    "# TODO: comment this\n",
    "# X_TRAIN = X_TRAIN[:50000]\n",
    "# Y_TRAIN = Y_TRAIN[:50000]"
   ]
  },
  {
   "cell_type": "code",
   "execution_count": 11,
   "metadata": {
    "execution": {
     "iopub.execute_input": "2021-01-23T14:20:30.143148Z",
     "iopub.status.busy": "2021-01-23T14:20:30.142484Z",
     "iopub.status.idle": "2021-01-23T14:20:30.147256Z",
     "shell.execute_reply": "2021-01-23T14:20:30.147852Z"
    },
    "papermill": {
     "duration": 0.036297,
     "end_time": "2021-01-23T14:20:30.147998",
     "exception": false,
     "start_time": "2021-01-23T14:20:30.111701",
     "status": "completed"
    },
    "tags": []
   },
   "outputs": [],
   "source": [
    "def learning_rate_010_decay_power_09 (current_iter):\n",
    "    \n",
    "    base_learning_rate = 0.1\n",
    "    lr = base_learning_rate  * np.power (.997, current_iter)\n",
    "    return lr if lr > 1e-2 else 1e-2\n"
   ]
  },
  {
   "cell_type": "code",
   "execution_count": 12,
   "metadata": {
    "execution": {
     "iopub.execute_input": "2021-01-23T14:20:30.208702Z",
     "iopub.status.busy": "2021-01-23T14:20:30.207932Z",
     "iopub.status.idle": "2021-01-23T14:20:30.213217Z",
     "shell.execute_reply": "2021-01-23T14:20:30.213788Z"
    },
    "papermill": {
     "duration": 0.038563,
     "end_time": "2021-01-23T14:20:30.213948",
     "exception": false,
     "start_time": "2021-01-23T14:20:30.175385",
     "status": "completed"
    },
    "tags": []
   },
   "outputs": [],
   "source": [
    "# n_estimators is set to a \"large value\" say 5000. The actual number of trees build will depend on early stopping and 5000 define only the absolute maximum\n",
    "# or\n",
    "# train till a small say 600 rounds only and select the best esimator, then trail this estimator to 10,000 rounds with early stopping\n",
    "\n",
    "# Global Var\n",
    "FIT_PARAMS= {\n",
    "    \"early_stopping_rounds\":30, \n",
    "    \"eval_metric\" : 'auc', \n",
    "    \"eval_set\" : [(X_TEST, Y_TEST[:,-1])],\n",
    "    'eval_names': ['valid'],\n",
    "    'callbacks': [lgb.reset_parameter(learning_rate=learning_rate_010_decay_power_09)],\n",
    "    'verbose': 20,\n",
    "    'categorical_feature': 'auto'\n",
    "}"
   ]
  },
  {
   "cell_type": "code",
   "execution_count": null,
   "metadata": {
    "papermill": {
     "duration": 0.028034,
     "end_time": "2021-01-23T14:20:30.271495",
     "exception": false,
     "start_time": "2021-01-23T14:20:30.243461",
     "status": "completed"
    },
    "tags": []
   },
   "outputs": [],
   "source": []
  },
  {
   "cell_type": "markdown",
   "metadata": {
    "papermill": {
     "duration": 0.026733,
     "end_time": "2021-01-23T14:20:30.325226",
     "exception": false,
     "start_time": "2021-01-23T14:20:30.298493",
     "status": "completed"
    },
    "tags": []
   },
   "source": [
    "# Search for the best model under constraints"
   ]
  },
  {
   "cell_type": "markdown",
   "metadata": {
    "papermill": {
     "duration": 0.026521,
     "end_time": "2021-01-23T14:20:30.378712",
     "exception": false,
     "start_time": "2021-01-23T14:20:30.352191",
     "status": "completed"
    },
    "tags": []
   },
   "source": [
    "param_test = {\n",
    "     'num_leaves': sp_randint(6, 50), \n",
    "     'min_child_samples': sp_randint(100, 500), \n",
    "     'min_child_weight': [1e-5, 1e-3, 1e-2, 1e-1, 1, 1e1, 1e2, 1e3, 1e4],\n",
    "     'subsample': sp_uniform (loc=0.2, scale=0.8), \n",
    "     'colsample_bytree': sp_uniform(loc=0.4, scale=0.6),\n",
    "     'reg_alpha' : [0, 1e-1, 1, 5,  10],\n",
    "     'reg_lambda': [0, 1e-1, 1, 10, 20]\n",
    "}\n",
    "\n",
    "#This parameter defines the number of HP points to be tested\n",
    "n_HP_points_to_test = 4\n",
    "\n",
    "# do a random search\n",
    "lgb_clf = lgb.LGBMClassifier (max_depth=-1, random_state=SEED, silent=True, metric='None', n_jobs=8, n_estimators=N_ESTIMATORS)\n",
    "\n",
    "gs = RandomizedSearchCV (\n",
    "    estimator=lgb_clf, \n",
    "    param_distributions=param_test, \n",
    "    n_iter=n_HP_points_to_test,\n",
    "    scoring='roc_auc',\n",
    "    cv=3,\n",
    "    refit=True,\n",
    "    random_state=314,\n",
    "    verbose=False\n",
    ")"
   ]
  },
  {
   "cell_type": "markdown",
   "metadata": {
    "papermill": {
     "duration": 0.028107,
     "end_time": "2021-01-23T14:20:30.433591",
     "exception": false,
     "start_time": "2021-01-23T14:20:30.405484",
     "status": "completed"
    },
    "scrolled": true,
    "tags": []
   },
   "source": [
    "# uncomment this to train from scratch\n",
    "\n",
    "gs.fit (X_TRAIN, Y_TRAIN, **FIT_PARAMS)\n",
    "print ('Best score reached: {} with params: {} '.format (gs.best_score_, gs.best_params_))"
   ]
  },
  {
   "cell_type": "markdown",
   "metadata": {
    "papermill": {
     "duration": 0.028519,
     "end_time": "2021-01-23T14:20:30.492144",
     "exception": false,
     "start_time": "2021-01-23T14:20:30.463625",
     "status": "completed"
    },
    "tags": []
   },
   "source": [
    "# Opt Params"
   ]
  },
  {
   "cell_type": "code",
   "execution_count": 13,
   "metadata": {
    "execution": {
     "iopub.execute_input": "2021-01-23T14:20:30.551022Z",
     "iopub.status.busy": "2021-01-23T14:20:30.550321Z",
     "iopub.status.idle": "2021-01-23T14:20:30.553589Z",
     "shell.execute_reply": "2021-01-23T14:20:30.554112Z"
    },
    "papermill": {
     "duration": 0.033981,
     "end_time": "2021-01-23T14:20:30.554252",
     "exception": false,
     "start_time": "2021-01-23T14:20:30.520271",
     "status": "completed"
    },
    "tags": []
   },
   "outputs": [],
   "source": [
    "# [600]\tvalid's auc: 0.601937\n",
    "# Best score reached: 0.598930845392645 with params: {'colsample_bytree': 0.6681799297021748, 'min_child_samples': 191, 'min_child_weight': 1, 'num_leaves': 46, 'reg_alpha': 0, 'reg_lambda': 0, 'subsample': 0.8720649952803985}"
   ]
  },
  {
   "cell_type": "code",
   "execution_count": 14,
   "metadata": {
    "execution": {
     "iopub.execute_input": "2021-01-23T14:20:30.612592Z",
     "iopub.status.busy": "2021-01-23T14:20:30.611934Z",
     "iopub.status.idle": "2021-01-23T14:20:30.618154Z",
     "shell.execute_reply": "2021-01-23T14:20:30.618719Z"
    },
    "papermill": {
     "duration": 0.036605,
     "end_time": "2021-01-23T14:20:30.618863",
     "exception": false,
     "start_time": "2021-01-23T14:20:30.582258",
     "status": "completed"
    },
    "tags": []
   },
   "outputs": [],
   "source": [
    "# Global Var\n",
    "OPT_PARAMS_1 = {'n_estimators': N_ESTIMATORS, 'colsample_bytree': 0.668, 'min_child_samples': 150, 'min_child_weight': 1, 'num_leaves': 90,  'reg_alpha': 0, 'reg_lambda': 0, 'subsample': 0.87}\n",
    "OPT_PARAMS_2 = {'n_estimators': N_ESTIMATORS, 'colsample_bytree': 0.668, 'min_child_samples': 190, 'min_child_weight': 1, 'num_leaves': 100, 'reg_alpha': 0, 'reg_lambda': 0, 'subsample': 0.87}"
   ]
  },
  {
   "cell_type": "markdown",
   "metadata": {
    "papermill": {
     "duration": 0.028105,
     "end_time": "2021-01-23T14:20:30.675232",
     "exception": false,
     "start_time": "2021-01-23T14:20:30.647127",
     "status": "completed"
    },
    "tags": []
   },
   "source": [
    "# Create clf from the best params"
   ]
  },
  {
   "cell_type": "code",
   "execution_count": 15,
   "metadata": {
    "execution": {
     "iopub.execute_input": "2021-01-23T14:20:30.733135Z",
     "iopub.status.busy": "2021-01-23T14:20:30.732310Z",
     "iopub.status.idle": "2021-01-23T14:20:30.741127Z",
     "shell.execute_reply": "2021-01-23T14:20:30.741733Z"
    },
    "papermill": {
     "duration": 0.0394,
     "end_time": "2021-01-23T14:20:30.741873",
     "exception": false,
     "start_time": "2021-01-23T14:20:30.702473",
     "status": "completed"
    },
    "tags": []
   },
   "outputs": [],
   "source": [
    "def create_train_lgbm (X_train, y_train, component):\n",
    "    \n",
    "    if component == 1:\n",
    "        opt_params = deepcopy (OPT_PARAMS_1)\n",
    "    else:\n",
    "        opt_params = deepcopy (OPT_PARAMS_2)\n",
    "        \n",
    "    # find #best-iterations\n",
    "    lgb_clf_1 = lgb.LGBMClassifier (**opt_params)   #;print ('X_train.shape =', X_train.shape),  ;print ('y_train.shape =', y_train.shape)\n",
    "    lgb_clf_1.fit (X_train, y_train, **FIT_PARAMS)\n",
    "\n",
    "    # refit on the #best-iterations\n",
    "    if lgb_clf_1.best_iteration_ != N_ESTIMATORS:\n",
    "        opt_params['n_estimators'] = lgb_clf_1.best_iteration_\n",
    "        lgb_clf_1  = lgb.LGBMClassifier (**opt_params)\n",
    "        lgb_clf_1.fit (X_train, y_train, **FIT_PARAMS)\n",
    "        \n",
    "    # save\n",
    "    # pickleSave (lgb_clf_1, str (model_id)+'_'+str (component)+'_lgbm.bin')\n",
    "\n",
    "    # sanity test\n",
    "    X_temp = X_train[10].reshape ((1, -1))\n",
    "    np.round (lgb_clf_1.predict (X_temp)).astype (int)\n",
    "    return lgb_clf_1"
   ]
  },
  {
   "cell_type": "code",
   "execution_count": 16,
   "metadata": {
    "execution": {
     "iopub.execute_input": "2021-01-23T14:20:30.800077Z",
     "iopub.status.busy": "2021-01-23T14:20:30.799426Z",
     "iopub.status.idle": "2021-01-23T14:20:30.807078Z",
     "shell.execute_reply": "2021-01-23T14:20:30.806473Z"
    },
    "papermill": {
     "duration": 0.037252,
     "end_time": "2021-01-23T14:20:30.807204",
     "exception": false,
     "start_time": "2021-01-23T14:20:30.769952",
     "status": "completed"
    },
    "tags": []
   },
   "outputs": [],
   "source": [
    "def getLgbs ():\n",
    "    \n",
    "    LGBS    = []\n",
    "    for model_id in range (5):\n",
    "        \n",
    "        y_train = Y_TRAIN[:, model_id]        #;print ('X_TRAIN.shape =', X_TRAIN.shape),  ;print ('y_train.shape =', y_train.shape)\n",
    "        lgbm_1  = create_train_lgbm (X_TRAIN, y_train, 1)\n",
    "        lgbm_2  = create_train_lgbm (X_TRAIN, y_train, 2)\n",
    "        LGBS.append ((lgbm_1, lgbm_2))\n",
    "\n",
    "    # save\n",
    "    pickleSave (LGBS, 'lgbs.bin')\n",
    "    return LGBS"
   ]
  },
  {
   "cell_type": "markdown",
   "metadata": {
    "papermill": {
     "duration": 0.028097,
     "end_time": "2021-01-23T14:20:30.864018",
     "exception": false,
     "start_time": "2021-01-23T14:20:30.835921",
     "status": "completed"
    },
    "tags": []
   },
   "source": [
    "# Stacking clf"
   ]
  },
  {
   "cell_type": "code",
   "execution_count": 17,
   "metadata": {
    "execution": {
     "iopub.execute_input": "2021-01-23T14:20:30.928202Z",
     "iopub.status.busy": "2021-01-23T14:20:30.927193Z",
     "iopub.status.idle": "2021-01-23T14:20:30.937365Z",
     "shell.execute_reply": "2021-01-23T14:20:30.937876Z"
    },
    "papermill": {
     "duration": 0.044058,
     "end_time": "2021-01-23T14:20:30.938049",
     "exception": false,
     "start_time": "2021-01-23T14:20:30.893991",
     "status": "completed"
    },
    "tags": []
   },
   "outputs": [],
   "source": [
    "def getSclfs ():\n",
    "    \n",
    "    SCLFS = []\n",
    "    for model_id in range (1):\n",
    "\n",
    "        sclf = StackingClassifier (classifiers=LGBS[model_id], fit_base_estimators=False, \n",
    "                                   use_probas=True, average_probas=False, \n",
    "                                   meta_classifier=Best_clf_cv_transformer ({ 'name': 'LSvc',  'params': {'penalty': 'l2', 'class_weight': 'balanced'}, 'param_grid': {'C' : [0.01, 0.05, 0.1, 1]} }) )\n",
    "        sclf.name = 'sclf_' + str (model_id)\n",
    "        y_train   = Y_TRAIN[:, model_id]\n",
    "        sclf.fit (X_TRAIN, y_train)\n",
    "        SCLFS.append (sclf)\n",
    "\n",
    "    # save\n",
    "    pickleSave (SCLFS, 'sclfs.bin')\n",
    "\n",
    "    # sanity test\n",
    "    X_temp = X_TRAIN[10].reshape ((1, -1))\n",
    "    np.round (SCLFS[0].predict (X_temp)).astype (int)\n",
    "    return SCLFS"
   ]
  },
  {
   "cell_type": "code",
   "execution_count": 18,
   "metadata": {
    "execution": {
     "iopub.execute_input": "2021-01-23T14:20:30.998207Z",
     "iopub.status.busy": "2021-01-23T14:20:30.997485Z",
     "iopub.status.idle": "2021-01-23T14:20:31.000946Z",
     "shell.execute_reply": "2021-01-23T14:20:31.000344Z"
    },
    "papermill": {
     "duration": 0.035277,
     "end_time": "2021-01-23T14:20:31.001065",
     "exception": false,
     "start_time": "2021-01-23T14:20:30.965788",
     "status": "completed"
    },
    "tags": []
   },
   "outputs": [],
   "source": [
    "# Global Vars, Calling training\n",
    "# LGBS  = getLgbs ()\n",
    "# SCLFS = getSclfs ()"
   ]
  },
  {
   "cell_type": "code",
   "execution_count": 19,
   "metadata": {
    "execution": {
     "iopub.execute_input": "2021-01-23T14:20:31.060550Z",
     "iopub.status.busy": "2021-01-23T14:20:31.059852Z",
     "iopub.status.idle": "2021-01-23T14:20:36.161508Z",
     "shell.execute_reply": "2021-01-23T14:20:36.160795Z"
    },
    "papermill": {
     "duration": 5.133188,
     "end_time": "2021-01-23T14:20:36.161666",
     "exception": false,
     "start_time": "2021-01-23T14:20:31.028478",
     "status": "completed"
    },
    "tags": []
   },
   "outputs": [],
   "source": [
    "# use pre trained models\n",
    "LGBS  = unpickle ('../input/janelgbmstackedlsvc-1/lgbs.bin')\n",
    "SCLFS = unpickle ('../input/janelgbmstackedlsvc-1/sclfs.bin')"
   ]
  },
  {
   "cell_type": "markdown",
   "metadata": {
    "papermill": {
     "duration": 0.037019,
     "end_time": "2021-01-23T14:20:36.234761",
     "exception": false,
     "start_time": "2021-01-23T14:20:36.197742",
     "status": "completed"
    },
    "tags": []
   },
   "source": [
    "# Predict for X_test"
   ]
  },
  {
   "cell_type": "code",
   "execution_count": 20,
   "metadata": {
    "execution": {
     "iopub.execute_input": "2021-01-23T14:20:36.319630Z",
     "iopub.status.busy": "2021-01-23T14:20:36.318685Z",
     "iopub.status.idle": "2021-01-23T14:20:36.322226Z",
     "shell.execute_reply": "2021-01-23T14:20:36.322898Z"
    },
    "papermill": {
     "duration": 0.050923,
     "end_time": "2021-01-23T14:20:36.323074",
     "exception": false,
     "start_time": "2021-01-23T14:20:36.272151",
     "status": "completed"
    },
    "tags": []
   },
   "outputs": [],
   "source": [
    "def compute_metrics (labels, pred_pr):\n",
    "    \n",
    "    y_pred  = (pred_pr >= 0.50).astype (int)        # ;print ('labels.shape=', labels.shape, 'pr_pred.shape=', pr_pred.shape, 'y_pred.shape=', y_pred.shape)\n",
    "    precision, recall, f1, _ = precision_recall_fscore_support (labels, y_pred, average='macro')\n",
    "    acc     = accuracy_score (labels, y_pred)\n",
    "    mcc     = matthews_corrcoef (labels, y_pred)   # matthews correlation coefficient\n",
    "    auc     = roc_auc_score (labels, pred_pr)\n",
    "    metrics = {\n",
    "        'mcc'      : mcc,\n",
    "        'accuracy' : acc,\n",
    "        'f1'       : f1,\n",
    "        'precision': precision,\n",
    "        'recall'   : recall,\n",
    "        'auc'      : auc\n",
    "    }\n",
    "    return metrics"
   ]
  },
  {
   "cell_type": "code",
   "execution_count": 21,
   "metadata": {
    "execution": {
     "iopub.execute_input": "2021-01-23T14:20:36.395646Z",
     "iopub.status.busy": "2021-01-23T14:20:36.394797Z",
     "iopub.status.idle": "2021-01-23T14:20:36.755966Z",
     "shell.execute_reply": "2021-01-23T14:20:36.755107Z"
    },
    "papermill": {
     "duration": 0.399073,
     "end_time": "2021-01-23T14:20:36.756113",
     "exception": false,
     "start_time": "2021-01-23T14:20:36.357040",
     "status": "completed"
    },
    "tags": []
   },
   "outputs": [
    {
     "ename": "ValueError",
     "evalue": "Classification metrics can't handle a mix of multilabel-indicator and binary targets",
     "output_type": "error",
     "traceback": [
      "\u001b[0;31m---------------------------------------------------------------------------\u001b[0m",
      "\u001b[0;31mValueError\u001b[0m                                Traceback (most recent call last)",
      "\u001b[0;32m<ipython-input-21-7e707b906a55>\u001b[0m in \u001b[0;36m<module>\u001b[0;34m\u001b[0m\n\u001b[1;32m     16\u001b[0m \u001b[0;31m# eval the prediction\u001b[0m\u001b[0;34m\u001b[0m\u001b[0;34m\u001b[0m\u001b[0;34m\u001b[0m\u001b[0m\n\u001b[1;32m     17\u001b[0m \u001b[0mpred_pr\u001b[0m \u001b[0;34m=\u001b[0m \u001b[0mpredict\u001b[0m \u001b[0;34m(\u001b[0m\u001b[0mX_TEST\u001b[0m\u001b[0;34m,\u001b[0m \u001b[0;32mTrue\u001b[0m\u001b[0;34m)\u001b[0m\u001b[0;34m[\u001b[0m\u001b[0;36m1\u001b[0m\u001b[0;34m]\u001b[0m\u001b[0;34m\u001b[0m\u001b[0;34m\u001b[0m\u001b[0m\n\u001b[0;32m---> 18\u001b[0;31m \u001b[0mcompute_metrics\u001b[0m \u001b[0;34m(\u001b[0m\u001b[0mY_TEST\u001b[0m\u001b[0;34m,\u001b[0m \u001b[0mpred_pr\u001b[0m\u001b[0;34m)\u001b[0m\u001b[0;34m\u001b[0m\u001b[0;34m\u001b[0m\u001b[0m\n\u001b[0m",
      "\u001b[0;32m<ipython-input-20-66e49a394dcd>\u001b[0m in \u001b[0;36mcompute_metrics\u001b[0;34m(labels, pred_pr)\u001b[0m\n\u001b[1;32m      2\u001b[0m \u001b[0;34m\u001b[0m\u001b[0m\n\u001b[1;32m      3\u001b[0m     \u001b[0my_pred\u001b[0m  \u001b[0;34m=\u001b[0m \u001b[0;34m(\u001b[0m\u001b[0mpred_pr\u001b[0m \u001b[0;34m>=\u001b[0m \u001b[0;36m0.50\u001b[0m\u001b[0;34m)\u001b[0m\u001b[0;34m.\u001b[0m\u001b[0mastype\u001b[0m \u001b[0;34m(\u001b[0m\u001b[0mint\u001b[0m\u001b[0;34m)\u001b[0m        \u001b[0;31m# ;print ('labels.shape=', labels.shape, 'pr_pred.shape=', pr_pred.shape, 'y_pred.shape=', y_pred.shape)\u001b[0m\u001b[0;34m\u001b[0m\u001b[0;34m\u001b[0m\u001b[0m\n\u001b[0;32m----> 4\u001b[0;31m     \u001b[0mprecision\u001b[0m\u001b[0;34m,\u001b[0m \u001b[0mrecall\u001b[0m\u001b[0;34m,\u001b[0m \u001b[0mf1\u001b[0m\u001b[0;34m,\u001b[0m \u001b[0m_\u001b[0m \u001b[0;34m=\u001b[0m \u001b[0mprecision_recall_fscore_support\u001b[0m \u001b[0;34m(\u001b[0m\u001b[0mlabels\u001b[0m\u001b[0;34m,\u001b[0m \u001b[0my_pred\u001b[0m\u001b[0;34m,\u001b[0m \u001b[0maverage\u001b[0m\u001b[0;34m=\u001b[0m\u001b[0;34m'macro'\u001b[0m\u001b[0;34m)\u001b[0m\u001b[0;34m\u001b[0m\u001b[0;34m\u001b[0m\u001b[0m\n\u001b[0m\u001b[1;32m      5\u001b[0m     \u001b[0macc\u001b[0m     \u001b[0;34m=\u001b[0m \u001b[0maccuracy_score\u001b[0m \u001b[0;34m(\u001b[0m\u001b[0mlabels\u001b[0m\u001b[0;34m,\u001b[0m \u001b[0my_pred\u001b[0m\u001b[0;34m)\u001b[0m\u001b[0;34m\u001b[0m\u001b[0;34m\u001b[0m\u001b[0m\n\u001b[1;32m      6\u001b[0m     \u001b[0mmcc\u001b[0m     \u001b[0;34m=\u001b[0m \u001b[0mmatthews_corrcoef\u001b[0m \u001b[0;34m(\u001b[0m\u001b[0mlabels\u001b[0m\u001b[0;34m,\u001b[0m \u001b[0my_pred\u001b[0m\u001b[0;34m)\u001b[0m   \u001b[0;31m# matthews correlation coefficient\u001b[0m\u001b[0;34m\u001b[0m\u001b[0;34m\u001b[0m\u001b[0m\n",
      "\u001b[0;32m/opt/conda/lib/python3.7/site-packages/sklearn/utils/validation.py\u001b[0m in \u001b[0;36minner_f\u001b[0;34m(*args, **kwargs)\u001b[0m\n\u001b[1;32m     70\u001b[0m                           FutureWarning)\n\u001b[1;32m     71\u001b[0m         \u001b[0mkwargs\u001b[0m\u001b[0;34m.\u001b[0m\u001b[0mupdate\u001b[0m\u001b[0;34m(\u001b[0m\u001b[0;34m{\u001b[0m\u001b[0mk\u001b[0m\u001b[0;34m:\u001b[0m \u001b[0marg\u001b[0m \u001b[0;32mfor\u001b[0m \u001b[0mk\u001b[0m\u001b[0;34m,\u001b[0m \u001b[0marg\u001b[0m \u001b[0;32min\u001b[0m \u001b[0mzip\u001b[0m\u001b[0;34m(\u001b[0m\u001b[0msig\u001b[0m\u001b[0;34m.\u001b[0m\u001b[0mparameters\u001b[0m\u001b[0;34m,\u001b[0m \u001b[0margs\u001b[0m\u001b[0;34m)\u001b[0m\u001b[0;34m}\u001b[0m\u001b[0;34m)\u001b[0m\u001b[0;34m\u001b[0m\u001b[0;34m\u001b[0m\u001b[0m\n\u001b[0;32m---> 72\u001b[0;31m         \u001b[0;32mreturn\u001b[0m \u001b[0mf\u001b[0m\u001b[0;34m(\u001b[0m\u001b[0;34m**\u001b[0m\u001b[0mkwargs\u001b[0m\u001b[0;34m)\u001b[0m\u001b[0;34m\u001b[0m\u001b[0;34m\u001b[0m\u001b[0m\n\u001b[0m\u001b[1;32m     73\u001b[0m     \u001b[0;32mreturn\u001b[0m \u001b[0minner_f\u001b[0m\u001b[0;34m\u001b[0m\u001b[0;34m\u001b[0m\u001b[0m\n\u001b[1;32m     74\u001b[0m \u001b[0;34m\u001b[0m\u001b[0m\n",
      "\u001b[0;32m/opt/conda/lib/python3.7/site-packages/sklearn/metrics/_classification.py\u001b[0m in \u001b[0;36mprecision_recall_fscore_support\u001b[0;34m(y_true, y_pred, beta, labels, pos_label, average, warn_for, sample_weight, zero_division)\u001b[0m\n\u001b[1;32m   1432\u001b[0m         \u001b[0;32mraise\u001b[0m \u001b[0mValueError\u001b[0m\u001b[0;34m(\u001b[0m\u001b[0;34m\"beta should be >=0 in the F-beta score\"\u001b[0m\u001b[0;34m)\u001b[0m\u001b[0;34m\u001b[0m\u001b[0;34m\u001b[0m\u001b[0m\n\u001b[1;32m   1433\u001b[0m     labels = _check_set_wise_labels(y_true, y_pred, average, labels,\n\u001b[0;32m-> 1434\u001b[0;31m                                     pos_label)\n\u001b[0m\u001b[1;32m   1435\u001b[0m \u001b[0;34m\u001b[0m\u001b[0m\n\u001b[1;32m   1436\u001b[0m     \u001b[0;31m# Calculate tp_sum, pred_sum, true_sum ###\u001b[0m\u001b[0;34m\u001b[0m\u001b[0;34m\u001b[0m\u001b[0;34m\u001b[0m\u001b[0m\n",
      "\u001b[0;32m/opt/conda/lib/python3.7/site-packages/sklearn/metrics/_classification.py\u001b[0m in \u001b[0;36m_check_set_wise_labels\u001b[0;34m(y_true, y_pred, average, labels, pos_label)\u001b[0m\n\u001b[1;32m   1248\u001b[0m                          str(average_options))\n\u001b[1;32m   1249\u001b[0m \u001b[0;34m\u001b[0m\u001b[0m\n\u001b[0;32m-> 1250\u001b[0;31m     \u001b[0my_type\u001b[0m\u001b[0;34m,\u001b[0m \u001b[0my_true\u001b[0m\u001b[0;34m,\u001b[0m \u001b[0my_pred\u001b[0m \u001b[0;34m=\u001b[0m \u001b[0m_check_targets\u001b[0m\u001b[0;34m(\u001b[0m\u001b[0my_true\u001b[0m\u001b[0;34m,\u001b[0m \u001b[0my_pred\u001b[0m\u001b[0;34m)\u001b[0m\u001b[0;34m\u001b[0m\u001b[0;34m\u001b[0m\u001b[0m\n\u001b[0m\u001b[1;32m   1251\u001b[0m     \u001b[0mpresent_labels\u001b[0m \u001b[0;34m=\u001b[0m \u001b[0munique_labels\u001b[0m\u001b[0;34m(\u001b[0m\u001b[0my_true\u001b[0m\u001b[0;34m,\u001b[0m \u001b[0my_pred\u001b[0m\u001b[0;34m)\u001b[0m\u001b[0;34m\u001b[0m\u001b[0;34m\u001b[0m\u001b[0m\n\u001b[1;32m   1252\u001b[0m     \u001b[0;32mif\u001b[0m \u001b[0maverage\u001b[0m \u001b[0;34m==\u001b[0m \u001b[0;34m'binary'\u001b[0m\u001b[0;34m:\u001b[0m\u001b[0;34m\u001b[0m\u001b[0;34m\u001b[0m\u001b[0m\n",
      "\u001b[0;32m/opt/conda/lib/python3.7/site-packages/sklearn/metrics/_classification.py\u001b[0m in \u001b[0;36m_check_targets\u001b[0;34m(y_true, y_pred)\u001b[0m\n\u001b[1;32m     89\u001b[0m     \u001b[0;32mif\u001b[0m \u001b[0mlen\u001b[0m\u001b[0;34m(\u001b[0m\u001b[0my_type\u001b[0m\u001b[0;34m)\u001b[0m \u001b[0;34m>\u001b[0m \u001b[0;36m1\u001b[0m\u001b[0;34m:\u001b[0m\u001b[0;34m\u001b[0m\u001b[0;34m\u001b[0m\u001b[0m\n\u001b[1;32m     90\u001b[0m         raise ValueError(\"Classification metrics can't handle a mix of {0} \"\n\u001b[0;32m---> 91\u001b[0;31m                          \"and {1} targets\".format(type_true, type_pred))\n\u001b[0m\u001b[1;32m     92\u001b[0m \u001b[0;34m\u001b[0m\u001b[0m\n\u001b[1;32m     93\u001b[0m     \u001b[0;31m# We can't have more than one value on y_type => The set is no more needed\u001b[0m\u001b[0;34m\u001b[0m\u001b[0;34m\u001b[0m\u001b[0;34m\u001b[0m\u001b[0m\n",
      "\u001b[0;31mValueError\u001b[0m: Classification metrics can't handle a mix of multilabel-indicator and binary targets"
     ]
    }
   ],
   "source": [
    "def predict (X_test, isRetProb=False):\n",
    "    \n",
    "    y_pred = []\n",
    "    for sclf in SCLFS:\n",
    "        y = sclf.predict_proba (X_test)[:, 1].reshape ((-1, 1))\n",
    "        y_pred.append (y)\n",
    "        \n",
    "    y_pred  = np.concatenate (y_pred, axis=1)    #;print ('y_pred.shape =', y_pred.shape, 'X_test.shape =', X_test.shape)\n",
    "    pred_pr = np.median (y_pred, axis=1)         #;print ('pred_pr.shape =', pred_pr.shape, 'pred_pr =', pred_pr) \n",
    "    y_pred  = (pred_pr >= 0.50).astype (int)\n",
    "    if isRetProb:\n",
    "        return y_pred, pred_pr\n",
    "    else:\n",
    "        return y_pred\n",
    "\n",
    "# eval the prediction\n",
    "pred_pr = predict (X_TEST, True)[1]\n",
    "compute_metrics (Y_TEST, pred_pr)"
   ]
  },
  {
   "cell_type": "markdown",
   "metadata": {
    "papermill": {
     "duration": 0.02881,
     "end_time": "2021-01-23T14:20:36.818230",
     "exception": false,
     "start_time": "2021-01-23T14:20:36.789420",
     "status": "completed"
    },
    "tags": []
   },
   "source": [
    "# Test"
   ]
  },
  {
   "cell_type": "code",
   "execution_count": 22,
   "metadata": {
    "execution": {
     "iopub.execute_input": "2021-01-23T14:20:36.879124Z",
     "iopub.status.busy": "2021-01-23T14:20:36.878299Z",
     "iopub.status.idle": "2021-01-23T14:20:36.912686Z",
     "shell.execute_reply": "2021-01-23T14:20:36.913274Z"
    },
    "papermill": {
     "duration": 0.067492,
     "end_time": "2021-01-23T14:20:36.913426",
     "exception": false,
     "start_time": "2021-01-23T14:20:36.845934",
     "status": "completed"
    },
    "tags": []
   },
   "outputs": [],
   "source": [
    "import janestreet\n",
    "env      = janestreet.make_env () # initialize the environment\n",
    "env_iter = env.iter_test ()       # an iterator which loops over the test set"
   ]
  },
  {
   "cell_type": "markdown",
   "metadata": {
    "papermill": {
     "duration": 0.028786,
     "end_time": "2021-01-23T14:20:36.970262",
     "exception": false,
     "start_time": "2021-01-23T14:20:36.941476",
     "status": "completed"
    },
    "tags": []
   },
   "source": [
    "# For direct submission, without using the Trainer class"
   ]
  },
  {
   "cell_type": "code",
   "execution_count": 23,
   "metadata": {
    "execution": {
     "iopub.execute_input": "2021-01-23T14:20:37.043381Z",
     "iopub.status.busy": "2021-01-23T14:20:37.042570Z",
     "iopub.status.idle": "2021-01-23T14:26:02.234610Z",
     "shell.execute_reply": "2021-01-23T14:26:02.235142Z"
    },
    "papermill": {
     "duration": 325.235303,
     "end_time": "2021-01-23T14:26:02.235338",
     "exception": false,
     "start_time": "2021-01-23T14:20:37.000035",
     "status": "completed"
    },
    "tags": []
   },
   "outputs": [],
   "source": [
    "for test_df, pred_df in env_iter:\n",
    "    if test_df[\"weight\"].item () > 0:\n",
    "        \n",
    "        test_df.drop (columns=['weight', 'date'], inplace=True)\n",
    "        test_df.reset_index (drop=True, inplace=True)\n",
    "        test_df        = preprocess_pipe.transform (test_df)        \n",
    "        predictions    = predict (test_df)\n",
    "        pred_df.action = predictions\n",
    "    else:\n",
    "        pred_df.action = 0\n",
    "        \n",
    "    # print (pred_df)\n",
    "    # print (\"--------------\")\n",
    "    env.predict (pred_df)"
   ]
  },
  {
   "cell_type": "code",
   "execution_count": 24,
   "metadata": {
    "execution": {
     "iopub.execute_input": "2021-01-23T14:26:02.311019Z",
     "iopub.status.busy": "2021-01-23T14:26:02.309344Z",
     "iopub.status.idle": "2021-01-23T14:26:02.313613Z",
     "shell.execute_reply": "2021-01-23T14:26:02.314143Z"
    },
    "papermill": {
     "duration": 0.048891,
     "end_time": "2021-01-23T14:26:02.314299",
     "exception": false,
     "start_time": "2021-01-23T14:26:02.265408",
     "status": "completed"
    },
    "tags": []
   },
   "outputs": [
    {
     "name": "stdout",
     "output_type": "stream",
     "text": [
      "Done !\n"
     ]
    }
   ],
   "source": [
    "print ('Done !')"
   ]
  },
  {
   "cell_type": "code",
   "execution_count": null,
   "metadata": {
    "papermill": {
     "duration": 0.029812,
     "end_time": "2021-01-23T14:26:02.376034",
     "exception": false,
     "start_time": "2021-01-23T14:26:02.346222",
     "status": "completed"
    },
    "tags": []
   },
   "outputs": [],
   "source": []
  }
 ],
 "metadata": {
  "kernelspec": {
   "display_name": "Python 3",
   "language": "python",
   "name": "python3"
  },
  "language_info": {
   "codemirror_mode": {
    "name": "ipython",
    "version": 3
   },
   "file_extension": ".py",
   "mimetype": "text/x-python",
   "name": "python",
   "nbconvert_exporter": "python",
   "pygments_lexer": "ipython3",
   "version": "3.7.6"
  },
  "papermill": {
   "duration": 518.137497,
   "end_time": "2021-01-23T14:26:03.599618",
   "environment_variables": {},
   "exception": null,
   "input_path": "__notebook__.ipynb",
   "output_path": "__notebook__.ipynb",
   "parameters": {},
   "start_time": "2021-01-23T14:17:25.462121",
   "version": "2.1.0"
  }
 },
 "nbformat": 4,
 "nbformat_minor": 4
}
